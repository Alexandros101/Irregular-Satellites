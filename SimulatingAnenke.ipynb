{
 "cells": [
  {
   "cell_type": "code",
   "execution_count": 1,
   "metadata": {},
   "outputs": [],
   "source": [
    "import numpy as np\n",
    "import pandas as pd\n",
    "import spiceypy as spice\n",
    "import numpy as np\n",
    "import matplotlib.pyplot as plt\n",
    "import astropy.units as u\n",
    "from astropy.constants import c\n",
    "from astropy.time import Time\n",
    "from astroquery.jplhorizons import Horizons\n",
    "import rebound"
   ]
  },
  {
   "cell_type": "code",
   "execution_count": 2,
   "metadata": {},
   "outputs": [],
   "source": [
    "def Furnisher():\n",
    "    '''\n",
    "    This function is used to load all kernels needed in an operation.\n",
    "    Comment out kernels not in use and add the ones in use.\n",
    "    \n",
    "    Arguments: NA\n",
    "    Returns: NA\n",
    "    \n",
    "    '''\n",
    "    spice.kclear()\n",
    "    spice.furnsh('/Users/user/Downloads/naif0009.tls.txt')\n",
    "    #spice.furnsh('/Users/user/Downloads/cas00084.tsc.txt')\n",
    "    #spice.furnsh('/Users/user/Downloads/cpck05Mar2004.tpc.txt')\n",
    "    #spice.furnsh('/Users/user/Downloads/020514_SE_SAT105.bsp')\n",
    "    #spice.furnsh('/Users/user/Downloads/981005_PLTEPH-DE405S.bsp')\n",
    "    #spice.furnsh('/Users/user/Downloads/030201AP_SK_SM546_T45.bsp')\n",
    "    #spice.furnsh('/Users/user/Downloads/04135_04171pc_psiv2.bc')\n",
    "    #spice.furnsh('/Users/user/Downloads/cas_v37.tf.txt')\n",
    "    #spice.furnsh('/Users/user/Downloads/cas_iss_v09.ti.txt')\n",
    "    #spice.furnsh('/Users/user/Downloads/jup310.bsp')\n",
    "    #spice.furnsh('/Users/user/Downloads/jup341.bsp')\n",
    "    spice.furnsh('/Users/user/Downloads/de432s.bsp')\n",
    "    pass"
   ]
  },
  {
   "cell_type": "code",
   "execution_count": 3,
   "metadata": {},
   "outputs": [],
   "source": [
    "Furnisher()"
   ]
  },
  {
   "cell_type": "code",
   "execution_count": 4,
   "metadata": {},
   "outputs": [],
   "source": [
    "def get_spice_function(name,cor,loc):\n",
    "    \"\"\"\n",
    "    This wrapper function automates the creation of objects through the JPL Horizons database. \n",
    "    \n",
    "    Arguments:\n",
    "    \n",
    "    name: str\n",
    "    \n",
    "    Stipulates the target object in Horizons. The major bodies in the Solar System have an id based on their position.\n",
    "    Hence '5' refers to Jupiter and '3' to Earth. A single number designator refers to a barycenter and a designator\n",
    "    such as '599' to the planetary center. For minor bodies in the Solar System, the id_type in the Horizons\n",
    "    must be changed to \"minorbody\"\n",
    "    \n",
    "    cor: str\n",
    "    \n",
    "    Refers to the type of correction that the object has. Available arguments are 'NONE', 'LT','LT+S'\n",
    "    \n",
    "    loc: str\n",
    "    \n",
    "    Designates the location of observation. Names that start with \"g@#\" refer to barycenters where the number designates the \n",
    "    body that the observer is based at. Hence \"g@0\" refers to the Solar System barycenter. Also takes Earth location designators.\n",
    "    Observatories are named after their code. Hence, Pan-Starrs observatory is referred as \"f51\"\n",
    "\n",
    "    Returns:\n",
    "    \n",
    "    get_target_xyz function\n",
    "    \"\"\"    \n",
    "    def get_target_xyz(t):\n",
    "        \"\"\"\n",
    "        Returns the vectors of the Horizons body at a certain time t.\n",
    "        \n",
    "        Arguments:\n",
    "        \n",
    "        t: days\n",
    "        \n",
    "        Julian date of observation\n",
    "        \n",
    "        Returns:\n",
    "    \n",
    "        xyz: numpy array\n",
    "        \n",
    "        A position vector of the observed object\n",
    "    \n",
    "        uvw: numpy array\n",
    "        \n",
    "        An instantaneous velocity vector of the observed object\n",
    "        \n",
    "        radec: numpy array\n",
    "        \n",
    "        The right ascension and declination of the observed object\n",
    "        \"\"\"\n",
    "        \n",
    "        state,lighttime = spice.spkezr(name,t,'J2000',cor,loc)\n",
    "        pos,lighttime = spice.spkpos(name,t,'J2000',cor,loc)\n",
    "        range,ra,dec = spice.recrad(pos) \n",
    "        xyz = np.array([state[0],state[1],state[2]])/149597870.7#6.68459e-9\n",
    "        uvw = np.array([state[3],state[4],state[5]])/149597870.7*24.*3600.#*6.68459e-9\n",
    "        radec = np.array([ra,dec])\n",
    "        return xyz,uvw,radec*180/np.pi\n",
    "    return get_target_xyz"
   ]
  },
  {
   "cell_type": "code",
   "execution_count": null,
   "metadata": {},
   "outputs": [],
   "source": []
  },
  {
   "cell_type": "markdown",
   "metadata": {},
   "source": [
    "Starting the simulation"
   ]
  },
  {
   "cell_type": "code",
   "execution_count": 13,
   "metadata": {},
   "outputs": [],
   "source": [
    "mj = 0.0009547919101638659#*0.9997929968806782\n",
    "me = 3.0034896147890027e-06\n",
    "mv = 2.4478382877865672e-06\n",
    "mars = 3.2271560375546917e-07\n",
    "mm = 1.6601141530544803e-07\n",
    "ms = 0.00028588567270480304\n",
    "mur = 4.3662496626890934e-05\n",
    "mnept = 5.1513837726215274e-05\n",
    "mio = 4.490855574220279e-08\n",
    "meur = 2.4132928417702382e-08\n",
    "mga = 7.450560006788226e-08\n",
    "mcal = 5.409669859576579e-08\n",
    "man = 0\n",
    "mpl = 7.350487833457728e-09"
   ]
  },
  {
   "cell_type": "code",
   "execution_count": 6,
   "metadata": {},
   "outputs": [],
   "source": [
    "def SimStart(bsolar,msolar,iJovian):\n",
    "    t = 140961664.18440723\n",
    "    sim = rebound.Simulation()\n",
    "    k = 0.0172020989484\n",
    "    sim.G = k**2\n",
    "    sim.units = ('d', 'AU', 'Msun')\n",
    "    get_sun = get_spice_function('Sun','NONE','SOLAR SYSTEM BARYCENTER')\n",
    "    xyz,uvw,radec = get_sun(t) #Adding the Sun\n",
    "    xyz = xyz\n",
    "    uvw = (uvw*24*3600)\n",
    "    sim.add(m=1,x=xyz[0],y=xyz[1],z=xyz[2],vx=uvw[0],vy=uvw[1],vz=uvw[2])\n",
    "    for i in range(0,len(bsolar)):\n",
    "        get_planet = get_spice_function(bsolar[i],'NONE','SOLAR SYSTEM BARYCENTER')\n",
    "        xyz,uvw,radec = get_planet(t) #Adding Jupiter\n",
    "        xyz = xyz\n",
    "        uvw = (uvw*24*3600)\n",
    "        sim.add(m=msolar[i],x=xyz[0],y=xyz[1],z=xyz[2],vx=uvw[0],vy=uvw[1],vz=uvw[2])\n",
    "    ps = sim.particles\n",
    "    for j in range(1,len(ps)):\n",
    "        if j not in iJovian:\n",
    "            print(ps[j].calculate_orbit(primary=ps[0]))\n",
    "        else:\n",
    "            print(ps[j].calculate_orbit(primary=ps[bsolar.index('5')+1]))\n",
    "    print(sim.calculate_com())\n",
    "    return ps,sim"
   ]
  },
  {
   "cell_type": "code",
   "execution_count": 7,
   "metadata": {},
   "outputs": [],
   "source": [
    "def SimStart2(bsolar,msolar,iJovian):\n",
    "    t = 140961664.18440723\n",
    "    sim = rebound.Simulation()\n",
    "    k = 0.0172020989484\n",
    "    sim.G = k**2\n",
    "    delta = 1.e-6\n",
    "    #sim.units = ('d', 'AU', 'Msun')\n",
    "    #sim.G *= (1+delta)\n",
    "    #get_sun = geta_spice_function('Sun','NONE','SOLAR SYSTEM BARYCENTER')\n",
    "    #xyz,uvw,radec = get_sun(t) #Adding the Sun\n",
    "    #xyz = xyz\n",
    "    #uvw = (uvw*24*3600)\n",
    "    sim.add(m=1.)#+delta)#,x=xyz[0],y=xyz[1],z=xyz[2],vx=uvw[0],vy=uvw[1],vz=uvw[2])\n",
    "    for i in range(0,len(bsolar)):\n",
    "        get_planet = get_spice_function(bsolar[i],'NONE','SUN')\n",
    "        xyz,uvw,radec = get_planet(t) #Adding Jupiter\n",
    "        xyz = xyz\n",
    "        #uvw = (uvw*24*3600)\n",
    "        sim.add(m=msolar[i],x=xyz[0],y=xyz[1],z=xyz[2],vx=uvw[0],vy=uvw[1],vz=uvw[2])\n",
    "    ps = sim.particles\n",
    "    for j in range(1,len(ps)):\n",
    "        if j not in iJovian:\n",
    "            print(ps[j].calculate_orbit(primary=ps[0]))\n",
    "        else:\n",
    "            print(ps[j].calculate_orbit(primary=ps[bsolar.index('Jupiter')+1]))\n",
    "    sim.move_to_com()\n",
    "    return ps,sim"
   ]
  },
  {
   "cell_type": "code",
   "execution_count": 8,
   "metadata": {},
   "outputs": [],
   "source": [
    "def Integrator(bsolar,msolar,iJovian,body1,body2):\n",
    "    ps,sim = SimStart2(bsolar,msolar,iJovian)\n",
    "    xm = []\n",
    "    ym = []\n",
    "    Nout = 100\n",
    "    year = 365.25 # days\n",
    "    day = 86400 # s\n",
    "    tmax = 20*year\n",
    "    t0 = 140961664.18440723\n",
    "    times = np.linspace(0, tmax, Nout) # days\n",
    "    x = np.zeros((len(bsolar)+1,Nout))\n",
    "    y = np.zeros((len(bsolar)+1,Nout))\n",
    "    get_ear_an = get_spice_function(body1,'NONE',body2)\n",
    "    for i, time in enumerate(times):\n",
    "        tspice = t0 + time*day\n",
    "        sim.integrate(time)\n",
    "        for j in range(0,len(bsolar)+1):\n",
    "            x[j][i] = ps[j].x   # This stores the data which allows us to plot it later\n",
    "            y[j][i] = ps[j].y\n",
    "        xyz,uvw,radec = get_ear_an(tspice)\n",
    "        xm.append(xyz[0])\n",
    "        ym.append(xyz[1])\n",
    "    return x,y,xm,ym,times"
   ]
  },
  {
   "cell_type": "code",
   "execution_count": 9,
   "metadata": {},
   "outputs": [],
   "source": [
    "def ErrorSource(bsolar,mass,iJovian,b1,b2):\n",
    "    x,y,xm,ym,times = Integrator(bsolar,mass,iJovian,b1,b2)\n",
    "    if b2 == 'Sun':\n",
    "        temp = 0\n",
    "    else:\n",
    "        temp = bsolar.index(b2)+1\n",
    "    dist1 = x[bsolar.index(b1)+1] - x[temp]\n",
    "    dist2 = y[bsolar.index(b1)+1] - y[temp]\n",
    "    return np.array(dist1-xm),np.array(dist2-ym),times"
   ]
  },
  {
   "cell_type": "code",
   "execution_count": 14,
   "metadata": {},
   "outputs": [
    {
     "name": "stdout",
     "output_type": "stream",
     "text": [
      "<rebound.Orbit instance, a=0.38709795119469304 e=0.2056285335710145 inc=0.4983341099393045 Omega=0.1917498921647802 omega=1.179347716774394 f=0.3080904323249145>\n",
      "<rebound.Orbit instance, a=0.723337213220824 e=0.006766025160509869 inc=0.42644832507712654 Omega=0.13974876528198202 omega=2.1696934994542 f=-3.7581884223999396>\n",
      "<rebound.Orbit instance, a=0.9999913460493015 e=0.01672744024734996 inc=0.40908216131959535 Omega=-2.6488883546935366e-07 omega=1.7951250439851796 f=-3.3841932191778605>\n",
      "<rebound.Orbit instance, a=1.523690523786109 e=0.093482476945803 inc=0.4306991264829893 Omega=0.05884538400190411 omega=-0.47160688556116825 f=2.7671124764358352>\n",
      "<rebound.Orbit instance, a=5.201831942113269 e=0.04896258392378663 inc=0.4055249425403674 Omega=0.05673850238753814 omega=0.20558620087091428 f=2.7466395941979718>\n",
      "<rebound.Orbit instance, a=9.574045777399872 e=0.05669161450655823 inc=0.3936038664415947 Omega=0.10380372362676818 omega=1.548990119753545 f=0.20681656003447002>\n",
      "<rebound.Orbit instance, a=19.131891436082277 e=0.05010369968310747 inc=0.41302670351827997 Omega=0.03224502271670418 omega=2.942844860104165 f=-3.425974619229246>\n",
      "<rebound.Orbit instance, a=29.97190734131742 e=0.00837578311142373 inc=0.38913254717824963 Omega=0.060802695199403366 omega=1.1181385470459733 f=-1.9831672369621849>\n",
      "<rebound.Orbit instance, a=39.56409684969614 e=0.25122390276592665 inc=0.40958945988491113 Omega=0.7683675010004622 omega=-3.088818049130789 f=0.6291160607087125>\n"
     ]
    }
   ],
   "source": [
    "xerr,yerr,times = ErrorSource(['1','2','3','4','5','6','7','8','9'],[mm,mv,me,mars,mj,ms,mur,mnept,mpl,mio,meur,mga,mcal,man],[10,11,12,13,14],'5','Sun')\n",
    "\n"
   ]
  },
  {
   "cell_type": "code",
   "execution_count": 15,
   "metadata": {},
   "outputs": [
    {
     "data": {
      "text/plain": [
       "[<matplotlib.lines.Line2D at 0x828304208>]"
      ]
     },
     "execution_count": 15,
     "metadata": {},
     "output_type": "execute_result"
    },
    {
     "data": {
      "image/png": "[encoded data removed]",
      "text/plain": [
       "<Figure size 432x288 with 1 Axes>"
      ]
     },
     "metadata": {},
     "output_type": "display_data"
    }
   ],
   "source": [
    "plt.plot(times/365.24,(xerr*1e6)/4,\"d\")"
   ]
  },
  {
   "cell_type": "code",
   "execution_count": 12,
   "metadata": {},
   "outputs": [
    {
     "data": {
      "text/plain": [
       "[<matplotlib.lines.Line2D at 0x82823a198>]"
      ]
     },
     "execution_count": 12,
     "metadata": {},
     "output_type": "execute_result"
    },
    {
     "data": {
      "image/png": "[encoded data removed]",
      "text/plain": [
       "<Figure size 432x288 with 1 Axes>"
      ]
     },
     "metadata": {},
     "output_type": "display_data"
    }
   ],
   "source": [
    "plt.plot(times/365.24,(yerr*1e6)/4,\"d\")"
   ]
  },
  {
   "cell_type": "code",
   "execution_count": null,
   "metadata": {},
   "outputs": [],
   "source": []
  }
 ],
 "metadata": {
  "kernelspec": {
   "display_name": "Python 3",
   "language": "python",
   "name": "python3"
  },
  "language_info": {
   "codemirror_mode": {
    "name": "ipython",
    "version": 3
   },
   "file_extension": ".py",
   "mimetype": "text/x-python",
   "name": "python",
   "nbconvert_exporter": "python",
   "pygments_lexer": "ipython3",
   "version": "3.6.7"
  }
 },
 "nbformat": 4,
 "nbformat_minor": 2
}

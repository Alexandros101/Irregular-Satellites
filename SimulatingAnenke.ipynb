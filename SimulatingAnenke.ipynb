{
 "cells": [
  {
   "cell_type": "code",
   "execution_count": 1,
   "metadata": {},
   "outputs": [],
   "source": [
    "import numpy as np\n",
    "import pandas as pd\n",
    "import spiceypy as spice\n",
    "import numpy as np\n",
    "import matplotlib.pyplot as plt\n",
    "import astropy.units as u\n",
    "from astropy.constants import c\n",
    "from astropy.time import Time\n",
    "from astroquery.jplhorizons import Horizons\n",
    "import rebound"
   ]
  },
  {
   "cell_type": "code",
   "execution_count": 53,
   "metadata": {},
   "outputs": [],
   "source": [
    "def Furnisher(k):\n",
    "    '''\n",
    "    This function is used to load all kernels needed in an operation.\n",
    "    Comment out kernels not in use and add the ones in use.\n",
    "    \n",
    "    Arguments: NA\n",
    "    Returns: NA\n",
    "    \n",
    "    '''\n",
    "    spice.kclear()\n",
    "    spice.furnsh('/Users/user/Downloads/naif0009.tls.txt')\n",
    "    if k == '310+341+435':\n",
    "            spice.furnsh('/Users/user/Downloads/jup310.bsp')\n",
    "            spice.furnsh('/Users/user/Downloads/jup341.bsp')\n",
    "            spice.furnsh('/Users/user/Downloads/de435.bsp')\n",
    "    elif k == '310+341':\n",
    "            spice.furnsh('/Users/user/Downloads/jup310.bsp')\n",
    "            spice.furnsh('/Users/user/Downloads/jup341.bsp')\n",
    "    elif k == '310+435':\n",
    "            spice.furnsh('/Users/user/Downloads/de435.bsp')\n",
    "            spice.furnsh('/Users/user/Downloads/jup310.bsp')\n",
    "    elif k == '341+435':\n",
    "            spice.furnsh('/Users/user/Downloads/jup341.bsp')\n",
    "            spice.furnsh('/Users/user/Downloads/de435.bsp')\n",
    "    elif k == '310':\n",
    "            spice.furnsh('/Users/user/Downloads/jup310.bsp')\n",
    "    elif k == '341':\n",
    "            spice.furnsh('/Users/user/Downloads/jup341.bsp')\n",
    "    elif k == '435':\n",
    "            spice.furnsh('/Users/user/Downloads/de435.bsp')\n",
    "    pass"
   ]
  },
  {
   "cell_type": "code",
   "execution_count": 3,
   "metadata": {},
   "outputs": [],
   "source": [
    "def get_spice_function(name,cor,loc):\n",
    "    \"\"\"\n",
    "    This wrapper function automates the creation of objects through the JPL Horizons database. \n",
    "    \n",
    "    Arguments:\n",
    "    \n",
    "    name: str\n",
    "    \n",
    "    Stipulates the target object in Horizons. The major bodies in the Solar System have an id based on their position.\n",
    "    Hence '5' refers to Jupiter and '3' to Earth. A single number designator refers to a barycenter and a designator\n",
    "    such as '599' to the planetary center. For minor bodies in the Solar System, the id_type in the Horizons\n",
    "    must be changed to \"minorbody\"\n",
    "    \n",
    "    cor: str\n",
    "    \n",
    "    Refers to the type of correction that the object has. Available arguments are 'NONE', 'LT','LT+S'\n",
    "    \n",
    "    loc: str\n",
    "    \n",
    "    Designates the location of observation. Names that start with \"g@#\" refer to barycenters where the number designates the \n",
    "    body that the observer is based at. Hence \"g@0\" refers to the Solar System barycenter. Also takes Earth location designators.\n",
    "    Observatories are named after their code. Hence, Pan-Starrs observatory is referred as \"f51\"\n",
    "\n",
    "    Returns:\n",
    "    \n",
    "    get_target_xyz function\n",
    "    \"\"\"    \n",
    "    def get_target_xyz(t):\n",
    "        \"\"\"\n",
    "        Returns the vectors of the Horizons body at a certain time t.\n",
    "        \n",
    "        Arguments:\n",
    "        \n",
    "        t: days\n",
    "        \n",
    "        Julian date of observation\n",
    "        \n",
    "        Returns:\n",
    "    \n",
    "        xyz: numpy array\n",
    "        \n",
    "        A position vector of the observed object\n",
    "    \n",
    "        uvw: numpy array\n",
    "        \n",
    "        An instantaneous velocity vector of the observed object\n",
    "        \n",
    "        radec: numpy array\n",
    "        \n",
    "        The right ascension and declination of the observed object\n",
    "        \"\"\"\n",
    "        \n",
    "        state,lighttime = spice.spkezr(name,t,'J2000',cor,loc)\n",
    "        pos,lighttime = spice.spkpos(name,t,'J2000',cor,loc)\n",
    "        range,ra,dec = spice.recrad(pos) \n",
    "        xyz = np.array([state[0],state[1],state[2]])/149597870.7#6.68459e-9\n",
    "        uvw = np.array([state[3],state[4],state[5]])/149597870.7*24.*3600.#*6.68459e-9\n",
    "        radec = np.array([ra,dec])\n",
    "        return xyz,uvw,radec*180/np.pi\n",
    "    return get_target_xyz"
   ]
  },
  {
   "cell_type": "markdown",
   "metadata": {},
   "source": [
    "Starting the simulation"
   ]
  },
  {
   "cell_type": "code",
   "execution_count": 4,
   "metadata": {},
   "outputs": [],
   "source": [
    "def SimStart(bsolar,msolar,iJovian):\n",
    "    t = 140961664.18440723\n",
    "    sim = rebound.Simulation()\n",
    "    k = 0.0172020989484\n",
    "    sim.G = k**2\n",
    "    sim.units = ('d', 'AU', 'Msun')\n",
    "    get_sun = get_spice_function('Sun','NONE','SOLAR SYSTEM BARYCENTER')\n",
    "    xyz,uvw,radec = get_sun(t) #Adding the Sun\n",
    "    xyz = xyz\n",
    "    uvw = (uvw*24*3600)\n",
    "    sim.add(m=1,x=xyz[0],y=xyz[1],z=xyz[2],vx=uvw[0],vy=uvw[1],vz=uvw[2])\n",
    "    for i in range(0,len(bsolar)):\n",
    "        get_planet = get_spice_function(bsolar[i],'NONE','SOLAR SYSTEM BARYCENTER')\n",
    "        xyz,uvw,radec = get_planet(t) #Adding Jupiter\n",
    "        xyz = xyz\n",
    "        uvw = (uvw*24*3600)\n",
    "        sim.add(m=msolar[i],x=xyz[0],y=xyz[1],z=xyz[2],vx=uvw[0],vy=uvw[1],vz=uvw[2])\n",
    "    ps = sim.particles\n",
    "    for j in range(1,len(ps)):\n",
    "        if j not in iJovian:\n",
    "            print(ps[j].calculate_orbit(primary=ps[0]))\n",
    "        else:\n",
    "            print(ps[j].calculate_orbit(primary=ps[bsolar.index('5')+1]))\n",
    "    return ps,sim"
   ]
  },
  {
   "cell_type": "code",
   "execution_count": 97,
   "metadata": {},
   "outputs": [],
   "source": [
    "def SimStart2(bsolar,msolar,iJovian):\n",
    "    t = 140961664.18440723\n",
    "    sim = rebound.Simulation()\n",
    "    k = 0.0172020989484\n",
    "    sim.G = k**2\n",
    "    #sim.units = ('d', 'AU', 'Msun')\n",
    "    #sim.G *= (1+delta)\n",
    "    #get_sun = geta_spice_function('Sun','NONE','SOLAR SYSTEM BARYCENTER')\n",
    "    #xyz,uvw,radec = get_sun(t) #Adding the Sun\n",
    "    #xyz = xyz\n",
    "    #uvw = (uvw*24*3600)\n",
    "    sim.add(m=1.)#+delta)#,x=xyz[0],y=xyz[1],z=xyz[2],vx=uvw[0],vy=uvw[1],vz=uvw[2])\n",
    "    for i in range(0,len(bsolar)):\n",
    "        get_planet = get_spice_function(bsolar[i],'NONE','SUN')\n",
    "        xyz,uvw,radec = get_planet(t) #Adding Jupiter\n",
    "        xyz = xyz\n",
    "        #uvw = (uvw*24*3600)\n",
    "        sim.add(m=msolar[i],x=xyz[0],y=xyz[1],z=xyz[2],vx=uvw[0],vy=uvw[1],vz=uvw[2])\n",
    "    ps = sim.particles\n",
    "    for j in range(1,len(ps)):\n",
    "        if j not in iJovian:\n",
    "            ps[j].calculate_orbit(primary=ps[0])\n",
    "        elif bsolar[j-1] == 'Moon':\n",
    "            ps[j].calculate_orbit(primary=ps[bsolar.index('Earth')+1])\n",
    "        else:\n",
    "            ps[j].calculate_orbit(primary=ps[bsolar.index('Jupiter')+1])\n",
    "    sim.move_to_com()\n",
    "    jupcom = sim.calculate_com(first=8)\n",
    "    print(jupcom-sim.particles[3])\n",
    "    return ps,sim"
   ]
  },
  {
   "cell_type": "code",
   "execution_count": 182,
   "metadata": {},
   "outputs": [],
   "source": [
    "def SimStart3(bsolar,msolar,iJovian):\n",
    "    t = 140961664.18440723\n",
    "    sim = rebound.Simulation()\n",
    "    k = 0.0172020989484\n",
    "    sim.G = k**2\n",
    "    #sim.units = ('d', 'AU', 'Msun')\n",
    "    #sim.G *= (1+delta)\n",
    "    #get_sun = geta_spice_function('Sun','NONE','SOLAR SYSTEM BARYCENTER')\n",
    "    #xyz,uvw,radec = get_sun(t) #Adding the Sun\n",
    "    #xyz = xyz\n",
    "    #uvw = (uvw*24*3600)\n",
    "    sim.add(m=1.)#+delta)#,x=xyz[0],y=xyz[1],z=xyz[2],vx=uvw[0],vy=uvw[1],vz=uvw[2])\n",
    "    for i in range(0,len(bsolar)):\n",
    "        get_planet = get_spice_function(bsolar[i],'NONE','SUN')\n",
    "        xyz,uvw,radec = get_planet(t) #Adding Jupiter\n",
    "        xyz = xyz\n",
    "        #uvw = (uvw*24*3600)\n",
    "        sim.add(m=msolar[i],x=xyz[0],y=xyz[1],z=xyz[2],vx=uvw[0],vy=uvw[1],vz=uvw[2])\n",
    "    ps = sim.particles\n",
    "    for j in range(1,len(ps)):\n",
    "        if j not in iJovian:\n",
    "            print(ps[j].calculate_orbit(primary=ps[0]))\n",
    "        elif bsolar[j-1] == 'Moon':\n",
    "            print(ps[j].calculate_orbit(primary=ps[bsolar.index('Earth')+1]))\n",
    "        else:\n",
    "            print(ps[j].calculate_orbit(primary=ps[bsolar.index('Jupiter')+1]))\n",
    "    sim.move_to_com()\n",
    "    return ps,sim"
   ]
  },
  {
   "cell_type": "code",
   "execution_count": 110,
   "metadata": {},
   "outputs": [],
   "source": [
    "def Integrator(bsolar,msolar,iJovian,body1,body2):\n",
    "    ps,sim = SimStart2(bsolar,msolar,iJovian)\n",
    "    xm = []\n",
    "    ym = []\n",
    "    zm = []\n",
    "    distance = []\n",
    "    Nout = 100\n",
    "    year = 365.25 # days\n",
    "    day = 86400 # s\n",
    "    tmax = 40*year\n",
    "    t0 = 140961664.18440723\n",
    "    times = np.linspace(0, tmax, Nout) # days\n",
    "    x = np.zeros((len(bsolar)+1,Nout))\n",
    "    y = np.zeros((len(bsolar)+1,Nout))\n",
    "    get_ear_an = get_spice_function(body1,'NONE',body2)\n",
    "    for i, time in enumerate(times):\n",
    "        tspice = t0 + time*day\n",
    "        sim.integrate(time)\n",
    "        for j in range(0,len(bsolar)+1):\n",
    "            x[j][i] = ps[j].x   # This stores the data which allows us to plot it later\n",
    "            y[j][i] = ps[j].y\n",
    "        xyz,uvw,radec = get_ear_an(tspice)\n",
    "        xm.append(xyz[0])\n",
    "        ym.append(xyz[1])\n",
    "        zm.append(xyz[2])\n",
    "        distance.append(np.sqrt(xm[i]**2 + ym[i]**2 + zm[i]**2))\n",
    "    return x,y,xm,ym,times,distance"
   ]
  },
  {
   "cell_type": "code",
   "execution_count": 120,
   "metadata": {},
   "outputs": [],
   "source": [
    "def Integrator2(bsolar,msolar,iJovian,body1,body2):\n",
    "    ps,sim = SimStart3(bsolar,msolar,iJovian)\n",
    "    xm = []\n",
    "    ym = []\n",
    "    zm = []\n",
    "    distance = []\n",
    "    Nout = 100\n",
    "    year = 365.25 # days\n",
    "    day = 86400 # s\n",
    "    tmax = 40*year\n",
    "    t0 = 140961664.18440723\n",
    "    times = np.linspace(0, tmax, Nout) # days\n",
    "    x = np.zeros((len(bsolar)+1,Nout))\n",
    "    y = np.zeros((len(bsolar)+1,Nout))\n",
    "    get_ear_an = get_spice_function(body1,'NONE',body2)\n",
    "    for i, time in enumerate(times):\n",
    "        tspice = t0 + time*day\n",
    "        sim.integrate(time)\n",
    "        for j in range(0,len(bsolar)+1):\n",
    "            x[j][i] = ps[j].x   # This stores the data which allows us to plot it later\n",
    "            y[j][i] = ps[j].y\n",
    "        xyz,uvw,radec = get_ear_an(tspice)\n",
    "        xm.append(xyz[0])\n",
    "        ym.append(xyz[1])\n",
    "        zm.append(xyz[2])\n",
    "        distance.append(np.sqrt(xm[i]**2 + ym[i]**2 + zm[i]**2))\n",
    "    return x,y,xm,ym,times,distance"
   ]
  },
  {
   "cell_type": "code",
   "execution_count": 196,
   "metadata": {},
   "outputs": [],
   "source": [
    "def IntegratorJupBary(bsolar,msolar,iJovian,body1,body2):\n",
    "    ps,sim = SimStart3(bsolar,msolar,iJovian)\n",
    "    xm = []\n",
    "    ym = []\n",
    "    zm = []\n",
    "    distance = []\n",
    "    Nout = 100\n",
    "    year = 365.25 # days\n",
    "    day = 86400 # s\n",
    "    tmax = 40*year\n",
    "    t0 = 140961664.18440723\n",
    "    times = np.linspace(0, tmax, Nout) # days\n",
    "    x = np.zeros(Nout)\n",
    "    y = np.zeros(Nout)\n",
    "    get_ear_an = get_spice_function(body1,'NONE',body2)\n",
    "    for i, time in enumerate(times):\n",
    "        tspice = t0 + time*day\n",
    "        sim.integrate(time)\n",
    "        jupcom = sim.calculate_com(first=bsolar.index('Jupiter')+1)\n",
    "        #print(jupcom)\n",
    "        x[i] = ps[-1].x - jupcom.x\n",
    "        y[i] = ps[-1].y - jupcom.y\n",
    "        xyz,uvw,radec = get_ear_an(tspice)\n",
    "        xm.append(xyz[0])\n",
    "        ym.append(xyz[1])\n",
    "        zm.append(xyz[2])\n",
    "        distance.append(np.sqrt(xm[i]**2 + ym[i]**2 + zm[i]**2))\n",
    "    return x,y,xm,ym,times,distance"
   ]
  },
  {
   "cell_type": "code",
   "execution_count": 175,
   "metadata": {},
   "outputs": [],
   "source": [
    "def ErrorSourceJupBary(bsolar,mass,iJovian,b1,b2):\n",
    "    x,y,xm,ym,times,distance = IntegratorJupBary(bsolar,mass,iJovian,b1,b2)\n",
    "    return np.array(x-xm),np.array(y-ym),times,distance"
   ]
  },
  {
   "cell_type": "code",
   "execution_count": 86,
   "metadata": {},
   "outputs": [],
   "source": [
    "def ErrorSource(bsolar,mass,iJovian,b1,b2):\n",
    "    x,y,xm,ym,times,distance = Integrator(bsolar,mass,iJovian,b1,b2)\n",
    "    if b2 == 'Sun':\n",
    "        temp = 0\n",
    "    else:\n",
    "        temp = bsolar.index(b2)+1\n",
    "    dist1 = x[bsolar.index(b1)+1] - x[temp]\n",
    "    dist2 = y[bsolar.index(b1)+1] - y[temp]\n",
    "    return np.array(dist1-xm),np.array(dist2-ym),times,distance"
   ]
  },
  {
   "cell_type": "code",
   "execution_count": 121,
   "metadata": {},
   "outputs": [],
   "source": [
    "def ErrorSource2(bsolar,mass,iJovian,b1,b2):\n",
    "    x,y,xm,ym,times,distance = Integrator2(bsolar,mass,iJovian,b1,b2)\n",
    "    if b2 == 'Sun':\n",
    "        temp = 0\n",
    "    else:\n",
    "        temp = bsolar.index(b2)+1\n",
    "    dist1 = x[bsolar.index(b1)+1] - x[temp]\n",
    "    dist2 = y[bsolar.index(b1)+1] - y[temp]\n",
    "    return np.array(dist1-xm),np.array(dist2-ym),times,distance"
   ]
  },
  {
   "cell_type": "markdown",
   "metadata": {},
   "source": [
    "# Match Jupiter from the Sun with just the planets d435"
   ]
  },
  {
   "cell_type": "code",
   "execution_count": 126,
   "metadata": {},
   "outputs": [
    {
     "data": {
      "text/plain": [
       "0.0009547919090677745"
      ]
     },
     "execution_count": 126,
     "metadata": {},
     "output_type": "execute_result"
    }
   ],
   "source": [
    "(1.266865341960128E+08+5.959924010272514E+03+3.202739815114734E+03+9.887819980080976E+03+7.179304867611079E+03)/132712440041.939400"
   ]
  },
  {
   "cell_type": "code",
   "execution_count": 148,
   "metadata": {},
   "outputs": [],
   "source": [
    "# From 432 (km^3/s^2)\n",
    "GMEarth = 398600.435420\n",
    "\n",
    "GMMercuryB = 22031.780000\n",
    "GMVenusB = 324858.592000\n",
    "GMEarthB = 403503.235502\n",
    "GMMarsB = 42828.375214\n",
    "GMJupiterB = 126712764.133446\n",
    "GMSaturnB = 37940585.200000\n",
    "GMUranusB = 5794556.465752\n",
    "GMNeptuneB = 6836527.100580\n",
    "GMSun = 132712440041.939400 # Just Sun\n",
    "GMSunterr = GMSun + GMMercuryB + GMVenusB + GMEarthB + GMMarsB\n",
    "\n",
    "# From 310\n",
    "\n",
    "GMJupiter = 1.266865341960128E+08\n",
    "GMIo = 5.959924010272514E+03\n",
    "GMEuropa = 3.202739815114734E+03\n",
    "GMGanymede = 9.887819980080976E+03\n",
    "GMCallisto = 7.179304867611079E+03\n",
    "GMAmalthea = 1.487604677404272E-01\n",
    "GMJupiterB310 = GMJupiter + GMIo + GMEuropa + GMGanymede + GMCallisto + GMAmalthea\n",
    "GM10310 = 1.327132332639000E+11\n",
    "\n",
    "GMSaturnB310 = 3.794058500000000E+07\n",
    "GMUranusB310 = 5.794548600000000E+06\n",
    "GMNeptuneB310 = 6.836527100580000E+06"
   ]
  },
  {
   "cell_type": "markdown",
   "metadata": {},
   "source": [
    "# 432 and 310 agree on mass of sun + terrestrial planets to one part in 10**13"
   ]
  },
  {
   "cell_type": "code",
   "execution_count": 149,
   "metadata": {},
   "outputs": [
    {
     "data": {
      "text/plain": [
       "1.6671467943686753e-13"
      ]
     },
     "execution_count": 149,
     "metadata": {},
     "output_type": "execute_result"
    }
   ],
   "source": [
    "(GMSunterr - GM10310)/GMSunterr"
   ]
  },
  {
   "cell_type": "markdown",
   "metadata": {},
   "source": [
    "# Jupiter and Neptune barycenter masses are the same in 310 and 432!\n",
    "\n",
    "# Saturn and Uranus vary at one part in a million"
   ]
  },
  {
   "cell_type": "code",
   "execution_count": 141,
   "metadata": {},
   "outputs": [
    {
     "data": {
      "text/plain": [
       "-2.8223507797187057e-15"
      ]
     },
     "execution_count": 141,
     "metadata": {},
     "output_type": "execute_result"
    }
   ],
   "source": [
    "(GMJupiterB - GMJupiterB310)/GMJupiterB"
   ]
  },
  {
   "cell_type": "code",
   "execution_count": 142,
   "metadata": {},
   "outputs": [
    {
     "data": {
      "text/plain": [
       "5.27140005685079e-09"
      ]
     },
     "execution_count": 142,
     "metadata": {},
     "output_type": "execute_result"
    }
   ],
   "source": [
    "(GMSaturnB - GMSaturnB310)/GMSaturnB"
   ]
  },
  {
   "cell_type": "code",
   "execution_count": 143,
   "metadata": {},
   "outputs": [
    {
     "data": {
      "text/plain": [
       "1.357438148519429e-06"
      ]
     },
     "execution_count": 143,
     "metadata": {},
     "output_type": "execute_result"
    }
   ],
   "source": [
    "(GMUranusB - GMUranusB310)/GMUranusB"
   ]
  },
  {
   "cell_type": "code",
   "execution_count": 144,
   "metadata": {},
   "outputs": [
    {
     "data": {
      "text/plain": [
       "0.0"
      ]
     },
     "execution_count": 144,
     "metadata": {},
     "output_type": "execute_result"
    }
   ],
   "source": [
    "(GMNeptuneB - GMNeptuneB310)/GMNeptuneB"
   ]
  },
  {
   "cell_type": "code",
   "execution_count": 138,
   "metadata": {},
   "outputs": [],
   "source": [
    "# Putting in the terrestrial planet barycenters separately\n",
    "\n",
    "MMercuryB = GMMercuryB/GMSun\n",
    "MVenusB = GMVenusB/GMSun\n",
    "MEarthB = GMEarthB/GMSun\n",
    "MMarsB = GMMarsB/GMSun\n",
    "MJupiterB = GMJupiterB/GMSun\n"
   ]
  },
  {
   "cell_type": "code",
   "execution_count": 165,
   "metadata": {},
   "outputs": [],
   "source": [
    "# Putting the terrestrial planet barycenters into the Sun\n",
    "\n",
    "MJupiterB310 = GMJupiterB310/GM10310\n",
    "MSaturnB310 = GMSaturnB310/GM10310\n",
    "MUranusB310 = GMUranusB310/GM10310\n",
    "MNeptuneB310 = GMNeptuneB310/GM10310\n",
    "\n",
    "MJupiter = GMJupiter/GM10310\n",
    "MIo = GMIo/GM10310\n",
    "MEuropa = GMEuropa/GM10310\n",
    "MGanymede = GMGanymede/GM10310\n",
    "MCallisto = GMCallisto/GM10310\n",
    "MAmalthea = GMAmalthea/GM10310"
   ]
  },
  {
   "cell_type": "code",
   "execution_count": null,
   "metadata": {},
   "outputs": [],
   "source": []
  },
  {
   "cell_type": "code",
   "execution_count": 117,
   "metadata": {},
   "outputs": [],
   "source": [
    "mjbaryallplanets = (1.266865341960128E+08+5.959924010272514E+03+3.202739815114734E+03+9.887819980080976E+03+7.179304867611079E+03)/GMSun\n",
    "# GM of jupiter + GM of galilean satellites \n",
    "mj = 0.0009547919101638659\n",
    "me = 3.0404326480249294e-06\n",
    "mv = 2.4478382877865672e-06\n",
    "mars = 3.2271560375546917e-07\n",
    "mm = 1.6601141530544803e-07\n",
    "ms = 0.00028588567270480304\n",
    "mur = 4.3662496626890934e-05\n",
    "mnept = 5.1513837726215274e-05\n",
    "mio = 4.490855574220279e-08\n",
    "meur = 2.4132928417702382e-08\n",
    "mga = 7.450560006788226e-08\n",
    "mcal = 5.409669859576579e-08\n",
    "man = 0\n",
    "mpl = 7.350487833457728e-09"
   ]
  },
  {
   "cell_type": "markdown",
   "metadata": {},
   "source": [
    "# Does just putting in the barycenter of Jupiter and the terrestrial planets into the Sun work? NO"
   ]
  },
  {
   "cell_type": "code",
   "execution_count": 162,
   "metadata": {},
   "outputs": [
    {
     "name": "stdout",
     "output_type": "stream",
     "text": [
      "<rebound.Orbit instance, a=5.201831968728378 e=0.04896257872270177 inc=0.4055249472966209 Omega=0.05673854765072948 omega=0.205586202391974 f=2.7466395538724533>\n",
      "<rebound.Orbit instance, a=9.574045795990726 e=0.05669161630685209 inc=0.3936038643041836 Omega=0.1038037268845539 omega=1.5489901226058655 f=0.20681655378150543>\n",
      "<rebound.Orbit instance, a=19.131891707013608 e=0.05010371469975578 inc=0.4130267006196575 Omega=0.03224504179330896 omega=2.9428450868763285 f=-3.425974876895265>\n",
      "<rebound.Orbit instance, a=29.971909150978313 e=0.008375703680425586 inc=0.3891325474144719 Omega=0.060802691357639174 omega=1.1181394971337442 f=-1.983168185718958>\n",
      "<rebound.Orbit instance, a=0.14321839949938908 e=0.3495003209486603 inc=2.843150696190117 Omega=1.516844865460753 omega=2.947409680372081 f=-3.8935109112773167>\n"
     ]
    }
   ],
   "source": [
    "Furnisher('341+435')\n",
    "xerr,yerr,times,distance = ErrorSource2(['5','6','7','8','Ananke'],[MJupiterB310,MSaturnB310,MUranusB310,MNeptuneB310,0],[5],'Ananke','5')"
   ]
  },
  {
   "cell_type": "code",
   "execution_count": 163,
   "metadata": {},
   "outputs": [
    {
     "data": {
      "text/plain": [
       "[<matplotlib.lines.Line2D at 0x823665e10>]"
      ]
     },
     "execution_count": 163,
     "metadata": {},
     "output_type": "execute_result"
    },
    {
     "data": {
      "image/png": "[encoded data removed]",
      "text/plain": [
       "<Figure size 432x288 with 1 Axes>"
      ]
     },
     "metadata": {},
     "output_type": "display_data"
    }
   ],
   "source": [
    "plt.plot(times/365.24,(xerr*1e6)/4,\"d\")"
   ]
  },
  {
   "cell_type": "markdown",
   "metadata": {},
   "source": [
    "# Does putting the terrestrials into the Sun and putting in the galilean satellites work?"
   ]
  },
  {
   "cell_type": "code",
   "execution_count": 197,
   "metadata": {},
   "outputs": [
    {
     "name": "stdout",
     "output_type": "stream",
     "text": [
      "<rebound.Orbit instance, a=9.574045795990726 e=0.05669161630685209 inc=0.3936038643041836 Omega=0.1038037268845539 omega=1.5489901226058655 f=0.20681655378150543>\n",
      "<rebound.Orbit instance, a=19.131891707013608 e=0.05010371469975578 inc=0.4130267006196575 Omega=0.03224504179330896 omega=2.9428450868763285 f=-3.425974876895265>\n",
      "<rebound.Orbit instance, a=29.971909150978313 e=0.008375703680425586 inc=0.3891325474144719 Omega=0.060802691357639174 omega=1.1181394971337442 f=-1.983168185718958>\n",
      "<rebound.Orbit instance, a=5.202040633232275 e=0.048919602532960155 inc=0.405525145543584 Omega=0.05673845103279668 omega=0.20572257449931072 f=2.746503210188208>\n",
      "<rebound.Orbit instance, a=0.002821048094873031 e=0.0035623473063570847 inc=0.44547126778140317 Omega=-0.03249725622222026 omega=-1.3208713130787086 f=2.932658389356697>\n",
      "<rebound.Orbit instance, a=0.004487314392798177 e=0.009057860390144236 inc=0.4399606557297727 Omega=-0.018487620117768045 omega=1.7395885361695322 f=-1.6411684888880587>\n",
      "<rebound.Orbit instance, a=0.007155113378965272 e=0.0019730674881878307 inc=0.44665866059664194 Omega=-0.02747369735972792 omega=-1.2284142426208362 f=-0.962670017360685>\n",
      "<rebound.Orbit instance, a=0.012587472971000256 e=0.007626843601820323 inc=0.4417358955311199 Omega=-0.031189686202501538 omega=-0.04234179042586992 f=-0.06258580919181161>\n",
      "<rebound.Orbit instance, a=0.1432602819867712 e=0.3493991788348335 inc=2.8431041670859964 Omega=1.5170537953754337 omega=2.9484732319811577 f=-3.8943749035101503>\n",
      "CPU times: user 14.9 s, sys: 29.7 ms, total: 15 s\n",
      "Wall time: 15 s\n"
     ]
    }
   ],
   "source": [
    "%%time\n",
    "Furnisher('310+341+435')\n",
    "xerr,yerr,times,distance = ErrorSourceJupBary(['6','7','8','Jupiter','Io','Europa','Ganymede','Callisto','Ananke'],[MSaturnB310,MUranusB310,MNeptuneB310,\n",
    "                        MJupiter,MIo,MEuropa,MGanymede,MCallisto,0],[5,6,7,8,9,10],'Ananke','5')\n",
    "\n"
   ]
  },
  {
   "cell_type": "code",
   "execution_count": 198,
   "metadata": {},
   "outputs": [
    {
     "data": {
      "text/plain": [
       "[<matplotlib.lines.Line2D at 0x824918828>]"
      ]
     },
     "execution_count": 198,
     "metadata": {},
     "output_type": "execute_result"
    },
    {
     "data": {
      "image/png": "[encoded data removed]",
      "text/plain": [
       "<Figure size 432x288 with 1 Axes>"
      ]
     },
     "metadata": {},
     "output_type": "display_data"
    }
   ],
   "source": [
    "plt.plot(times/365.24,(xerr*1e6)/4,\"d\")"
   ]
  },
  {
   "cell_type": "code",
   "execution_count": 129,
   "metadata": {},
   "outputs": [
    {
     "name": "stdout",
     "output_type": "stream",
     "text": [
      "<rebound.Particle object, m=4.8480755566023806e-05 x=20.770089032281078 y=-19.021001936899236 z=-8.278822481355249 vx=-0.014672643933426318 vy=0.0023835913095639136 vz=0.0009278432293512262>\n"
     ]
    }
   ],
   "source": [
    "Furnisher('341+435')\n",
    "xerr,yerr,times,distance = ErrorSource2(['1','2','3','4','5','6','7','8','9','Ananke'],[mm,mv,me,mars,mj,ms,mur,mnept,mpl,man],[10],'Ananke','5')\n",
    "\n"
   ]
  },
  {
   "cell_type": "code",
   "execution_count": 192,
   "metadata": {},
   "outputs": [
    {
     "data": {
      "text/plain": [
       "[<matplotlib.lines.Line2D at 0x82478e0b8>]"
      ]
     },
     "execution_count": 192,
     "metadata": {},
     "output_type": "execute_result"
    },
    {
     "data": {
      "image/png": "[encoded data removed]",
      "text/plain": [
       "<Figure size 432x288 with 1 Axes>"
      ]
     },
     "metadata": {},
     "output_type": "display_data"
    }
   ],
   "source": [
    "plt.plot(times[:120]/365.24,(xerr[:120]*1e6)/4,\"d\")"
   ]
  },
  {
   "cell_type": "markdown",
   "metadata": {},
   "source": [
    "# Match Jupiter from the Sun with just the planets 310"
   ]
  },
  {
   "cell_type": "markdown",
   "metadata": {},
   "source": [
    "I am using the masses from the paper and only adding the Sun to see if it includes the inner planets. The error is large"
   ]
  },
  {
   "cell_type": "code",
   "execution_count": 42,
   "metadata": {},
   "outputs": [
    {
     "data": {
      "text/plain": [
       "0.9997929968806782"
      ]
     },
     "execution_count": 42,
     "metadata": {},
     "output_type": "execute_result"
    }
   ],
   "source": [
    "1.266865341960128E+08/1.267127641334463E+08"
   ]
  },
  {
   "cell_type": "code",
   "execution_count": 116,
   "metadata": {},
   "outputs": [
    {
     "name": "stdout",
     "output_type": "stream",
     "text": [
      "<rebound.Particle object, m=0.0009517588268827908 x=-5.363977281805212 y=1.5678537868377123 z=0.8076868740583638 vx=-0.018048577318673365 vy=-0.006212658873853664 vz=-0.0026337887390944564>\n"
     ]
    },
    {
     "ename": "ValueError",
     "evalue": "'Earth' is not in list",
     "output_type": "error",
     "traceback": [
      "\u001b[0;31m---------------------------------------------------------------------------\u001b[0m",
      "\u001b[0;31mValueError\u001b[0m                                Traceback (most recent call last)",
      "\u001b[0;32m<ipython-input-116-cbb49a8c5c9b>\u001b[0m in \u001b[0;36m<module>\u001b[0;34m()\u001b[0m\n\u001b[1;32m     14\u001b[0m \u001b[0mman\u001b[0m \u001b[0;34m=\u001b[0m \u001b[0;36m0\u001b[0m\u001b[0;34m\u001b[0m\u001b[0;34m\u001b[0m\u001b[0m\n\u001b[1;32m     15\u001b[0m \u001b[0mmpl\u001b[0m \u001b[0;34m=\u001b[0m \u001b[0;36m7.350487833457728e-09\u001b[0m\u001b[0;34m\u001b[0m\u001b[0;34m\u001b[0m\u001b[0m\n\u001b[0;32m---> 16\u001b[0;31m \u001b[0mxerr\u001b[0m\u001b[0;34m,\u001b[0m\u001b[0myerr\u001b[0m\u001b[0;34m,\u001b[0m\u001b[0mtimes\u001b[0m\u001b[0;34m,\u001b[0m\u001b[0mdistance\u001b[0m \u001b[0;34m=\u001b[0m \u001b[0mErrorSource\u001b[0m\u001b[0;34m(\u001b[0m\u001b[0;34m[\u001b[0m\u001b[0;34m'1'\u001b[0m\u001b[0;34m,\u001b[0m\u001b[0;34m'2'\u001b[0m\u001b[0;34m,\u001b[0m\u001b[0;34m'3'\u001b[0m\u001b[0;34m,\u001b[0m\u001b[0;34m'4'\u001b[0m\u001b[0;34m,\u001b[0m\u001b[0;34m'6'\u001b[0m\u001b[0;34m,\u001b[0m\u001b[0;34m'7'\u001b[0m\u001b[0;34m,\u001b[0m\u001b[0;34m'8'\u001b[0m\u001b[0;34m,\u001b[0m\u001b[0;34m'9'\u001b[0m\u001b[0;34m,\u001b[0m\u001b[0;34m'Jupiter'\u001b[0m\u001b[0;34m,\u001b[0m\u001b[0;34m'Io'\u001b[0m\u001b[0;34m,\u001b[0m\u001b[0;34m'Europa'\u001b[0m\u001b[0;34m,\u001b[0m\u001b[0;34m'Ganymede'\u001b[0m\u001b[0;34m,\u001b[0m\u001b[0;34m'Callisto'\u001b[0m\u001b[0;34m,\u001b[0m\u001b[0;34m'Ananke'\u001b[0m\u001b[0;34m]\u001b[0m\u001b[0;34m,\u001b[0m\u001b[0;34m[\u001b[0m\u001b[0mmm\u001b[0m\u001b[0;34m,\u001b[0m\u001b[0mmv\u001b[0m\u001b[0;34m,\u001b[0m\u001b[0mme\u001b[0m\u001b[0;34m,\u001b[0m\u001b[0mmars\u001b[0m\u001b[0;34m,\u001b[0m\u001b[0mms\u001b[0m\u001b[0;34m,\u001b[0m\u001b[0mmur\u001b[0m\u001b[0;34m,\u001b[0m\u001b[0mmnept\u001b[0m\u001b[0;34m,\u001b[0m\u001b[0mmpl\u001b[0m\u001b[0;34m,\u001b[0m\u001b[0mmj\u001b[0m\u001b[0;34m,\u001b[0m\u001b[0mmio\u001b[0m\u001b[0;34m,\u001b[0m\u001b[0mmeur\u001b[0m\u001b[0;34m,\u001b[0m\u001b[0mmga\u001b[0m\u001b[0;34m,\u001b[0m\u001b[0mmcal\u001b[0m\u001b[0;34m,\u001b[0m\u001b[0;36m0\u001b[0m\u001b[0;34m]\u001b[0m\u001b[0;34m,\u001b[0m\u001b[0;34m[\u001b[0m\u001b[0;36m10\u001b[0m\u001b[0;34m,\u001b[0m\u001b[0;36m11\u001b[0m\u001b[0;34m,\u001b[0m\u001b[0;36m12\u001b[0m\u001b[0;34m,\u001b[0m\u001b[0;36m13\u001b[0m\u001b[0;34m,\u001b[0m\u001b[0;36m14\u001b[0m\u001b[0;34m]\u001b[0m\u001b[0;34m,\u001b[0m\u001b[0;34m'Ananke'\u001b[0m\u001b[0;34m,\u001b[0m\u001b[0;34m'Earth'\u001b[0m\u001b[0;34m)\u001b[0m\u001b[0;34m\u001b[0m\u001b[0;34m\u001b[0m\u001b[0m\n\u001b[0m",
      "\u001b[0;32m<ipython-input-86-a03fcc4f38e9>\u001b[0m in \u001b[0;36mErrorSource\u001b[0;34m(bsolar, mass, iJovian, b1, b2)\u001b[0m\n\u001b[1;32m      4\u001b[0m         \u001b[0mtemp\u001b[0m \u001b[0;34m=\u001b[0m \u001b[0;36m0\u001b[0m\u001b[0;34m\u001b[0m\u001b[0;34m\u001b[0m\u001b[0m\n\u001b[1;32m      5\u001b[0m     \u001b[0;32melse\u001b[0m\u001b[0;34m:\u001b[0m\u001b[0;34m\u001b[0m\u001b[0;34m\u001b[0m\u001b[0m\n\u001b[0;32m----> 6\u001b[0;31m         \u001b[0mtemp\u001b[0m \u001b[0;34m=\u001b[0m \u001b[0mbsolar\u001b[0m\u001b[0;34m.\u001b[0m\u001b[0mindex\u001b[0m\u001b[0;34m(\u001b[0m\u001b[0mb2\u001b[0m\u001b[0;34m)\u001b[0m\u001b[0;34m+\u001b[0m\u001b[0;36m1\u001b[0m\u001b[0;34m\u001b[0m\u001b[0;34m\u001b[0m\u001b[0m\n\u001b[0m\u001b[1;32m      7\u001b[0m     \u001b[0mdist1\u001b[0m \u001b[0;34m=\u001b[0m \u001b[0mx\u001b[0m\u001b[0;34m[\u001b[0m\u001b[0mbsolar\u001b[0m\u001b[0;34m.\u001b[0m\u001b[0mindex\u001b[0m\u001b[0;34m(\u001b[0m\u001b[0mb1\u001b[0m\u001b[0;34m)\u001b[0m\u001b[0;34m+\u001b[0m\u001b[0;36m1\u001b[0m\u001b[0;34m]\u001b[0m \u001b[0;34m-\u001b[0m \u001b[0mx\u001b[0m\u001b[0;34m[\u001b[0m\u001b[0mtemp\u001b[0m\u001b[0;34m]\u001b[0m\u001b[0;34m\u001b[0m\u001b[0;34m\u001b[0m\u001b[0m\n\u001b[1;32m      8\u001b[0m     \u001b[0mdist2\u001b[0m \u001b[0;34m=\u001b[0m \u001b[0my\u001b[0m\u001b[0;34m[\u001b[0m\u001b[0mbsolar\u001b[0m\u001b[0;34m.\u001b[0m\u001b[0mindex\u001b[0m\u001b[0;34m(\u001b[0m\u001b[0mb1\u001b[0m\u001b[0;34m)\u001b[0m\u001b[0;34m+\u001b[0m\u001b[0;36m1\u001b[0m\u001b[0;34m]\u001b[0m \u001b[0;34m-\u001b[0m \u001b[0my\u001b[0m\u001b[0;34m[\u001b[0m\u001b[0mtemp\u001b[0m\u001b[0;34m]\u001b[0m\u001b[0;34m\u001b[0m\u001b[0;34m\u001b[0m\u001b[0m\n",
      "\u001b[0;31mValueError\u001b[0m: 'Earth' is not in list"
     ]
    }
   ],
   "source": [
    "Furnisher('310+341+435')\n",
    "mj = 0.0009547919101638659*0.9997929968806782\n",
    "me = 3.0404326480249294e-06\n",
    "mv = 2.4478382877865672e-06\n",
    "mars = 3.2271560375546917e-07\n",
    "mm = 1.6601141530544803e-07\n",
    "ms = 0.00028588567270480304\n",
    "mur = 4.3662496626890934e-05\n",
    "mnept = 5.1513837726215274e-05\n",
    "mio = 4.490855574220279e-08\n",
    "meur = 2.4132928417702382e-08\n",
    "mga = 7.450560006788226e-08\n",
    "mcal = 5.409669859576579e-08\n",
    "man = 0\n",
    "mpl = 7.350487833457728e-09\n",
    "xerr,yerr,times,distance = ErrorSource(['1','2','3','4','6','7','8','9','Jupiter','Io','Europa','Ganymede','Callisto','Ananke'],[mm,mv,me,mars,ms,mur,mnept,mpl,mj,mio,meur,mga,mcal,0],[10,11,12,13,14],'Ananke','5')\n",
    "\n"
   ]
  },
  {
   "cell_type": "code",
   "execution_count": null,
   "metadata": {},
   "outputs": [],
   "source": [
    "plt.plot(times/365.24,(xerr*1e6)/distance,\"d\")"
   ]
  },
  {
   "cell_type": "markdown",
   "metadata": {},
   "source": [
    "* Put in all the barycenters except Jupiter from 435\n",
    "\n",
    "For jupiter:\n",
    "\n",
    "- Calculate the barycenter using 310 = xbary\n",
    "- Get the positions and velocities of Jupiter and the galilean satellites FROM the barycenter of Jupiter = deltax\n",
    "- Put them into the simulation as x = xbary + deltax"
   ]
  },
  {
   "cell_type": "code",
   "execution_count": 189,
   "metadata": {},
   "outputs": [
    {
     "data": {
      "text/plain": [
       "<rebound.Particle object, m=0.0009545885597112752 x=-4.776779158888189e-07 y=3.609914767110922e-07 z=1.656427700558183e-07 vx=5.8663120155620294e-08 vy=-1.5339260889171008e-07 vz=-6.876251550927068e-08>"
      ]
     },
     "execution_count": 189,
     "metadata": {},
     "output_type": "execute_result"
    }
   ],
   "source": [
    "Furnisher('310')\n",
    "sim = rebound.Simulation()\n",
    "\n",
    "func = get_spice_function('Jupiter','None','0')\n",
    "xyz,uvw,radec = func(140961664.18440723)\n",
    "sim.add(m=mj,x=xyz[0],y=xyz[1],z=xyz[2],vx=uvw[0],vy=uvw[1],vz=uvw[2])\n",
    "\n",
    "func = get_spice_function('Io','None','0')\n",
    "xyz,uvw,radec = func(140961664.18440723)\n",
    "sim.add(m=mio, x=xyz[0],y=xyz[1],z=xyz[2],vx=uvw[0],vy=uvw[1],vz=uvw[2])\n",
    "\n",
    "func = get_spice_function('Europa','None','0')\n",
    "xyz,uvw,radec = func(140961664.18440723)\n",
    "sim.add(m=meur, x=xyz[0],y=xyz[1],z=xyz[2],vx=uvw[0],vy=uvw[1],vz=uvw[2])\n",
    "\n",
    "func = get_spice_function('Ganymede','None','0')\n",
    "xyz,uvw,radec = func(140961664.18440723)\n",
    "sim.add(m=mga, x=xyz[0],y=xyz[1],z=xyz[2],vx=uvw[0],vy=uvw[1],vz=uvw[2])\n",
    "\n",
    "func = get_spice_function('Callisto','None','0')\n",
    "xyz,uvw,radec = func(140961664.18440723)\n",
    "sim.add(m=mcal, x=xyz[0],y=xyz[1],z=xyz[2],vx=uvw[0],vy=uvw[1],vz=uvw[2])\n",
    "\n",
    "sim.move_to_com()\n",
    "ps = sim.particles\n",
    "ps[0]"
   ]
  },
  {
   "cell_type": "code",
   "execution_count": 191,
   "metadata": {},
   "outputs": [
    {
     "data": {
      "text/plain": [
       "(array([-4.77679195e-07,  3.60990911e-07,  1.65642488e-07]),\n",
       " array([ 5.86709634e-08, -1.53407160e-07, -6.87692425e-08]),\n",
       " array([142.92099107,  15.4641537 ]))"
      ]
     },
     "execution_count": 191,
     "metadata": {},
     "output_type": "execute_result"
    }
   ],
   "source": [
    "func = get_spice_function('Jupiter','None','5')\n",
    "func(140961664.18440723)"
   ]
  },
  {
   "cell_type": "markdown",
   "metadata": {},
   "source": [
    "Now try to find the barycenter of Jupiter within one pixel from "
   ]
  },
  {
   "cell_type": "code",
   "execution_count": null,
   "metadata": {},
   "outputs": [],
   "source": []
  },
  {
   "cell_type": "markdown",
   "metadata": {},
   "source": [
    "'''\n",
    "1. Take 435 with the barycenters, don't include 1,2,3,4 and add their masses\n",
    "into the Sun. See if the error is within a pixel\n",
    "\n",
    "-For the masses of Neptune... take the GM of Neptune from 435 and divide it from\n",
    "the mass of the Sun AND the inner planets from the same file.\n",
    "\n",
    "Does this work within a pixel?\n",
    "\n",
    "Sun to Jupiter vector\n",
    "\n",
    "'''"
   ]
  },
  {
   "cell_type": "code",
   "execution_count": 23,
   "metadata": {},
   "outputs": [
    {
     "name": "stdout",
     "output_type": "stream",
     "text": [
      "<rebound.Particle object, m=-4.366223727136226e-05 x=-18.023184673954752 y=7.954918918444482 z=3.7389749577064535 vx=-0.001694691769854902 vy=-0.0030793558102794687 vz=-0.0013247118204276955>\n"
     ]
    }
   ],
   "source": [
    "nmj = 0.0009547862387060006\n",
    "nms = 0.00028588397455573165\n",
    "nmur = 4.366223727136226e-05\n",
    "nmnept = 5.151353173307904e-05\n",
    "nmpl = 7.3504441714156645e-09\n",
    "xerr,yerr,times = ErrorSource(['5','6','7','8','9'],[nmj,nms,nmur,nmnept,nmpl],[],'5','Sun')\n"
   ]
  },
  {
   "cell_type": "code",
   "execution_count": 24,
   "metadata": {},
   "outputs": [
    {
     "data": {
      "text/plain": [
       "[<matplotlib.lines.Line2D at 0x8226a86a0>]"
      ]
     },
     "execution_count": 24,
     "metadata": {},
     "output_type": "execute_result"
    },
    {
     "data": {
      "image/png": "[encoded data removed]",
      "text/plain": [
       "<Figure size 432x288 with 1 Axes>"
      ]
     },
     "metadata": {},
     "output_type": "display_data"
    }
   ],
   "source": [
    "plt.plot(times/365.24,(xerr*1e6)/4,\"d\")"
   ]
  },
  {
   "cell_type": "markdown",
   "metadata": {},
   "source": [
    "Okay this didn't work. Now we try to find 5 (Jupiter Barycenter) within one pixel from Earth barycenter."
   ]
  },
  {
   "cell_type": "markdown",
   "metadata": {},
   "source": [
    "Trying Ananke again with Earth Moon separate"
   ]
  },
  {
   "cell_type": "code",
   "execution_count": 93,
   "metadata": {},
   "outputs": [
    {
     "data": {
      "text/plain": [
       "3.6943033229720506e-08"
      ]
     },
     "execution_count": 93,
     "metadata": {},
     "output_type": "execute_result"
    }
   ],
   "source": [
    "1/27068703.151194"
   ]
  },
  {
   "cell_type": "code",
   "execution_count": 199,
   "metadata": {},
   "outputs": [
    {
     "name": "stdout",
     "output_type": "stream",
     "text": [
      "<rebound.Particle object, m=0.0010033096076422423 x=-4.025982717272712 y=0.5139924446850468 z=0.34255007174961744 vx=-0.017882027637642083 vy=-0.005775174050169907 vz=-0.002452383687202985>\n",
      "CPU times: user 28.3 s, sys: 33.3 ms, total: 28.3 s\n",
      "Wall time: 28.4 s\n"
     ]
    }
   ],
   "source": [
    "%%time\n",
    "Furnisher('310+341+435')\n",
    "mj = 0.0009547919101638659*0.9997929968806782\n",
    "me = 3.0034896147890027e-06\n",
    "mmoon = 3.6943033229720506e-08\n",
    "mv = 2.4478382877865672e-06\n",
    "mars = 3.2271560375546917e-07\n",
    "mm = 1.6601141530544803e-07\n",
    "ms = 0.00028588567270480304\n",
    "mur = 4.3662496626890934e-05\n",
    "mnept = 5.1513837726215274e-05\n",
    "mio = 4.490855574220279e-08\n",
    "meur = 2.4132928417702382e-08\n",
    "mga = 7.450560006788226e-08\n",
    "mcal = 5.409669859576579e-08\n",
    "man = 0\n",
    "mpl = 7.350487833457728e-09\n",
    "xerr,yerr,times,distance = ErrorSource(['1','2','Earth','Moon','4','6','7','8','9','Jupiter','Io','Europa','Ganymede','Callisto','Ananke'],[mm,mv,me,mmoon,mars,ms,mur,mnept,mpl,mj,mio,meur,mga,mcal,0],[11,12,13,14,15],'Ananke','Earth')\n",
    "\n"
   ]
  },
  {
   "cell_type": "code",
   "execution_count": 200,
   "metadata": {},
   "outputs": [
    {
     "data": {
      "text/plain": [
       "[<matplotlib.lines.Line2D at 0x8249d7320>]"
      ]
     },
     "execution_count": 200,
     "metadata": {},
     "output_type": "execute_result"
    },
    {
     "data": {
      "image/png": "[encoded data removed]",
      "text/plain": [
       "<Figure size 432x288 with 1 Axes>"
      ]
     },
     "metadata": {},
     "output_type": "display_data"
    }
   ],
   "source": [
    "plt.plot(times/365.24,(xerr*1e6)/distance,\"d\")"
   ]
  },
  {
   "cell_type": "code",
   "execution_count": null,
   "metadata": {},
   "outputs": [],
   "source": []
  }
 ],
 "metadata": {
  "kernelspec": {
   "display_name": "Python 3",
   "language": "python",
   "name": "python3"
  },
  "language_info": {
   "codemirror_mode": {
    "name": "ipython",
    "version": 3
   },
   "file_extension": ".py",
   "mimetype": "text/x-python",
   "name": "python",
   "nbconvert_exporter": "python",
   "pygments_lexer": "ipython3",
   "version": "3.6.7"
  }
 },
 "nbformat": 4,
 "nbformat_minor": 2
}

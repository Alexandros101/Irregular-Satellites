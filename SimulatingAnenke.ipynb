{
 "cells": [
  {
   "cell_type": "code",
   "execution_count": 1,
   "metadata": {},
   "outputs": [],
   "source": [
    "import numpy as np\n",
    "import pandas as pd\n",
    "import spiceypy as spice\n",
    "import numpy as np\n",
    "import matplotlib.pyplot as plt\n",
    "import astropy.units as u\n",
    "from astropy.constants import c\n",
    "from astropy.time import Time\n",
    "from astroquery.jplhorizons import Horizons\n",
    "import rebound"
   ]
  },
  {
   "cell_type": "code",
   "execution_count": 53,
   "metadata": {},
   "outputs": [],
   "source": [
    "def Furnisher(k):\n",
    "    '''\n",
    "    This function is used to load all kernels needed in an operation.\n",
    "    Comment out kernels not in use and add the ones in use.\n",
    "    \n",
    "    Arguments: NA\n",
    "    Returns: NA\n",
    "    \n",
    "    '''\n",
    "    spice.kclear()\n",
    "    spice.furnsh('/Users/user/Downloads/naif0009.tls.txt')\n",
    "    if k == '310+341+435':\n",
    "            spice.furnsh('/Users/user/Downloads/jup310.bsp')\n",
    "            spice.furnsh('/Users/user/Downloads/jup341.bsp')\n",
    "            spice.furnsh('/Users/user/Downloads/de435.bsp')\n",
    "    elif k == '310+341':\n",
    "            spice.furnsh('/Users/user/Downloads/jup310.bsp')\n",
    "            spice.furnsh('/Users/user/Downloads/jup341.bsp')\n",
    "    elif k == '310+435':\n",
    "            spice.furnsh('/Users/user/Downloads/de435.bsp')\n",
    "            spice.furnsh('/Users/user/Downloads/jup310.bsp')\n",
    "    elif k == '341+435':\n",
    "            spice.furnsh('/Users/user/Downloads/jup341.bsp')\n",
    "            spice.furnsh('/Users/user/Downloads/de435.bsp')\n",
    "    elif k == '310':\n",
    "            spice.furnsh('/Users/user/Downloads/jup310.bsp')\n",
    "    elif k == '341':\n",
    "            spice.furnsh('/Users/user/Downloads/jup341.bsp')\n",
    "    elif k == '435':\n",
    "            spice.furnsh('/Users/user/Downloads/de435.bsp')\n",
    "    pass"
   ]
  },
  {
   "cell_type": "code",
   "execution_count": 3,
   "metadata": {},
   "outputs": [],
   "source": [
    "def get_spice_function(name,cor,loc):\n",
    "    \"\"\"\n",
    "    This wrapper function automates the creation of objects through the JPL Horizons database. \n",
    "    \n",
    "    Arguments:\n",
    "    \n",
    "    name: str\n",
    "    \n",
    "    Stipulates the target object in Horizons. The major bodies in the Solar System have an id based on their position.\n",
    "    Hence '5' refers to Jupiter and '3' to Earth. A single number designator refers to a barycenter and a designator\n",
    "    such as '599' to the planetary center. For minor bodies in the Solar System, the id_type in the Horizons\n",
    "    must be changed to \"minorbody\"\n",
    "    \n",
    "    cor: str\n",
    "    \n",
    "    Refers to the type of correction that the object has. Available arguments are 'NONE', 'LT','LT+S'\n",
    "    \n",
    "    loc: str\n",
    "    \n",
    "    Designates the location of observation. Names that start with \"g@#\" refer to barycenters where the number designates the \n",
    "    body that the observer is based at. Hence \"g@0\" refers to the Solar System barycenter. Also takes Earth location designators.\n",
    "    Observatories are named after their code. Hence, Pan-Starrs observatory is referred as \"f51\"\n",
    "\n",
    "    Returns:\n",
    "    \n",
    "    get_target_xyz function\n",
    "    \"\"\"    \n",
    "    def get_target_xyz(t):\n",
    "        \"\"\"\n",
    "        Returns the vectors of the Horizons body at a certain time t.\n",
    "        \n",
    "        Arguments:\n",
    "        \n",
    "        t: days\n",
    "        \n",
    "        Julian date of observation\n",
    "        \n",
    "        Returns:\n",
    "    \n",
    "        xyz: numpy array\n",
    "        \n",
    "        A position vector of the observed object\n",
    "    \n",
    "        uvw: numpy array\n",
    "        \n",
    "        An instantaneous velocity vector of the observed object\n",
    "        \n",
    "        radec: numpy array\n",
    "        \n",
    "        The right ascension and declination of the observed object\n",
    "        \"\"\"\n",
    "        \n",
    "        state,lighttime = spice.spkezr(name,t,'J2000',cor,loc)\n",
    "        pos,lighttime = spice.spkpos(name,t,'J2000',cor,loc)\n",
    "        range,ra,dec = spice.recrad(pos) \n",
    "        xyz = np.array([state[0],state[1],state[2]])/149597870.7#6.68459e-9\n",
    "        uvw = np.array([state[3],state[4],state[5]])/149597870.7*24.*3600.#*6.68459e-9\n",
    "        radec = np.array([ra,dec])\n",
    "        return xyz,uvw,radec*180/np.pi\n",
    "    return get_target_xyz"
   ]
  },
  {
   "cell_type": "markdown",
   "metadata": {},
   "source": [
    "Starting the simulation"
   ]
  },
  {
   "cell_type": "code",
   "execution_count": 4,
   "metadata": {},
   "outputs": [],
   "source": [
    "def SimStart(bsolar,msolar,iJovian):\n",
    "    t = 140961664.18440723\n",
    "    sim = rebound.Simulation()\n",
    "    k = 0.0172020989484\n",
    "    sim.G = k**2\n",
    "    sim.units = ('d', 'AU', 'Msun')\n",
    "    get_sun = get_spice_function('Sun','NONE','SOLAR SYSTEM BARYCENTER')\n",
    "    xyz,uvw,radec = get_sun(t) #Adding the Sun\n",
    "    xyz = xyz\n",
    "    uvw = (uvw*24*3600)\n",
    "    sim.add(m=1,x=xyz[0],y=xyz[1],z=xyz[2],vx=uvw[0],vy=uvw[1],vz=uvw[2])\n",
    "    for i in range(0,len(bsolar)):\n",
    "        get_planet = get_spice_function(bsolar[i],'NONE','SOLAR SYSTEM BARYCENTER')\n",
    "        xyz,uvw,radec = get_planet(t) #Adding Jupiter\n",
    "        xyz = xyz\n",
    "        uvw = (uvw*24*3600)\n",
    "        sim.add(m=msolar[i],x=xyz[0],y=xyz[1],z=xyz[2],vx=uvw[0],vy=uvw[1],vz=uvw[2])\n",
    "    ps = sim.particles\n",
    "    for j in range(1,len(ps)):\n",
    "        if j not in iJovian:\n",
    "            print(ps[j].calculate_orbit(primary=ps[0]))\n",
    "        else:\n",
    "            print(ps[j].calculate_orbit(primary=ps[bsolar.index('5')+1]))\n",
    "    return ps,sim"
   ]
  },
  {
   "cell_type": "code",
   "execution_count": 97,
   "metadata": {},
   "outputs": [],
   "source": [
    "def SimStart2(bsolar,msolar,iJovian):\n",
    "    t = 140961664.18440723\n",
    "    sim = rebound.Simulation()\n",
    "    k = 0.0172020989484\n",
    "    sim.G = k**2\n",
    "    #sim.units = ('d', 'AU', 'Msun')\n",
    "    #sim.G *= (1+delta)\n",
    "    #get_sun = geta_spice_function('Sun','NONE','SOLAR SYSTEM BARYCENTER')\n",
    "    #xyz,uvw,radec = get_sun(t) #Adding the Sun\n",
    "    #xyz = xyz\n",
    "    #uvw = (uvw*24*3600)\n",
    "    sim.add(m=1.)#+delta)#,x=xyz[0],y=xyz[1],z=xyz[2],vx=uvw[0],vy=uvw[1],vz=uvw[2])\n",
    "    for i in range(0,len(bsolar)):\n",
    "        get_planet = get_spice_function(bsolar[i],'NONE','SUN')\n",
    "        xyz,uvw,radec = get_planet(t) #Adding Jupiter\n",
    "        xyz = xyz\n",
    "        #uvw = (uvw*24*3600)\n",
    "        sim.add(m=msolar[i],x=xyz[0],y=xyz[1],z=xyz[2],vx=uvw[0],vy=uvw[1],vz=uvw[2])\n",
    "    ps = sim.particles\n",
    "    for j in range(1,len(ps)):\n",
    "        if j not in iJovian:\n",
    "            ps[j].calculate_orbit(primary=ps[0])\n",
    "        elif bsolar[j-1] == 'Moon':\n",
    "            ps[j].calculate_orbit(primary=ps[bsolar.index('Earth')+1])\n",
    "        else:\n",
    "            ps[j].calculate_orbit(primary=ps[bsolar.index('Jupiter')+1])\n",
    "    sim.move_to_com()\n",
    "    jupcom = sim.calculate_com(first=8)\n",
    "    print(jupcom-sim.particles[3])\n",
    "    return ps,sim"
   ]
  },
  {
   "cell_type": "code",
   "execution_count": 110,
   "metadata": {},
   "outputs": [],
   "source": [
    "def Integrator(bsolar,msolar,iJovian,body1,body2):\n",
    "    ps,sim = SimStart2(bsolar,msolar,iJovian)\n",
    "    xm = []\n",
    "    ym = []\n",
    "    zm = []\n",
    "    distance = []\n",
    "    Nout = 100\n",
    "    year = 365.25 # days\n",
    "    day = 86400 # s\n",
    "    tmax = 40*year\n",
    "    t0 = 140961664.18440723\n",
    "    times = np.linspace(0, tmax, Nout) # days\n",
    "    x = np.zeros((len(bsolar)+1,Nout))\n",
    "    y = np.zeros((len(bsolar)+1,Nout))\n",
    "    get_ear_an = get_spice_function(body1,'NONE',body2)\n",
    "    for i, time in enumerate(times):\n",
    "        tspice = t0 + time*day\n",
    "        sim.integrate(time)\n",
    "        for j in range(0,len(bsolar)+1):\n",
    "            x[j][i] = ps[j].x   # This stores the data which allows us to plot it later\n",
    "            y[j][i] = ps[j].y\n",
    "        xyz,uvw,radec = get_ear_an(tspice)\n",
    "        xm.append(xyz[0])\n",
    "        ym.append(xyz[1])\n",
    "        zm.append(xyz[2])\n",
    "        distance.append(np.sqrt(xm[i]**2 + ym[i]**2 + zm[i]**2))\n",
    "    return x,y,xm,ym,times,distance"
   ]
  },
  {
   "cell_type": "code",
   "execution_count": 86,
   "metadata": {},
   "outputs": [],
   "source": [
    "def ErrorSource(bsolar,mass,iJovian,b1,b2):\n",
    "    x,y,xm,ym,times,distance = Integrator(bsolar,mass,iJovian,b1,b2)\n",
    "    if b2 == 'Sun':\n",
    "        temp = 0\n",
    "    else:\n",
    "        temp = bsolar.index(b2)+1\n",
    "    dist1 = x[bsolar.index(b1)+1] - x[temp]\n",
    "    dist2 = y[bsolar.index(b1)+1] - y[temp]\n",
    "    return np.array(dist1-xm),np.array(dist2-ym),times,distance"
   ]
  },
  {
   "cell_type": "markdown",
   "metadata": {},
   "source": [
    "# Match Jupiter from the Sun with just the planets d435"
   ]
  },
  {
   "cell_type": "code",
   "execution_count": 82,
   "metadata": {},
   "outputs": [
    {
     "data": {
      "text/plain": [
       "3.0404326480249294e-06"
      ]
     },
     "execution_count": 82,
     "metadata": {},
     "output_type": "execute_result"
    }
   ],
   "source": [
    "1/328900.559810"
   ]
  },
  {
   "cell_type": "code",
   "execution_count": 83,
   "metadata": {},
   "outputs": [],
   "source": [
    "mj = 0.0009547919101638659\n",
    "me = 3.0404326480249294e-06\n",
    "mv = 2.4478382877865672e-06\n",
    "mars = 3.2271560375546917e-07\n",
    "mm = 1.6601141530544803e-07\n",
    "ms = 0.00028588567270480304\n",
    "mur = 4.3662496626890934e-05\n",
    "mnept = 5.1513837726215274e-05\n",
    "mio = 4.490855574220279e-08\n",
    "meur = 2.4132928417702382e-08\n",
    "mga = 7.450560006788226e-08\n",
    "mcal = 5.409669859576579e-08\n",
    "man = 0\n",
    "mpl = 7.350487833457728e-09"
   ]
  },
  {
   "cell_type": "code",
   "execution_count": 102,
   "metadata": {},
   "outputs": [
    {
     "name": "stdout",
     "output_type": "stream",
     "text": [
      "<rebound.Particle object, m=4.851769859925973e-05 x=20.770089032281078 y=-19.021001936899232 z=-8.278822481355249 vx=-0.014672643933426316 vy=0.0023835913095639136 vz=0.0009278432293512262>\n"
     ]
    }
   ],
   "source": [
    "Furnisher('435')\n",
    "xerr,yerr,times,distance = ErrorSource(['1','2','3','4','5','6','7','8','9'],[mm,mv,me,mars,mj,ms,mur,mnept,mpl,mio,meur,mga,mcal,man],[10,11,12,13,14],'5','Sun')\n",
    "\n"
   ]
  },
  {
   "cell_type": "code",
   "execution_count": 103,
   "metadata": {},
   "outputs": [
    {
     "data": {
      "text/plain": [
       "[<matplotlib.lines.Line2D at 0x8238825f8>]"
      ]
     },
     "execution_count": 103,
     "metadata": {},
     "output_type": "execute_result"
    },
    {
     "data": {
      "image/png": "[encoded data removed]",
      "text/plain": [
       "<Figure size 432x288 with 1 Axes>"
      ]
     },
     "metadata": {},
     "output_type": "display_data"
    }
   ],
   "source": [
    "plt.plot(times/365.24,(xerr*1e6)/4,\"d\")"
   ]
  },
  {
   "cell_type": "markdown",
   "metadata": {},
   "source": [
    "# Match Jupiter from the Sun with just the planets 310"
   ]
  },
  {
   "cell_type": "markdown",
   "metadata": {},
   "source": [
    "I am using the masses from the paper and only adding the Sun to see if it includes the inner planets. The error is large"
   ]
  },
  {
   "cell_type": "code",
   "execution_count": 42,
   "metadata": {},
   "outputs": [
    {
     "data": {
      "text/plain": [
       "0.9997929968806782"
      ]
     },
     "execution_count": 42,
     "metadata": {},
     "output_type": "execute_result"
    }
   ],
   "source": [
    "1.266865341960128E+08/1.267127641334463E+08"
   ]
  },
  {
   "cell_type": "code",
   "execution_count": 106,
   "metadata": {},
   "outputs": [
    {
     "name": "stdout",
     "output_type": "stream",
     "text": [
      "<rebound.Particle object, m=0.0009517588268827908 x=-5.363977281805212 y=1.5678537868377123 z=0.8076868740583638 vx=-0.018048577318673365 vy=-0.006212658873853664 vz=-0.0026337887390944564>\n"
     ]
    }
   ],
   "source": [
    "Furnisher('310+341+435')\n",
    "mj = 0.0009547919101638659*0.9997929968806782\n",
    "me = 3.0404326480249294e-06\n",
    "mv = 2.4478382877865672e-06\n",
    "mars = 3.2271560375546917e-07\n",
    "mm = 1.6601141530544803e-07\n",
    "ms = 0.00028588567270480304\n",
    "mur = 4.3662496626890934e-05\n",
    "mnept = 5.1513837726215274e-05\n",
    "mio = 4.490855574220279e-08\n",
    "meur = 2.4132928417702382e-08\n",
    "mga = 7.450560006788226e-08\n",
    "mcal = 5.409669859576579e-08\n",
    "man = 0\n",
    "mpl = 7.350487833457728e-09\n",
    "xerr,yerr,times,distance = ErrorSource(['1','2','3','4','6','7','8','9','Jupiter','Io','Europa','Ganymede','Callisto','Ananke'],[mm,mv,me,mars,ms,mur,mnept,mpl,mj,mio,meur,mga,mcal,0],[10,11,12,13,14],'Ananke','3')\n",
    "\n"
   ]
  },
  {
   "cell_type": "code",
   "execution_count": 107,
   "metadata": {},
   "outputs": [
    {
     "data": {
      "text/plain": [
       "[<matplotlib.lines.Line2D at 0x8239f3a90>]"
      ]
     },
     "execution_count": 107,
     "metadata": {},
     "output_type": "execute_result"
    },
    {
     "data": {
      "image/png": "[encoded data removed]",
      "text/plain": [
       "<Figure size 432x288 with 1 Axes>"
      ]
     },
     "metadata": {},
     "output_type": "display_data"
    }
   ],
   "source": [
    "plt.plot(times/365.24,(xerr*1e6)/distance,\"d\")"
   ]
  },
  {
   "cell_type": "markdown",
   "metadata": {},
   "source": [
    "* Put in all the barycenters except Jupiter from 435\n",
    "\n",
    "For jupiter:\n",
    "\n",
    "- Calculate the barycenter using 310 = xbary\n",
    "- Get the positions and velocities of Jupiter and the galilean satellites FROM the barycenter of Jupiter = deltax\n",
    "- Put them into the simulation as x = xbary + deltax"
   ]
  },
  {
   "cell_type": "code",
   "execution_count": 189,
   "metadata": {},
   "outputs": [
    {
     "data": {
      "text/plain": [
       "<rebound.Particle object, m=0.0009545885597112752 x=-4.776779158888189e-07 y=3.609914767110922e-07 z=1.656427700558183e-07 vx=5.8663120155620294e-08 vy=-1.5339260889171008e-07 vz=-6.876251550927068e-08>"
      ]
     },
     "execution_count": 189,
     "metadata": {},
     "output_type": "execute_result"
    }
   ],
   "source": [
    "Furnisher('310')\n",
    "sim = rebound.Simulation()\n",
    "\n",
    "func = get_spice_function('Jupiter','None','0')\n",
    "xyz,uvw,radec = func(140961664.18440723)\n",
    "sim.add(m=mj,x=xyz[0],y=xyz[1],z=xyz[2],vx=uvw[0],vy=uvw[1],vz=uvw[2])\n",
    "\n",
    "func = get_spice_function('Io','None','0')\n",
    "xyz,uvw,radec = func(140961664.18440723)\n",
    "sim.add(m=mio, x=xyz[0],y=xyz[1],z=xyz[2],vx=uvw[0],vy=uvw[1],vz=uvw[2])\n",
    "\n",
    "func = get_spice_function('Europa','None','0')\n",
    "xyz,uvw,radec = func(140961664.18440723)\n",
    "sim.add(m=meur, x=xyz[0],y=xyz[1],z=xyz[2],vx=uvw[0],vy=uvw[1],vz=uvw[2])\n",
    "\n",
    "func = get_spice_function('Ganymede','None','0')\n",
    "xyz,uvw,radec = func(140961664.18440723)\n",
    "sim.add(m=mga, x=xyz[0],y=xyz[1],z=xyz[2],vx=uvw[0],vy=uvw[1],vz=uvw[2])\n",
    "\n",
    "func = get_spice_function('Callisto','None','0')\n",
    "xyz,uvw,radec = func(140961664.18440723)\n",
    "sim.add(m=mcal, x=xyz[0],y=xyz[1],z=xyz[2],vx=uvw[0],vy=uvw[1],vz=uvw[2])\n",
    "\n",
    "sim.move_to_com()\n",
    "ps = sim.particles\n",
    "ps[0]"
   ]
  },
  {
   "cell_type": "code",
   "execution_count": 191,
   "metadata": {},
   "outputs": [
    {
     "data": {
      "text/plain": [
       "(array([-4.77679195e-07,  3.60990911e-07,  1.65642488e-07]),\n",
       " array([ 5.86709634e-08, -1.53407160e-07, -6.87692425e-08]),\n",
       " array([142.92099107,  15.4641537 ]))"
      ]
     },
     "execution_count": 191,
     "metadata": {},
     "output_type": "execute_result"
    }
   ],
   "source": [
    "func = get_spice_function('Jupiter','None','5')\n",
    "func(140961664.18440723)"
   ]
  },
  {
   "cell_type": "markdown",
   "metadata": {},
   "source": [
    "Now try to find the barycenter of Jupiter within one pixel from "
   ]
  },
  {
   "cell_type": "code",
   "execution_count": null,
   "metadata": {},
   "outputs": [],
   "source": []
  },
  {
   "cell_type": "markdown",
   "metadata": {},
   "source": [
    "'''\n",
    "1. Take 435 with the barycenters, don't include 1,2,3,4 and add their masses\n",
    "into the Sun. See if the error is within a pixel\n",
    "\n",
    "-For the masses of Neptune... take the GM of Neptune from 435 and divide it from\n",
    "the mass of the Sun AND the inner planets from the same file.\n",
    "\n",
    "Does this work within a pixel?\n",
    "\n",
    "Sun to Jupiter vector\n",
    "\n",
    "'''"
   ]
  },
  {
   "cell_type": "code",
   "execution_count": 23,
   "metadata": {},
   "outputs": [
    {
     "name": "stdout",
     "output_type": "stream",
     "text": [
      "<rebound.Particle object, m=-4.366223727136226e-05 x=-18.023184673954752 y=7.954918918444482 z=3.7389749577064535 vx=-0.001694691769854902 vy=-0.0030793558102794687 vz=-0.0013247118204276955>\n"
     ]
    }
   ],
   "source": [
    "nmj = 0.0009547862387060006\n",
    "nms = 0.00028588397455573165\n",
    "nmur = 4.366223727136226e-05\n",
    "nmnept = 5.151353173307904e-05\n",
    "nmpl = 7.3504441714156645e-09\n",
    "xerr,yerr,times = ErrorSource(['5','6','7','8','9'],[nmj,nms,nmur,nmnept,nmpl],[],'5','Sun')\n"
   ]
  },
  {
   "cell_type": "code",
   "execution_count": 24,
   "metadata": {},
   "outputs": [
    {
     "data": {
      "text/plain": [
       "[<matplotlib.lines.Line2D at 0x8226a86a0>]"
      ]
     },
     "execution_count": 24,
     "metadata": {},
     "output_type": "execute_result"
    },
    {
     "data": {
      "image/png": "[encoded data removed]",
      "text/plain": [
       "<Figure size 432x288 with 1 Axes>"
      ]
     },
     "metadata": {},
     "output_type": "display_data"
    }
   ],
   "source": [
    "plt.plot(times/365.24,(xerr*1e6)/4,\"d\")"
   ]
  },
  {
   "cell_type": "markdown",
   "metadata": {},
   "source": [
    "Okay this didn't work. Now we try to find 5 (Jupiter Barycenter) within one pixel from Earth barycenter."
   ]
  },
  {
   "cell_type": "markdown",
   "metadata": {},
   "source": [
    "trying Ananke again with Earth Moon separate"
   ]
  },
  {
   "cell_type": "code",
   "execution_count": 93,
   "metadata": {},
   "outputs": [
    {
     "data": {
      "text/plain": [
       "3.6943033229720506e-08"
      ]
     },
     "execution_count": 93,
     "metadata": {},
     "output_type": "execute_result"
    }
   ],
   "source": [
    "1/27068703.151194"
   ]
  },
  {
   "cell_type": "code",
   "execution_count": 111,
   "metadata": {},
   "outputs": [
    {
     "name": "stdout",
     "output_type": "stream",
     "text": [
      "<rebound.Particle object, m=0.0010033096076422423 x=-4.025982717272712 y=0.5139924446850468 z=0.34255007174961744 vx=-0.017882027637642083 vy=-0.005775174050169907 vz=-0.002452383687202985>\n"
     ]
    }
   ],
   "source": [
    "Furnisher('310+341+435')\n",
    "mj = 0.0009547919101638659*0.9997929968806782\n",
    "me = 3.0034896147890027e-06\n",
    "mmoon = 3.6943033229720506e-08\n",
    "mv = 2.4478382877865672e-06\n",
    "mars = 3.2271560375546917e-07\n",
    "mm = 1.6601141530544803e-07\n",
    "ms = 0.00028588567270480304\n",
    "mur = 4.3662496626890934e-05\n",
    "mnept = 5.1513837726215274e-05\n",
    "mio = 4.490855574220279e-08\n",
    "meur = 2.4132928417702382e-08\n",
    "mga = 7.450560006788226e-08\n",
    "mcal = 5.409669859576579e-08\n",
    "man = 0\n",
    "mpl = 7.350487833457728e-09\n",
    "xerr,yerr,times,distance = ErrorSource(['1','2','Earth','Moon','4','6','7','8','9','Jupiter','Io','Europa','Ganymede','Callisto','Ananke'],[mm,mv,me,mmoon,mars,ms,mur,mnept,mpl,mj,mio,meur,mga,mcal,0],[11,12,13,14,15],'Ananke','Earth')\n",
    "\n"
   ]
  },
  {
   "cell_type": "code",
   "execution_count": 112,
   "metadata": {},
   "outputs": [
    {
     "data": {
      "text/plain": [
       "[<matplotlib.lines.Line2D at 0x823b74c18>]"
      ]
     },
     "execution_count": 112,
     "metadata": {},
     "output_type": "execute_result"
    },
    {
     "data": {
      "image/png": "[encoded data removed]",
      "text/plain": [
       "<Figure size 432x288 with 1 Axes>"
      ]
     },
     "metadata": {},
     "output_type": "display_data"
    }
   ],
   "source": [
    "plt.plot(times/365.24,(xerr*1e6)/distance,\"d\")"
   ]
  },
  {
   "cell_type": "code",
   "execution_count": null,
   "metadata": {},
   "outputs": [],
   "source": []
  }
 ],
 "metadata": {
  "kernelspec": {
   "display_name": "Python 3",
   "language": "python",
   "name": "python3"
  },
  "language_info": {
   "codemirror_mode": {
    "name": "ipython",
    "version": 3
   },
   "file_extension": ".py",
   "mimetype": "text/x-python",
   "name": "python",
   "nbconvert_exporter": "python",
   "pygments_lexer": "ipython3",
   "version": "3.6.7"
  }
 },
 "nbformat": 4,
 "nbformat_minor": 2
}

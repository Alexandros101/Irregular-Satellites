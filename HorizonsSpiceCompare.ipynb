{
 "cells": [
  {
   "cell_type": "code",
   "execution_count": 2,
   "metadata": {},
   "outputs": [],
   "source": [
    "import numpy as np\n",
    "import pandas as pd\n",
    "import spiceypy as spice\n",
    "import numpy as np\n",
    "import matplotlib.pyplot as plt\n",
    "import astropy.units as u\n",
    "from astropy.constants import c\n",
    "from astropy.time import Time\n",
    "from astroquery.jplhorizons import Horizons\n",
    "import rebound"
   ]
  },
  {
   "cell_type": "code",
   "execution_count": 3,
   "metadata": {},
   "outputs": [],
   "source": [
    "def Furnisher(k):\n",
    "    '''\n",
    "    This function is used to load all kernels needed in an operation.\n",
    "    Comment out kernels not in use and add the ones in use.\n",
    "    \n",
    "    Arguments: NA\n",
    "    Returns: NA\n",
    "    \n",
    "    '''\n",
    "    spice.kclear()\n",
    "    spice.furnsh('/Users/user/Downloads/naif0007.tls.txt')\n",
    "    if k == '310+341+435':\n",
    "            spice.furnsh('/Users/user/Downloads/jup310.bsp')\n",
    "            spice.furnsh('/Users/user/Downloads/jup341.bsp')\n",
    "            spice.furnsh('/Users/user/Downloads/de435.bsp')\n",
    "    elif k == '310+341':\n",
    "            spice.furnsh('/Users/user/Downloads/jup310.bsp')\n",
    "            spice.furnsh('/Users/user/Downloads/jup341.bsp')\n",
    "    elif k == '310+435':\n",
    "            spice.furnsh('/Users/user/Downloads/de435.bsp')\n",
    "            spice.furnsh('/Users/user/Downloads/jup310.bsp')\n",
    "    elif k == '341+435':\n",
    "            spice.furnsh('/Users/user/Downloads/jup341.bsp')\n",
    "            spice.furnsh('/Users/user/Downloads/de435.bsp')\n",
    "    elif k == '310':\n",
    "            spice.furnsh('/Users/user/Downloads/jup310.bsp')\n",
    "    elif k == '341':\n",
    "            spice.furnsh('/Users/user/Downloads/jup341.bsp')\n",
    "    elif k == '435':\n",
    "            spice.furnsh('/Users/user/Downloads/de435.bsp')\n",
    "    pass"
   ]
  },
  {
   "cell_type": "code",
   "execution_count": 4,
   "metadata": {},
   "outputs": [],
   "source": [
    "def get_spice_function(name,cor,loc):\n",
    "    \"\"\"\n",
    "    This wrapper function automates the creation of objects through the JPL Horizons database. \n",
    "    \n",
    "    Arguments:\n",
    "    \n",
    "    name: str\n",
    "    \n",
    "    Stipulates the target object in Horizons. The major bodies in the Solar System have an id based on their position.\n",
    "    Hence '5' refers to Jupiter and '3' to Earth. A single number designator refers to a barycenter and a designator\n",
    "    such as '599' to the planetary center. For minor bodies in the Solar System, the id_type in the Horizons\n",
    "    must be changed to \"minorbody\"\n",
    "    \n",
    "    cor: str\n",
    "    \n",
    "    Refers to the type of correction that the object has. Available arguments are 'NONE', 'LT','LT+S'\n",
    "    \n",
    "    loc: str\n",
    "    \n",
    "    Designates the location of observation. Names that start with \"g@#\" refer to barycenters where the number designates the \n",
    "    body that the observer is based at. Hence \"g@0\" refers to the Solar System barycenter. Also takes Earth location designators.\n",
    "    Observatories are named after their code. Hence, Pan-Starrs observatory is referred as \"f51\"\n",
    "\n",
    "    Returns:\n",
    "    \n",
    "    get_target_xyz function\n",
    "    \"\"\"    \n",
    "    def get_target_xyz(t):\n",
    "        \"\"\"\n",
    "        Returns the vectors of the Horizons body at a certain time t.\n",
    "        \n",
    "        Arguments:\n",
    "        \n",
    "        t: days\n",
    "        \n",
    "        Julian date of observation\n",
    "        \n",
    "        Returns:\n",
    "    \n",
    "        xyz: numpy array\n",
    "        \n",
    "        A position vector of the observed object\n",
    "    \n",
    "        uvw: numpy array\n",
    "        \n",
    "        An instantaneous velocity vector of the observed object\n",
    "        \n",
    "        radec: numpy array\n",
    "        \n",
    "        The right ascension and declination of the observed object\n",
    "        \"\"\"\n",
    "        \n",
    "        state,lighttime = spice.spkezr(name,t,'J2000',cor,loc)\n",
    "        pos,lighttime = spice.spkpos(name,t,'J2000',cor,loc)\n",
    "        range,ra,dec = spice.recrad(pos) \n",
    "        xyz = np.array([state[0],state[1],state[2]])/149597870.7#6.68459e-9\n",
    "        uvw = np.array([state[3],state[4],state[5]])/149597870.7*24.*3600.#*6.68459e-9\n",
    "        radec = np.array([ra,dec])\n",
    "        return xyz,uvw,radec*180/np.pi\n",
    "    return get_target_xyz"
   ]
  },
  {
   "cell_type": "code",
   "execution_count": 5,
   "metadata": {},
   "outputs": [],
   "source": [
    "Furnisher(\"310+341+435\")"
   ]
  },
  {
   "cell_type": "code",
   "execution_count": 6,
   "metadata": {},
   "outputs": [],
   "source": [
    "def get_astroquery_function(name,cor,loc):\n",
    "    \"\"\"\n",
    "    This wrapper function automates the creation of objects through the JPL Horizons database. \n",
    "    \n",
    "    Arguments:\n",
    "    \n",
    "    name: str\n",
    "    \n",
    "    Stipulates the target object in Horizons. The major bodies in the Solar System have an id based on their position.\n",
    "    Hence '5' refers to Jupiter and '3' to Earth. A single number designator refers to a barycenter and a designator\n",
    "    such as '599' to the planetary center. For minor bodies in the Solar System, the id_type in the Horizons\n",
    "    must be changed to \"minorbody\"\n",
    "    \n",
    "    cor: str\n",
    "    \n",
    "    Refers to the type of correction that the object has. Available arguments are \"geometric\",\"astrometric\" and \n",
    "    \"apparent\"\n",
    "    \n",
    "    loc: str\n",
    "    \n",
    "    Designates the location of observation. Names that start with \"g@#\" refer to barycenters where the number designates the \n",
    "    body that the observer is based at. Hence \"g@0\" refers to the Solar System barycenter. Also takes Earth location designators.\n",
    "    Observatories are named after their code. Hence, Pan-Starrs observatory is referred as \"f51\"\n",
    "\n",
    "    Returns:\n",
    "    \n",
    "    get_target_xyz function\n",
    "    \"\"\"    \n",
    "    def get_target_xyz(t):\n",
    "        \"\"\"\n",
    "        Returns the vectors of the Horizons body at a certain time t.\n",
    "        \n",
    "        Arguments:\n",
    "        \n",
    "        t: days\n",
    "        \n",
    "        Julian date of observation\n",
    "        \n",
    "        Returns:\n",
    "    \n",
    "        xyz: numpy array\n",
    "        \n",
    "        A position vector of the observed object\n",
    "    \n",
    "        uvw: numpy array\n",
    "        \n",
    "        An instantaneous velocity vector of the observed object\n",
    "        \"\"\"\n",
    "        \n",
    "        obj = Horizons(id = name, location = loc, epochs = t, id_type = 'majorbody')\n",
    "        obj1 = obj.vectors(aberrations = cor, refplane = 'earth')\n",
    "        xyz = np.array([float(obj1['x']),float(obj1['y']),float(obj1['z'])])\n",
    "        uvw = np.array([float(obj1['vx']),float(obj1['vy']),float(obj1['vz'])])\n",
    "        obj2 = obj.ephemerides(refsystem = 'J2000', extra_precision = True)\n",
    "        radec = np.array([float(obj2['RA']),float(obj2['DEC']),float(obj1['range'])])\n",
    "        return xyz,uvw,radec\n",
    "    return get_target_xyz  "
   ]
  },
  {
   "cell_type": "code",
   "execution_count": 105,
   "metadata": {},
   "outputs": [],
   "source": [
    "def JD_to_SpiceJD(jd):\n",
    "    '''\n",
    "    \n",
    "    Converts jd date to spice units of time.\n",
    "    \n",
    "    Arguments:\n",
    "    \n",
    "    jd: float\n",
    "    \n",
    "    A jd time in days\n",
    "    \n",
    "    Returns:\n",
    "    \n",
    "    newjd: float\n",
    "    \n",
    "    A spice usable time in seconds\n",
    "    \n",
    "    \n",
    "    '''\n",
    "    t = Time(jd, format='jd', scale='utc')\n",
    "    k = t.fits\n",
    "    year = k[0:4]\n",
    "    month = k[5:7]\n",
    "    day = k[8:10]\n",
    "    hours = k[11:13]\n",
    "    minutes = k[14:16]\n",
    "    seconds = k[17:23]\n",
    "    newmnth = monthToNum(month)\n",
    "    utc = newmnth + ' ' + day + \", \" + year\n",
    "    newjd = spice.str2et(utc) + int(hours)*3600 + int(minutes)*60 + float(seconds)\n",
    "    return newjd"
   ]
  },
  {
   "cell_type": "code",
   "execution_count": 8,
   "metadata": {},
   "outputs": [],
   "source": [
    "def monthToNum(shortMonth):\n",
    "    \n",
    "    '''\n",
    "    \n",
    "    Returns the name of a month that a number corresponds to and vice versa\n",
    "    \n",
    "    Arguments:\n",
    "    \n",
    "    shortMonth: str\n",
    "    \n",
    "    Either the first three letters of a month or its number (e.g. 01 for January, 10 for October)\n",
    "    \n",
    "    Returns:\n",
    "    \n",
    "    shortMonth: str\n",
    "    \n",
    "    Either the first three letters of a month or its number (e.g. 01 for January, 10 for October),\n",
    "    the other one to the one that was given as an argument\n",
    "    \n",
    "    '''\n",
    "    \n",
    "    return{\n",
    "        'Jan' : '01', 'Feb' : '02','Mar' : '03','Apr' : '04','May' : '05','Jun' : '06','Jul' : '07','Aug' : '08',\n",
    "        'Sep' : '09', 'Oct' : '10','Nov' : '11','Dec' : '12','01' : 'Jan','02' : 'Feb','03' : 'Mar','04' : 'Apr',\n",
    "        '05' : 'May','06' : 'Jun','07' : 'Jul','08' : 'Aug','09' : 'Sep', '10' : 'Oct','11' : 'Nov','12' : 'Dec'}[shortMonth]"
   ]
  },
  {
   "cell_type": "code",
   "execution_count": 21,
   "metadata": {},
   "outputs": [
    {
     "data": {
      "text/html": [
       "<i>Table masked=True length=1</i>\n",
       "<table id=\"table34753509808\" class=\"table-striped table-bordered table-condensed\">\n",
       "<thead><tr><th>targetname</th><th>datetime_str</th><th>datetime_jd</th><th>solar_presence</th><th>flags</th><th>RA</th><th>DEC</th><th>RA_app</th><th>DEC_app</th><th>RA_rate</th><th>DEC_rate</th><th>AZ</th><th>EL</th><th>AZ_rate</th><th>EL_rate</th><th>sat_X</th><th>sat_Y</th><th>sat_PANG</th><th>siderealtime</th><th>airmass</th><th>magextinct</th><th>V</th><th>surfbright</th><th>illumination</th><th>illum_defect</th><th>sat_sep</th><th>sat_vis</th><th>ang_width</th><th>PDObsLon</th><th>PDObsLat</th><th>PDSunLon</th><th>PDSunLat</th><th>SubSol_ang</th><th>SubSol_dist</th><th>NPole_ang</th><th>NPole_dist</th><th>EclLon</th><th>EclLat</th><th>r</th><th>r_rate</th><th>delta</th><th>delta_rate</th><th>lighttime</th><th>vel_sun</th><th>vel_obs</th><th>elong</th><th>elongFlag</th><th>alpha</th><th>lunar_elong</th><th>lunar_illum</th><th>sat_alpha</th><th>sunTargetPA</th><th>velocityPA</th><th>OrbPlaneAng</th><th>constellation</th><th>TDB-UT</th><th>ObsEclLon</th><th>ObsEclLat</th><th>NPole_RA</th><th>NPole_DEC</th><th>GlxLon</th><th>GlxLat</th><th>solartime</th><th>earth_lighttime</th><th>RA_3sigma</th><th>DEC_3sigma</th><th>SMAA_3sigma</th><th>SMIA_3sigma</th><th>Theta_3sigma</th><th>Area_3sigma</th><th>RSS_3sigma</th><th>r_3sigma</th><th>r_rate_3sigma</th><th>SBand_3sigma</th><th>XBand_3sigma</th><th>DoppDelay_3sigma</th><th>true_anom</th><th>hour_angle</th><th>alpha_true</th><th>PABLon</th><th>PABLat</th></tr></thead>\n",
       "<thead><tr><th>---</th><th>---</th><th>d</th><th>---</th><th>---</th><th>deg</th><th>deg</th><th>deg</th><th>deg</th><th>arcsec / h</th><th>arcsec / h</th><th>deg</th><th>deg</th><th>arcsec / min</th><th>arcsec / min</th><th>arcsec</th><th>arcsec</th><th>deg</th><th>---</th><th>---</th><th>mag</th><th>mag</th><th>mag / arcsec2</th><th>%</th><th>arcsec</th><th>arcsec</th><th>---</th><th>arcsec</th><th>deg</th><th>deg</th><th>deg</th><th>deg</th><th>deg</th><th>arcsec</th><th>deg</th><th>arcsec</th><th>deg</th><th>deg</th><th>AU</th><th>km / s</th><th>AU</th><th>km / s</th><th>min</th><th>km / s</th><th>km / s</th><th>deg</th><th>---</th><th>deg</th><th>deg</th><th>%</th><th>deg</th><th>deg</th><th>deg</th><th>deg</th><th>---</th><th>s</th><th>deg</th><th>deg</th><th>deg</th><th>deg</th><th>deg</th><th>deg</th><th>---</th><th>min</th><th>arcsec</th><th>arcsec</th><th>arcsec</th><th>arcsec</th><th>deg</th><th>arcsec2</th><th>arcsec</th><th>km</th><th>km / s</th><th>Hz</th><th>Hz</th><th>s</th><th>deg</th><th>---</th><th>deg</th><th>deg</th><th>deg</th></tr></thead>\n",
       "<thead><tr><th>str12</th><th>str24</th><th>float64</th><th>str1</th><th>str1</th><th>float64</th><th>float64</th><th>float64</th><th>float64</th><th>float64</th><th>float64</th><th>float64</th><th>float64</th><th>float64</th><th>float64</th><th>float64</th><th>float64</th><th>float64</th><th>float64</th><th>int64</th><th>int64</th><th>float64</th><th>float64</th><th>float64</th><th>float64</th><th>float64</th><th>str1</th><th>float64</th><th>int64</th><th>int64</th><th>int64</th><th>int64</th><th>float64</th><th>float64</th><th>int64</th><th>int64</th><th>float64</th><th>float64</th><th>float64</th><th>float64</th><th>float64</th><th>float64</th><th>float64</th><th>float64</th><th>float64</th><th>float64</th><th>str2</th><th>float64</th><th>float64</th><th>float64</th><th>float64</th><th>float64</th><th>float64</th><th>float64</th><th>str3</th><th>float64</th><th>float64</th><th>float64</th><th>int64</th><th>int64</th><th>float64</th><th>float64</th><th>float64</th><th>float64</th><th>int64</th><th>int64</th><th>int64</th><th>int64</th><th>int64</th><th>int64</th><th>int64</th><th>int64</th><th>int64</th><th>int64</th><th>int64</th><th>int64</th><th>int64</th><th>float64</th><th>float64</th><th>float64</th><th>float64</th></tr></thead>\n",
       "<tr><td>Ananke (512)</td><td>1998-Jan-01 10:00:00.000</td><td>2450814.916666667</td><td>*</td><td>m</td><td>326.73691</td><td>-15.29712</td><td>326.70377</td><td>-15.30689</td><td>30.16205</td><td>11.1808</td><td>112.2502</td><td>-1.1154</td><td>674.06</td><td>549.95</td><td>5979.428</td><td>-1505.1</td><td>104.365</td><td>16.8724515049</td><td>999</td><td>--</td><td>19.42</td><td>7.61</td><td>99.539</td><td>2.3e-05</td><td>6160.251</td><td>*</td><td>0.004903</td><td>--</td><td>--</td><td>--</td><td>--</td><td>252.51</td><td>0.0</td><td>--</td><td>--</td><td>331.5854</td><td>-2.0574</td><td>4.950677005156</td><td>1.3754834</td><td>5.62404798995453</td><td>19.7663603</td><td>46.773781</td><td>14.37827</td><td>41.46101</td><td>43.0127</td><td>/T</td><td>7.7883</td><td>8.195</td><td>9.3</td><td>61.1256</td><td>72.502</td><td>250.669</td><td>-0.25067</td><td>Cap</td><td>63.183912</td><td>323.7646294</td><td>-1.8113796</td><td>--</td><td>--</td><td>38.681014</td><td>-45.665694</td><td>10.0906810128</td><td>0.000354</td><td>--</td><td>--</td><td>--</td><td>--</td><td>--</td><td>--</td><td>--</td><td>--</td><td>--</td><td>--</td><td>--</td><td>--</td><td>--</td><td>-4.907799942</td><td>7.7841</td><td>327.69</td><td>-1.9389</td></tr>\n",
       "</table>"
      ],
      "text/plain": [
       "<Table masked=True length=1>\n",
       " targetname        datetime_str          datetime_jd    ...  PABLon  PABLat\n",
       "    ---                ---                    d         ...   deg     deg  \n",
       "   str12              str24                float64      ... float64 float64\n",
       "------------ ------------------------ ----------------- ... ------- -------\n",
       "Ananke (512) 1998-Jan-01 10:00:00.000 2450814.916666667 ...  327.69 -1.9389"
      ]
     },
     "execution_count": 21,
     "metadata": {},
     "output_type": "execute_result"
    }
   ],
   "source": [
    "obj = Horizons(id = 'Ananke', location = '5', epochs = 2450814.916666667, id_type = 'majorbody')\n",
    "obj.ephemerides()\n"
   ]
  },
  {
   "cell_type": "code",
   "execution_count": 94,
   "metadata": {
    "scrolled": true
   },
   "outputs": [
    {
     "name": "stdout",
     "output_type": "stream",
     "text": [
      "1998-01-01T09:58:56.028(UTC)\n",
      "0\n",
      "1998-04-11T09:58:56.028(UTC)\n",
      "1\n",
      "1998-07-20T09:58:56.028(UTC)\n",
      "2\n",
      "1998-10-28T09:58:56.028(UTC)\n",
      "3\n",
      "1999-02-05T09:58:56.028(UTC)\n",
      "4\n",
      "1999-05-16T09:58:56.028(UTC)\n",
      "5\n",
      "1999-08-24T09:58:56.028(UTC)\n",
      "6\n",
      "1999-12-02T09:58:56.028(UTC)\n",
      "7\n",
      "2000-03-11T09:58:56.028(UTC)\n",
      "8\n",
      "2000-06-19T09:58:56.028(UTC)\n",
      "9\n",
      "2000-09-27T09:58:56.028(UTC)\n",
      "10\n",
      "2001-01-05T09:58:56.028(UTC)\n",
      "11\n",
      "2001-04-15T09:58:56.028(UTC)\n",
      "12\n",
      "2001-07-24T09:58:56.028(UTC)\n",
      "13\n",
      "2001-11-01T09:58:56.028(UTC)\n",
      "14\n",
      "2002-02-09T09:58:56.028(UTC)\n",
      "15\n",
      "2002-05-20T09:58:56.028(UTC)\n",
      "16\n",
      "2002-08-28T09:58:56.028(UTC)\n",
      "17\n",
      "2002-12-06T09:58:56.028(UTC)\n",
      "18\n",
      "2003-03-16T09:58:56.028(UTC)\n",
      "19\n",
      "2003-06-24T09:58:56.028(UTC)\n",
      "20\n",
      "2003-10-02T09:58:56.028(UTC)\n",
      "21\n",
      "2004-01-10T09:58:56.028(UTC)\n",
      "22\n",
      "2004-04-19T09:58:56.028(UTC)\n",
      "23\n",
      "2004-07-28T09:58:56.028(UTC)\n",
      "24\n",
      "2004-11-05T09:58:56.028(UTC)\n",
      "25\n",
      "2005-02-13T09:58:56.028(UTC)\n",
      "26\n",
      "2005-05-24T09:58:56.028(UTC)\n",
      "27\n",
      "2005-09-01T09:58:56.028(UTC)\n",
      "28\n",
      "2005-12-10T09:58:56.028(UTC)\n",
      "29\n",
      "2006-03-20T09:58:56.028(UTC)\n",
      "30\n",
      "2006-06-28T09:58:56.028(UTC)\n",
      "31\n",
      "2006-10-06T09:58:56.028(UTC)\n",
      "32\n",
      "2007-01-14T09:58:56.028(UTC)\n",
      "33\n",
      "2007-04-24T09:58:56.028(UTC)\n",
      "34\n",
      "2007-08-02T09:58:56.028(UTC)\n",
      "35\n",
      "2007-11-10T09:58:56.028(UTC)\n",
      "36\n",
      "2008-02-18T09:58:56.028(UTC)\n",
      "37\n",
      "2008-05-28T09:58:56.028(UTC)\n",
      "38\n",
      "2008-09-05T09:58:56.028(UTC)\n",
      "39\n",
      "2008-12-14T09:58:56.028(UTC)\n",
      "40\n",
      "2009-03-24T09:58:56.028(UTC)\n",
      "41\n",
      "2009-07-02T09:58:56.028(UTC)\n",
      "42\n",
      "2009-10-10T09:58:56.028(UTC)\n",
      "43\n",
      "2010-01-18T09:58:56.028(UTC)\n",
      "44\n",
      "2010-04-28T09:58:56.028(UTC)\n",
      "45\n",
      "2010-08-06T09:58:56.028(UTC)\n",
      "46\n",
      "2010-11-14T09:58:56.028(UTC)\n",
      "47\n",
      "2011-02-22T09:58:56.028(UTC)\n",
      "48\n",
      "2011-06-02T09:58:56.028(UTC)\n",
      "49\n",
      "2011-09-10T09:58:56.028(UTC)\n",
      "50\n",
      "2011-12-19T09:58:56.028(UTC)\n",
      "51\n",
      "2012-03-28T09:58:56.028(UTC)\n",
      "52\n",
      "2012-07-06T09:58:56.028(UTC)\n",
      "53\n",
      "2012-10-14T09:58:56.028(UTC)\n",
      "54\n",
      "2013-01-22T09:58:56.028(UTC)\n",
      "55\n",
      "2013-05-02T09:58:56.028(UTC)\n",
      "56\n",
      "2013-08-10T09:58:56.028(UTC)\n",
      "57\n",
      "2013-11-18T09:58:56.028(UTC)\n",
      "58\n",
      "2014-02-26T09:58:56.028(UTC)\n",
      "59\n",
      "2014-06-06T09:58:56.028(UTC)\n",
      "60\n",
      "2014-09-14T09:58:56.028(UTC)\n",
      "61\n",
      "2014-12-23T09:58:56.028(UTC)\n",
      "62\n",
      "2015-04-02T09:58:56.028(UTC)\n",
      "63\n",
      "2015-07-11T09:58:56.028(UTC)\n",
      "64\n",
      "2015-10-19T09:58:56.028(UTC)\n",
      "65\n",
      "2016-01-27T09:58:56.028(UTC)\n",
      "66\n",
      "2016-05-06T09:58:56.028(UTC)\n",
      "67\n",
      "2016-08-14T09:58:56.028(UTC)\n",
      "68\n",
      "2016-11-22T09:58:56.028(UTC)\n",
      "69\n",
      "2017-03-02T09:58:56.028(UTC)\n",
      "70\n",
      "2017-06-10T09:58:56.028(UTC)\n",
      "71\n",
      "2017-09-18T09:58:56.028(UTC)\n",
      "72\n",
      "2017-12-27T09:58:56.028(UTC)\n",
      "73\n",
      "2018-04-06T09:58:56.028(UTC)\n",
      "74\n",
      "2018-07-15T09:58:56.028(UTC)\n",
      "75\n",
      "2018-10-23T09:58:56.028(UTC)\n",
      "76\n",
      "2019-01-31T09:58:56.028(UTC)\n",
      "77\n",
      "2019-05-11T09:58:56.028(UTC)\n",
      "78\n",
      "2019-08-19T09:58:56.028(UTC)\n",
      "79\n",
      "2019-11-27T09:58:56.028(UTC)\n",
      "80\n",
      "2020-03-06T09:58:56.028(UTC)\n",
      "81\n",
      "2020-06-14T09:58:56.028(UTC)\n",
      "82\n",
      "2020-09-22T09:58:56.028(UTC)\n",
      "83\n",
      "2020-12-31T09:58:56.028(UTC)\n",
      "84\n",
      "2021-04-10T09:58:56.028(UTC)\n",
      "85\n",
      "2021-07-19T09:58:56.028(UTC)\n",
      "86\n",
      "2021-10-27T09:58:56.028(UTC)\n",
      "87\n",
      "2022-02-04T09:58:56.028(UTC)\n",
      "88\n",
      "2022-05-15T09:58:56.028(UTC)\n"
     ]
    },
    {
     "name": "stderr",
     "output_type": "stream",
     "text": [
      "WARNING: ErfaWarning: ERFA function \"d2dtf\" yielded 1 of \"dubious year (Note 5)\" [astropy._erfa.core]\n"
     ]
    },
    {
     "name": "stdout",
     "output_type": "stream",
     "text": [
      "89\n",
      "2022-08-23T09:58:56.028(UTC)\n",
      "90\n",
      "2022-12-01T09:58:56.028(UTC)\n",
      "91\n",
      "2023-03-11T09:58:56.028(UTC)\n",
      "92\n",
      "2023-06-19T09:58:56.028(UTC)\n",
      "93\n",
      "2023-09-27T09:58:56.028(UTC)\n",
      "94\n",
      "2024-01-05T09:58:56.028(UTC)\n",
      "95\n",
      "2024-04-14T09:58:56.028(UTC)\n",
      "96\n",
      "2024-07-23T09:58:56.028(UTC)\n",
      "97\n",
      "2024-10-31T09:58:56.028(UTC)\n",
      "98\n",
      "2025-02-08T09:58:56.028(UTC)\n",
      "99\n"
     ]
    }
   ],
   "source": [
    "spic = []\n",
    "hors = []\n",
    "\n",
    "get_jupsp = get_spice_function('5','NONE','0')\n",
    "get_juphr = get_astroquery_function('5','geometric','g@0')\n",
    "for i in range(0,100):\n",
    "    spic.append(get_jupsp(JD_to_SpiceJD(2450814.916666667+100*i-0.01777/(24))))\n",
    "    hors.append(get_juphr(2450814.916666667+100*i))\n",
    "    print(i)\n",
    "spx = []\n",
    "hrx = []\n",
    "spy = []\n",
    "hry = []\n",
    "spz = []\n",
    "hrz = []\n",
    "spu = []\n",
    "hru = []\n",
    "spv = []\n",
    "hrv = []\n",
    "spw = []\n",
    "hrw = []\n",
    "spra = []\n",
    "hrra = []\n",
    "spdec = []\n",
    "hrdec = []\n",
    "for i in range(0,100):\n",
    "    spx.append(spic[i][0][0])\n",
    "    hrx.append(hors[i][0][0])\n",
    "    spy.append(spic[i][0][1])\n",
    "    hry.append(hors[i][0][1])\n",
    "    spz.append(spic[i][0][2])\n",
    "    hrz.append(hors[i][0][2])\n",
    "    spu.append(spic[i][1][0])\n",
    "    hru.append(hors[i][1][0])\n",
    "    spv.append(spic[i][1][1])\n",
    "    hrv.append(hors[i][1][1])\n",
    "    spw.append(spic[i][1][2])\n",
    "    hrw.append(hors[i][1][2])\n",
    "    spra.append(spic[i][2][0])\n",
    "    hrra.append(hors[i][2][0])\n",
    "    spdec.append(spic[i][2][1])\n",
    "    hrdec.append(hors[i][2][1])"
   ]
  },
  {
   "cell_type": "code",
   "execution_count": 83,
   "metadata": {},
   "outputs": [
    {
     "data": {
      "text/plain": [
       "[<matplotlib.lines.Line2D at 0x82a7fc0b8>]"
      ]
     },
     "execution_count": 83,
     "metadata": {},
     "output_type": "execute_result"
    },
    {
     "data": {
      "image/png": "[encoded data removed]",
      "text/plain": [
       "<Figure size 432x288 with 1 Axes>"
      ]
     },
     "metadata": {},
     "output_type": "display_data"
    }
   ],
   "source": [
    "plt.plot(x,10**3*(np.array(spu)-np.array(hru)),\"d\")\n",
    "plt.plot(x,(np.array(spx)-np.array(hrx)),\"d\")\n",
    "#-0.01777 hours"
   ]
  },
  {
   "cell_type": "code",
   "execution_count": 81,
   "metadata": {},
   "outputs": [
    {
     "data": {
      "text/plain": [
       "[<matplotlib.lines.Line2D at 0x82ab7a710>]"
      ]
     },
     "execution_count": 81,
     "metadata": {},
     "output_type": "execute_result"
    },
    {
     "data": {
      "image/png": "[encoded data removed]",
      "text/plain": [
       "<Figure size 432x288 with 1 Axes>"
      ]
     },
     "metadata": {},
     "output_type": "display_data"
    }
   ],
   "source": [
    "plt.plot(x,10**3*(np.array(spu)-np.array(hru)),\"d\")\n",
    "plt.plot(x,(np.array(spx)-np.array(hrx)),\"d\")\n",
    "#-0.01774 hours"
   ]
  },
  {
   "cell_type": "code",
   "execution_count": 75,
   "metadata": {},
   "outputs": [
    {
     "data": {
      "text/plain": [
       "[<matplotlib.lines.Line2D at 0x82ac4e3c8>]"
      ]
     },
     "execution_count": 75,
     "metadata": {},
     "output_type": "execute_result"
    },
    {
     "data": {
      "image/png": "[encoded data removed]",
      "text/plain": [
       "<Figure size 432x288 with 1 Axes>"
      ]
     },
     "metadata": {},
     "output_type": "display_data"
    }
   ],
   "source": [
    "plt.plot(x,10**3*(np.array(spu)-np.array(hru)),\"d\")\n",
    "plt.plot(x,(np.array(spx)-np.array(hrx)),\"d\")\n",
    "#-0.01776 hours"
   ]
  },
  {
   "cell_type": "code",
   "execution_count": 72,
   "metadata": {},
   "outputs": [
    {
     "data": {
      "text/plain": [
       "[<matplotlib.lines.Line2D at 0x82a80eac8>]"
      ]
     },
     "execution_count": 72,
     "metadata": {},
     "output_type": "execute_result"
    },
    {
     "data": {
      "image/png": "[encoded data removed]",
      "text/plain": [
       "<Figure size 432x288 with 1 Axes>"
      ]
     },
     "metadata": {},
     "output_type": "display_data"
    }
   ],
   "source": [
    "plt.plot(x,10**3*(np.array(spu)-np.array(hru)),\"d\")\n",
    "plt.plot(x,(np.array(spx)-np.array(hrx)),\"d\")\n",
    "#-0.01778 hours"
   ]
  },
  {
   "cell_type": "code",
   "execution_count": 122,
   "metadata": {},
   "outputs": [
    {
     "data": {
      "text/plain": [
       "[<matplotlib.lines.Line2D at 0x82c06bdd8>]"
      ]
     },
     "execution_count": 122,
     "metadata": {},
     "output_type": "execute_result"
    },
    {
     "data": {
      "image/png": "[encoded data removed]",
      "text/plain": [
       "<Figure size 432x288 with 1 Axes>"
      ]
     },
     "metadata": {},
     "output_type": "display_data"
    }
   ],
   "source": [
    "plt.plot(x,1e6*np.pi/180*(np.array(spra)-np.array(hrra)),\"d\")"
   ]
  },
  {
   "cell_type": "code",
   "execution_count": 252,
   "metadata": {},
   "outputs": [],
   "source": [
    "def Comparer(t,hors):\n",
    "    spic = []\n",
    "    get_jupsp = get_spice_function('5','LT','0')\n",
    "    get_juphr = get_astroquery_function('5','geometric','g@0')\n",
    "    for i in range(0,100):\n",
    "        spic.append(get_jupsp(JD_to_SpiceJD(2450814.916666667+100*i-t)))\n",
    "    spra = []\n",
    "    hrra = []\n",
    "    spdec = []\n",
    "    hrdec = []\n",
    "    for i in range(0,100):\n",
    "        spra.append(spic[i][2][0])\n",
    "        hrra.append(hors[i][2][0])\n",
    "        spdec.append(spic[i][2][1])\n",
    "        hrdec.append(hors[i][2][1])\n",
    "    return np.mean(abs(np.array(spra))-abs(np.array(hrra)))"
   ]
  },
  {
   "cell_type": "code",
   "execution_count": 247,
   "metadata": {},
   "outputs": [
    {
     "name": "stdout",
     "output_type": "stream",
     "text": [
      "0\n",
      "1\n",
      "2\n",
      "3\n"
     ]
    },
    {
     "name": "stderr",
     "output_type": "stream",
     "text": [
      "WARNING: ErfaWarning: ERFA function \"d2dtf\" yielded 1 of \"dubious year (Note 5)\" [astropy._erfa.core]\n"
     ]
    },
    {
     "name": "stdout",
     "output_type": "stream",
     "text": [
      "4\n",
      "5\n",
      "6\n",
      "7\n",
      "8\n",
      "9\n"
     ]
    }
   ],
   "source": [
    "errs = []\n",
    "for i in range(0,10):\n",
    "    print(i)\n",
    "    errs.append(Comparer((-0.00001-0.0000001*69-0.000000001*25),hors))"
   ]
  },
  {
   "cell_type": "code",
   "execution_count": 248,
   "metadata": {},
   "outputs": [
    {
     "data": {
      "text/plain": [
       "-1.6925e-05"
      ]
     },
     "execution_count": 248,
     "metadata": {},
     "output_type": "execute_result"
    }
   ],
   "source": [
    "-0.00001-0.0000001*69-0.000000001*25"
   ]
  },
  {
   "cell_type": "code",
   "execution_count": 272,
   "metadata": {},
   "outputs": [
    {
     "name": "stderr",
     "output_type": "stream",
     "text": [
      "WARNING: ErfaWarning: ERFA function \"d2dtf\" yielded 1 of \"dubious year (Note 5)\" [astropy._erfa.core]\n"
     ]
    },
    {
     "name": "stdout",
     "output_type": "stream",
     "text": [
      "0\n",
      "1\n",
      "2\n",
      "3\n",
      "4\n",
      "5\n",
      "6\n",
      "7\n",
      "8\n",
      "9\n",
      "10\n",
      "11\n",
      "12\n",
      "13\n",
      "14\n",
      "15\n",
      "16\n",
      "17\n",
      "18\n",
      "19\n",
      "20\n",
      "21\n",
      "22\n",
      "23\n",
      "24\n",
      "25\n",
      "26\n",
      "27\n",
      "28\n",
      "29\n",
      "30\n",
      "31\n",
      "32\n",
      "33\n",
      "34\n",
      "35\n",
      "36\n",
      "37\n",
      "38\n",
      "39\n",
      "40\n",
      "41\n",
      "42\n",
      "43\n",
      "44\n",
      "45\n",
      "46\n",
      "47\n",
      "48\n",
      "49\n",
      "50\n",
      "51\n",
      "52\n",
      "53\n",
      "54\n",
      "55\n",
      "56\n",
      "57\n",
      "58\n",
      "59\n",
      "60\n",
      "61\n",
      "62\n",
      "63\n",
      "64\n",
      "65\n",
      "66\n",
      "67\n",
      "68\n",
      "69\n",
      "70\n",
      "71\n",
      "72\n",
      "73\n",
      "74\n",
      "75\n",
      "76\n",
      "77\n",
      "78\n",
      "79\n",
      "80\n",
      "81\n",
      "82\n",
      "83\n",
      "84\n",
      "85\n",
      "86\n",
      "87\n",
      "88\n",
      "89\n",
      "90\n",
      "91\n",
      "92\n",
      "93\n",
      "94\n",
      "95\n",
      "96\n",
      "97\n",
      "98\n",
      "99\n"
     ]
    }
   ],
   "source": [
    "spic = []\n",
    "hors = []\n",
    "get_jupsp = get_spice_function('5','LT','0')\n",
    "get_juphr = get_astroquery_function('5','geometric','g@0')\n",
    "for i in range(0,100):\n",
    "    spic.append(get_jupsp(JD_to_SpiceJD(2450814.916666667+100*i+1.6925e-05 -20000)))\n",
    "    hors.append(get_juphr(2450814.916666667+100*i - 20000))\n",
    "    print(i)\n",
    "spx = []\n",
    "hrx = []\n",
    "spy = []\n",
    "hry = []\n",
    "spz = []\n",
    "hrz = []\n",
    "spu = []\n",
    "hru = []\n",
    "spv = []\n",
    "hrv = []\n",
    "spw = []\n",
    "hrw = []\n",
    "spra = []\n",
    "hrra = []\n",
    "spdec = []\n",
    "hrdec = []\n",
    "for i in range(0,100):\n",
    "    spx.append(spic[i][0][0])\n",
    "    hrx.append(hors[i][0][0])\n",
    "    spy.append(spic[i][0][1])\n",
    "    hry.append(hors[i][0][1])\n",
    "    spz.append(spic[i][0][2])\n",
    "    hrz.append(hors[i][0][2])\n",
    "    spu.append(spic[i][1][0])\n",
    "    hru.append(hors[i][1][0])\n",
    "    spv.append(spic[i][1][1])\n",
    "    hrv.append(hors[i][1][1])\n",
    "    spw.append(spic[i][1][2])\n",
    "    hrw.append(hors[i][1][2])\n",
    "    spra.append(spic[i][2][0])\n",
    "    hrra.append(hors[i][2][0])\n",
    "    spdec.append(spic[i][2][1])\n",
    "    hrdec.append(hors[i][2][1])"
   ]
  },
  {
   "cell_type": "code",
   "execution_count": 273,
   "metadata": {},
   "outputs": [
    {
     "data": {
      "text/plain": [
       "[<matplotlib.lines.Line2D at 0x102dc56710>]"
      ]
     },
     "execution_count": 273,
     "metadata": {},
     "output_type": "execute_result"
    },
    {
     "data": {
      "image/png": "[encoded data removed]",
      "text/plain": [
       "<Figure size 432x288 with 1 Axes>"
      ]
     },
     "metadata": {},
     "output_type": "display_data"
    }
   ],
   "source": [
    "plt.plot(x,(np.pi/180)*1e6*(np.array(spra)-np.array(hrra)),\"d\")"
   ]
  },
  {
   "cell_type": "code",
   "execution_count": 274,
   "metadata": {},
   "outputs": [
    {
     "data": {
      "text/plain": [
       "[<matplotlib.lines.Line2D at 0x102daeafd0>]"
      ]
     },
     "execution_count": 274,
     "metadata": {},
     "output_type": "execute_result"
    },
    {
     "data": {
      "image/png": "[encoded data removed]",
      "text/plain": [
       "<Figure size 432x288 with 1 Axes>"
      ]
     },
     "metadata": {},
     "output_type": "display_data"
    }
   ],
   "source": [
    "plt.plot(x,(np.pi/180)*1e6*(np.array(spdec)-np.array(hrdec)),\"d\")"
   ]
  },
  {
   "cell_type": "markdown",
   "metadata": {},
   "source": [
    "The correction is +1.6925e-05 days or 1.46s and it works for both today and the future. 20000 days from 2001 tested and the test has the same accuracy"
   ]
  }
 ],
 "metadata": {
  "kernelspec": {
   "display_name": "Python 3",
   "language": "python",
   "name": "python3"
  },
  "language_info": {
   "codemirror_mode": {
    "name": "ipython",
    "version": 3
   },
   "file_extension": ".py",
   "mimetype": "text/x-python",
   "name": "python",
   "nbconvert_exporter": "python",
   "pygments_lexer": "ipython3",
   "version": "3.6.7"
  }
 },
 "nbformat": 4,
 "nbformat_minor": 2
}

{
 "cells": [
  {
   "cell_type": "code",
   "execution_count": 2,
   "metadata": {},
   "outputs": [],
   "source": [
    "import numpy as np\n",
    "import pandas as pd\n",
    "from astroquery.jplhorizons import Horizons\n",
    "import astropy.units as u\n",
    "from astropy.constants import c\n",
    "import matplotlib.pyplot as plt\n",
    "from astropy.coordinates import SkyCoord"
   ]
  },
  {
   "cell_type": "code",
   "execution_count": 3,
   "metadata": {},
   "outputs": [],
   "source": [
    "def get_astroquery_function(name,cor,loc):\n",
    "    def get_target_RADEC(t):\n",
    "        obj = Horizons(id = name, location = loc, epochs = t, id_type = 'majorbody')\n",
    "        obj = obj.ephemerides()\n",
    "        radec = np.array([float(obj['RA']),float(obj['DEC'])])\n",
    "        return radec\n",
    "    return get_target_RADEC    "
   ]
  },
  {
   "cell_type": "code",
   "execution_count": 5,
   "metadata": {},
   "outputs": [],
   "source": [
    "def ImageFinder(RADEC,astrRD):\n",
    "    if (RADEC[0]-3.2 <= astrRD[0] <= RADEC[0]+3.2) and (RADEC[1]-3.2 <= astrRD[1] <= RADEC[1]+3.2):\n",
    "        return True\n",
    "    else:\n",
    "        return False"
   ]
  },
  {
   "cell_type": "code",
   "execution_count": 9,
   "metadata": {},
   "outputs": [
    {
     "data": {
      "text/plain": [
       "True"
      ]
     },
     "execution_count": 9,
     "metadata": {},
     "output_type": "execute_result"
    }
   ],
   "source": [
    "ImageFinder([280,50],[282,51])"
   ]
  },
  {
   "cell_type": "code",
   "execution_count": null,
   "metadata": {},
   "outputs": [],
   "source": []
  }
 ],
 "metadata": {
  "kernelspec": {
   "display_name": "Python 3",
   "language": "python",
   "name": "python3"
  },
  "language_info": {
   "codemirror_mode": {
    "name": "ipython",
    "version": 3
   },
   "file_extension": ".py",
   "mimetype": "text/x-python",
   "name": "python",
   "nbconvert_exporter": "python",
   "pygments_lexer": "ipython3",
   "version": "3.6.7"
  }
 },
 "nbformat": 4,
 "nbformat_minor": 2
}

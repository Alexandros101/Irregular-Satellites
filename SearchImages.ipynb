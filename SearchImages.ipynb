{
 "cells": [
  {
   "cell_type": "code",
   "execution_count": 3,
   "metadata": {},
   "outputs": [],
   "source": [
    "import numpy as np\n",
    "import pandas as pd\n",
    "from astroquery.jplhorizons import Horizons\n",
    "import astropy.units as u\n",
    "from astropy.constants import c\n",
    "import matplotlib.pyplot as plt\n",
    "from astropy.coordinates import SkyCoord"
   ]
  },
  {
   "cell_type": "code",
   "execution_count": 4,
   "metadata": {},
   "outputs": [],
   "source": [
    "def get_astroquery_function(name,loc):\n",
    "    def get_target_RADEC(t):\n",
    "        obj = Horizons(id = name, location = loc, epochs = t, id_type = 'majorbody')\n",
    "        obj = obj.ephemerides()\n",
    "        radec = np.array([float(obj['RA']),float(obj['DEC'])])\n",
    "        return radec\n",
    "    return get_target_RADEC    "
   ]
  },
  {
   "cell_type": "code",
   "execution_count": 5,
   "metadata": {},
   "outputs": [
    {
     "name": "stderr",
     "output_type": "stream",
     "text": [
      "/anaconda3/lib/python3.6/site-packages/IPython/core/interactiveshell.py:2785: DtypeWarning: Columns (4,5,6,8) have mixed types. Specify dtype option on import or set low_memory=False.\n",
      "  interactivity=interactivity, compiler=compiler, result=result)\n"
     ]
    }
   ],
   "source": [
    "def strip(x):\n",
    "    temp = x.strip(\" [\")\n",
    "    return temp.strip(\"]\")\n",
    "names = ['ID', 'smf-name', 'smf-filepath', 'reduction', 'JDUTC', 'RA', 'Dec', 'filter', 'exp-time', 'UVx', 'UVy', 'UVz', 'obseqx', 'obseqy', 'obseqz', 'obseclx', 'obseclsy', 'obseclz']\n",
    "df = pd.read_csv(\"/Users/user/Irregular-Satellites/amalgamated_unique_exposure_reads.txt\", names = names, converters={col : strip for col in ['UVx', 'UVz', 'obseqx', 'obseqz', 'obseclx', 'obseclz']})"
   ]
  },
  {
   "cell_type": "code",
   "execution_count": 8,
   "metadata": {},
   "outputs": [],
   "source": [
    "def ImageFinder(df,func,i):\n",
    "    try: \n",
    "        time = float(df[\"JDUTC\"][i])\n",
    "        astrRD = func(time)\n",
    "        print(astrRD)\n",
    "        RADEC = np.array([float(df[\"RA\"][i]),float(df[\"Dec\"][i])])\n",
    "        print(RADEC)\n",
    "        if (RADEC[0]-3.2 <= astrRD[0] <= RADEC[0]+3.2) and (RADEC[1]-3.2 <= astrRD[1] <= RADEC[1]+3.2):\n",
    "            return True,astrRD,RADEC,time\n",
    "        else:\n",
    "            return False,astrRD,RADEC,time\n",
    "    except:\n",
    "            return None,astrRD,RADEC,time"
   ]
  },
  {
   "cell_type": "code",
   "execution_count": 10,
   "metadata": {},
   "outputs": [
    {
     "name": "stdout",
     "output_type": "stream",
     "text": [
      "[329.35716 -13.35594]\n",
      "[329.621607 -15.91217 ]\n",
      "(True, array([329.35716, -13.35594]), array([329.621607, -15.91217 ]), 2454993.105564195) 1290\n",
      "[329.35727 -13.35593]\n",
      "[327.215788 -11.594384]\n",
      "(True, array([329.35727, -13.35593]), array([327.215788, -11.594384]), 2454993.114031911) 1302\n",
      "[329.35731 -13.35592]\n",
      "[329.621239 -15.911818]\n",
      "(True, array([329.35731, -13.35592]), array([329.621239, -15.911818]), 2454993.117372288) 1307\n",
      "[329.35742 -13.35592]\n",
      "[327.215873 -11.5952  ]\n",
      "(True, array([329.35742, -13.35592]), array([327.215873, -11.5952  ]), 2454993.1260502716) 1319\n",
      "[329.39793 -13.36958]\n",
      "[329.686524 -13.076262]\n",
      "(True, array([329.39793, -13.36958]), array([329.686524, -13.076262]), 2454999.077545891) 2213\n",
      "[329.39786 -13.36966]\n",
      "[329.686448 -13.076365]\n",
      "(True, array([329.39786, -13.36966]), array([329.686448, -13.076365]), 2454999.090590185) 2232\n"
     ]
    }
   ],
   "source": [
    "get_jup = get_astroquery_function(\"5\",\"f51\")\n",
    "bools = []\n",
    "QueryRADec = []\n",
    "PANSTRADec = []\n",
    "times = []\n",
    "\n",
    "for i in (1290,1302,1307,1319,2213,2232):\n",
    "    k = ImageFinder(df,get_jup,i)\n",
    "    print(k,i)\n",
    "    times.append(k[3])\n",
    "    QueryRADec.append(k[1])\n",
    "    PANSTRADec.append(k[2])"
   ]
  },
  {
   "cell_type": "code",
   "execution_count": 12,
   "metadata": {},
   "outputs": [
    {
     "data": {
      "text/plain": [
       "[array([329.35716, -13.35594]),\n",
       " array([329.35727, -13.35593]),\n",
       " array([329.35731, -13.35592]),\n",
       " array([329.35742, -13.35592]),\n",
       " array([329.39793, -13.36958]),\n",
       " array([329.39786, -13.36966])]"
      ]
     },
     "execution_count": 12,
     "metadata": {},
     "output_type": "execute_result"
    }
   ],
   "source": [
    "QueryRADec"
   ]
  },
  {
   "cell_type": "code",
   "execution_count": 13,
   "metadata": {},
   "outputs": [
    {
     "data": {
      "text/plain": [
       "[array([329.621607, -15.91217 ]),\n",
       " array([327.215788, -11.594384]),\n",
       " array([329.621239, -15.911818]),\n",
       " array([327.215873, -11.5952  ]),\n",
       " array([329.686524, -13.076262]),\n",
       " array([329.686448, -13.076365])]"
      ]
     },
     "execution_count": 13,
     "metadata": {},
     "output_type": "execute_result"
    }
   ],
   "source": [
    "PANSTRADec"
   ]
  },
  {
   "cell_type": "code",
   "execution_count": 15,
   "metadata": {},
   "outputs": [],
   "source": [
    "norms = []\n",
    "for i in range(0,len(times)):\n",
    "    distance = np.linalg.norm(QueryRADec[i]-PANSTRADec[i])\n",
    "    norms.append(distance)"
   ]
  },
  {
   "cell_type": "code",
   "execution_count": 16,
   "metadata": {},
   "outputs": [
    {
     "data": {
      "text/plain": [
       "[2.5698723759574085,\n",
       " 2.772902714925324,\n",
       " 2.5694888798056734,\n",
       " 2.7724282626623555,\n",
       " 0.41148747971235544,\n",
       " 0.4114668768795403]"
      ]
     },
     "execution_count": 16,
     "metadata": {},
     "output_type": "execute_result"
    }
   ],
   "source": [
    "norms"
   ]
  },
  {
   "cell_type": "code",
   "execution_count": 17,
   "metadata": {},
   "outputs": [
    {
     "data": {
      "text/plain": [
       "[2454993.105564195,\n",
       " 2454993.114031911,\n",
       " 2454993.117372288,\n",
       " 2454993.1260502716,\n",
       " 2454999.077545891,\n",
       " 2454999.090590185]"
      ]
     },
     "execution_count": 17,
     "metadata": {},
     "output_type": "execute_result"
    }
   ],
   "source": [
    "times"
   ]
  },
  {
   "cell_type": "code",
   "execution_count": 63,
   "metadata": {},
   "outputs": [
    {
     "data": {
      "text/html": [
       "<div>\n",
       "<style scoped>\n",
       "    .dataframe tbody tr th:only-of-type {\n",
       "        vertical-align: middle;\n",
       "    }\n",
       "\n",
       "    .dataframe tbody tr th {\n",
       "        vertical-align: top;\n",
       "    }\n",
       "\n",
       "    .dataframe thead th {\n",
       "        text-align: right;\n",
       "    }\n",
       "</style>\n",
       "<table border=\"1\" class=\"dataframe\">\n",
       "  <thead>\n",
       "    <tr style=\"text-align: right;\">\n",
       "      <th></th>\n",
       "      <th>ID</th>\n",
       "      <th>smf-name</th>\n",
       "      <th>smf-filepath</th>\n",
       "      <th>reduction</th>\n",
       "      <th>JDUTC</th>\n",
       "      <th>RA</th>\n",
       "      <th>Dec</th>\n",
       "      <th>filter</th>\n",
       "      <th>exp-time</th>\n",
       "      <th>UVx</th>\n",
       "      <th>UVy</th>\n",
       "      <th>UVz</th>\n",
       "      <th>obseqx</th>\n",
       "      <th>obseqy</th>\n",
       "      <th>obseqz</th>\n",
       "      <th>obseclx</th>\n",
       "      <th>obseclsy</th>\n",
       "      <th>obseclz</th>\n",
       "    </tr>\n",
       "  </thead>\n",
       "  <tbody>\n",
       "    <tr>\n",
       "      <th>1302</th>\n",
       "      <td>1302</td>\n",
       "      <td>o4992g0312o.76255.cm</td>\n",
       "      <td>./smf_downloads/3PI.2009-06-10/o4992g0312o.76...</td>\n",
       "      <td>PS1_V5</td>\n",
       "      <td>2454993.114031911</td>\n",
       "      <td>327.215788</td>\n",
       "      <td>-11.594384</td>\n",
       "      <td>y.00000</td>\n",
       "      <td>30.0</td>\n",
       "      <td>0.8235609953495464</td>\n",
       "      <td>-0.530428</td>\n",
       "      <td>-0.2009819044762708</td>\n",
       "      <td>-0.1811335766755959</td>\n",
       "      <td>-0.91658</td>\n",
       "      <td>-0.3973361573938308</td>\n",
       "      <td>-0.1811335766755959</td>\n",
       "      <td>-0.998997</td>\n",
       "      <td>0.0000459613760628</td>\n",
       "    </tr>\n",
       "  </tbody>\n",
       "</table>\n",
       "</div>"
      ],
      "text/plain": [
       "        ID               smf-name  \\\n",
       "1302  1302   o4992g0312o.76255.cm   \n",
       "\n",
       "                                           smf-filepath reduction  \\\n",
       "1302   ./smf_downloads/3PI.2009-06-10/o4992g0312o.76...    PS1_V5   \n",
       "\n",
       "                   JDUTC           RA          Dec    filter exp-time  \\\n",
       "1302   2454993.114031911   327.215788   -11.594384   y.00000     30.0   \n",
       "\n",
       "                     UVx       UVy                  UVz               obseqx  \\\n",
       "1302  0.8235609953495464 -0.530428  -0.2009819044762708  -0.1811335766755959   \n",
       "\n",
       "       obseqy               obseqz              obseclx  obseclsy  \\\n",
       "1302 -0.91658  -0.3973361573938308  -0.1811335766755959 -0.998997   \n",
       "\n",
       "                 obseclz  \n",
       "1302  0.0000459613760628  "
      ]
     },
     "execution_count": 63,
     "metadata": {},
     "output_type": "execute_result"
    }
   ],
   "source": [
    "df[1302:1303]"
   ]
  },
  {
   "cell_type": "code",
   "execution_count": 64,
   "metadata": {},
   "outputs": [
    {
     "data": {
      "text/html": [
       "<i>Table masked=True length=1</i>\n",
       "<table id=\"table34893131448\" class=\"table-striped table-bordered table-condensed\">\n",
       "<thead><tr><th>targetname</th><th>datetime_str</th><th>datetime_jd</th><th>solar_presence</th><th>flags</th><th>RA</th><th>DEC</th><th>RA_app</th><th>DEC_app</th><th>RA_rate</th><th>DEC_rate</th><th>AZ</th><th>EL</th><th>AZ_rate</th><th>EL_rate</th><th>sat_X</th><th>sat_Y</th><th>sat_PANG</th><th>siderealtime</th><th>airmass</th><th>magextinct</th><th>V</th><th>surfbright</th><th>illumination</th><th>illum_defect</th><th>sat_sep</th><th>sat_vis</th><th>ang_width</th><th>PDObsLon</th><th>PDObsLat</th><th>PDSunLon</th><th>PDSunLat</th><th>SubSol_ang</th><th>SubSol_dist</th><th>NPole_ang</th><th>NPole_dist</th><th>EclLon</th><th>EclLat</th><th>r</th><th>r_rate</th><th>delta</th><th>delta_rate</th><th>lighttime</th><th>vel_sun</th><th>vel_obs</th><th>elong</th><th>elongFlag</th><th>alpha</th><th>lunar_elong</th><th>lunar_illum</th><th>sat_alpha</th><th>sunTargetPA</th><th>velocityPA</th><th>OrbPlaneAng</th><th>constellation</th><th>TDB-UT</th><th>ObsEclLon</th><th>ObsEclLat</th><th>NPole_RA</th><th>NPole_DEC</th><th>GlxLon</th><th>GlxLat</th><th>solartime</th><th>earth_lighttime</th><th>RA_3sigma</th><th>DEC_3sigma</th><th>SMAA_3sigma</th><th>SMIA_3sigma</th><th>Theta_3sigma</th><th>Area_3sigma</th><th>RSS_3sigma</th><th>r_3sigma</th><th>r_rate_3sigma</th><th>SBand_3sigma</th><th>XBand_3sigma</th><th>DoppDelay_3sigma</th><th>true_anom</th><th>hour_angle</th><th>alpha_true</th><th>PABLon</th><th>PABLat</th></tr></thead>\n",
       "<thead><tr><th>---</th><th>---</th><th>d</th><th>---</th><th>---</th><th>deg</th><th>deg</th><th>deg</th><th>deg</th><th>arcsec / h</th><th>arcsec / h</th><th>deg</th><th>deg</th><th>arcsec / min</th><th>arcsec / min</th><th>arcsec</th><th>arcsec</th><th>deg</th><th>---</th><th>---</th><th>mag</th><th>mag</th><th>mag / arcsec2</th><th>%</th><th>arcsec</th><th>arcsec</th><th>---</th><th>arcsec</th><th>deg</th><th>deg</th><th>deg</th><th>deg</th><th>deg</th><th>arcsec</th><th>deg</th><th>arcsec</th><th>deg</th><th>deg</th><th>AU</th><th>km / s</th><th>AU</th><th>km / s</th><th>min</th><th>km / s</th><th>km / s</th><th>deg</th><th>---</th><th>deg</th><th>deg</th><th>%</th><th>deg</th><th>deg</th><th>deg</th><th>deg</th><th>---</th><th>s</th><th>deg</th><th>deg</th><th>deg</th><th>deg</th><th>deg</th><th>deg</th><th>---</th><th>min</th><th>arcsec</th><th>arcsec</th><th>arcsec</th><th>arcsec</th><th>deg</th><th>arcsec2</th><th>arcsec</th><th>km</th><th>km / s</th><th>Hz</th><th>Hz</th><th>s</th><th>deg</th><th>---</th><th>deg</th><th>deg</th><th>deg</th></tr></thead>\n",
       "<thead><tr><th>str22</th><th>str24</th><th>float64</th><th>str1</th><th>str1</th><th>float64</th><th>float64</th><th>float64</th><th>float64</th><th>float64</th><th>float64</th><th>float64</th><th>float64</th><th>float64</th><th>float64</th><th>float64</th><th>float64</th><th>float64</th><th>float64</th><th>float64</th><th>float64</th><th>float64</th><th>float64</th><th>float64</th><th>float64</th><th>float64</th><th>str1</th><th>float64</th><th>float64</th><th>float64</th><th>float64</th><th>float64</th><th>float64</th><th>float64</th><th>float64</th><th>float64</th><th>float64</th><th>float64</th><th>float64</th><th>float64</th><th>float64</th><th>float64</th><th>float64</th><th>float64</th><th>float64</th><th>float64</th><th>str2</th><th>float64</th><th>float64</th><th>float64</th><th>float64</th><th>float64</th><th>float64</th><th>float64</th><th>str3</th><th>float64</th><th>float64</th><th>float64</th><th>float64</th><th>float64</th><th>float64</th><th>float64</th><th>float64</th><th>float64</th><th>int64</th><th>int64</th><th>int64</th><th>int64</th><th>int64</th><th>int64</th><th>int64</th><th>int64</th><th>int64</th><th>int64</th><th>int64</th><th>int64</th><th>float64</th><th>float64</th><th>float64</th><th>float64</th><th>float64</th></tr></thead>\n",
       "<tr><td>Jupiter Barycenter (5)</td><td>2009-Jun-10 14:44:12.357</td><td>2454993.114031909</td><td>A</td><td>m</td><td>329.35727</td><td>-13.35593</td><td>329.49069</td><td>-13.30915</td><td>1.86556</td><td>0.138771</td><td>170.3289</td><td>55.5404</td><td>866.67</td><td>141.81</td><td>-362634.0</td><td>-130893.0</td><td>264.718</td><td>21.5923510528</td><td>1.212</td><td>0.158</td><td>-2.52</td><td>5.38</td><td>99.138</td><td>0.3712</td><td>406327.4</td><td>*</td><td>43.05908</td><td>141.4</td><td>0.48</td><td>152.05</td><td>-0.06</td><td>70.31</td><td>3.98</td><td>337.78</td><td>20.13</td><td>316.1905</td><td>-0.7606</td><td>5.060391257468</td><td>-0.5444524</td><td>4.57849197708838</td><td>-25.1871487</td><td>38.078157</td><td>13.42685</td><td>25.24612</td><td>112.8687</td><td>/L</td><td>10.6573</td><td>36.4</td><td>93.0</td><td>56.4739</td><td>250.343</td><td>250.9</td><td>-0.10276</td><td>Cap</td><td>66.184675</td><td>326.9818327</td><td>-0.8417161</td><td>268.05599</td><td>64.49663</td><td>42.778002</td><td>-47.175665</td><td>4.3282034096</td><td>0.000355</td><td>--</td><td>--</td><td>--</td><td>--</td><td>--</td><td>--</td><td>--</td><td>--</td><td>--</td><td>--</td><td>--</td><td>--</td><td>302.6253</td><td>-0.373694995</td><td>10.6551</td><td>321.5158</td><td>-0.8043</td></tr>\n",
       "</table>"
      ],
      "text/plain": [
       "<Table masked=True length=1>\n",
       "      targetname             datetime_str       ...  PABLon   PABLat\n",
       "         ---                     ---            ...   deg      deg  \n",
       "        str22                   str24           ... float64  float64\n",
       "---------------------- ------------------------ ... -------- -------\n",
       "Jupiter Barycenter (5) 2009-Jun-10 14:44:12.357 ... 321.5158 -0.8043"
      ]
     },
     "execution_count": 64,
     "metadata": {},
     "output_type": "execute_result"
    }
   ],
   "source": [
    "obj = Horizons(id = '5', location = 'f51', epochs = 2454993.114031911, id_type = 'majorbody')\n",
    "obj.ephemerides()"
   ]
  },
  {
   "cell_type": "code",
   "execution_count": 60,
   "metadata": {},
   "outputs": [
    {
     "data": {
      "text/plain": [
       "' ./smf_downloads/3PI.2009-06-16/o4998g0360o.78376.cm.1163824.smf'"
      ]
     },
     "execution_count": 60,
     "metadata": {},
     "output_type": "execute_result"
    }
   ],
   "source": [
    "df['smf-filepath'][2232]"
   ]
  },
  {
   "cell_type": "code",
   "execution_count": null,
   "metadata": {},
   "outputs": [],
   "source": []
  }
 ],
 "metadata": {
  "kernelspec": {
   "display_name": "Python 3",
   "language": "python",
   "name": "python3"
  },
  "language_info": {
   "codemirror_mode": {
    "name": "ipython",
    "version": 3
   },
   "file_extension": ".py",
   "mimetype": "text/x-python",
   "name": "python",
   "nbconvert_exporter": "python",
   "pygments_lexer": "ipython3",
   "version": "3.6.7"
  }
 },
 "nbformat": 4,
 "nbformat_minor": 2
}

{
 "cells": [
  {
   "cell_type": "code",
   "execution_count": 99,
   "metadata": {},
   "outputs": [],
   "source": [
    "import numpy as np\n",
    "import pandas as pd\n",
    "import spiceypy as spice\n",
    "import numpy as np\n",
    "import matplotlib.pyplot as plt\n",
    "import astropy.units as u\n",
    "from astropy.constants import c\n",
    "from astropy.time import Time\n",
    "from astroquery.jplhorizons import Horizons"
   ]
  },
  {
   "cell_type": "code",
   "execution_count": 83,
   "metadata": {},
   "outputs": [],
   "source": [
    "def Furnisher():\n",
    "    '''\n",
    "    This function is used to load all kernels needed in an operation.\n",
    "    Comment out kernels not in use and add the ones in use.\n",
    "    \n",
    "    Arguments: NA\n",
    "    Returns: NA\n",
    "    \n",
    "    '''\n",
    "    spice.kclear()\n",
    "    spice.furnsh('/Users/user/Downloads/naif0009.tls.txt')\n",
    "    #spice.furnsh('/Users/user/Downloads/cas00084.tsc.txt')\n",
    "    #spice.furnsh('/Users/user/Downloads/cpck05Mar2004.tpc.txt')\n",
    "    #spice.furnsh('/Users/user/Downloads/020514_SE_SAT105.bsp')\n",
    "    #spice.furnsh('/Users/user/Downloads/981005_PLTEPH-DE405S.bsp')\n",
    "    #spice.furnsh('/Users/user/Downloads/030201AP_SK_SM546_T45.bsp')\n",
    "    #spice.furnsh('/Users/user/Downloads/04135_04171pc_psiv2.bc')\n",
    "    #spice.furnsh('/Users/user/Downloads/cas_v37.tf.txt')\n",
    "    #spice.furnsh('/Users/user/Downloads/cas_iss_v09.ti.txt')\n",
    "    spice.furnsh('/Users/user/Downloads/jup310.bsp')\n",
    "    spice.furnsh('/Users/user/Downloads/jup341.bsp')\n",
    "    pass"
   ]
  },
  {
   "cell_type": "markdown",
   "metadata": {},
   "source": [
    "Relevant kernels for jupiter."
   ]
  },
  {
   "cell_type": "code",
   "execution_count": 84,
   "metadata": {},
   "outputs": [],
   "source": [
    "Furnisher()"
   ]
  },
  {
   "cell_type": "code",
   "execution_count": 54,
   "metadata": {},
   "outputs": [],
   "source": [
    "def get_spice_function(name,cor,loc):\n",
    "    \"\"\"\n",
    "    This wrapper function automates the creation of objects through the JPL Horizons database. \n",
    "    \n",
    "    Arguments:\n",
    "    \n",
    "    name: str\n",
    "    \n",
    "    Stipulates the target object in Horizons. The major bodies in the Solar System have an id based on their position.\n",
    "    Hence '5' refers to Jupiter and '3' to Earth. A single number designator refers to a barycenter and a designator\n",
    "    such as '599' to the planetary center. For minor bodies in the Solar System, the id_type in the Horizons\n",
    "    must be changed to \"minorbody\"\n",
    "    \n",
    "    cor: str\n",
    "    \n",
    "    Refers to the type of correction that the object has. Available arguments are 'NONE', 'LT','LT+S'\n",
    "    \n",
    "    loc: str\n",
    "    \n",
    "    Designates the location of observation. Names that start with \"g@#\" refer to barycenters where the number designates the \n",
    "    body that the observer is based at. Hence \"g@0\" refers to the Solar System barycenter. Also takes Earth location designators.\n",
    "    Observatories are named after their code. Hence, Pan-Starrs observatory is referred as \"f51\"\n",
    "\n",
    "    Returns:\n",
    "    \n",
    "    get_target_xyz function\n",
    "    \"\"\"    \n",
    "    def get_target_xyz(t):\n",
    "        \"\"\"\n",
    "        Returns the vectors of the Horizons body at a certain time t.\n",
    "        \n",
    "        Arguments:\n",
    "        \n",
    "        t: days\n",
    "        \n",
    "        Julian date of observation\n",
    "        \n",
    "        Returns:\n",
    "    \n",
    "        xyz: numpy array\n",
    "        \n",
    "        A position vector of the observed object\n",
    "    \n",
    "        uvw: numpy array\n",
    "        \n",
    "        An instantaneous velocity vector of the observed object\n",
    "        \n",
    "        radec: numpy array\n",
    "        \n",
    "        The right ascension and declination of the observed object\n",
    "        \"\"\"\n",
    "        \n",
    "        state,lighttime = spice.spkezr(name,t,'J2000',cor,loc)\n",
    "        pos,lighttime = spice.spkpos(name,t,'J2000',cor,loc)\n",
    "        range,ra,dec = spice.recrad(pos) \n",
    "        xyz = np.array([state[0],state[1],state[2]])*6.68459e-9\n",
    "        uvw = np.array([state[3],state[4],state[5]])*6.68459e-9\n",
    "        radec = np.array([ra,dec])\n",
    "        return xyz,uvw,radec*180/np.pi\n",
    "    return get_target_xyz"
   ]
  },
  {
   "cell_type": "code",
   "execution_count": 96,
   "metadata": {},
   "outputs": [],
   "source": [
    "def get_astroquery_function(name,cor,loc):\n",
    "    \"\"\"\n",
    "    This wrapper function automates the creation of objects through the JPL Horizons database. \n",
    "    \n",
    "    Arguments:\n",
    "    \n",
    "    name: str\n",
    "    \n",
    "    Stipulates the target object in Horizons. The major bodies in the Solar System have an id based on their position.\n",
    "    Hence '5' refers to Jupiter and '3' to Earth. A single number designator refers to a barycenter and a designator\n",
    "    such as '599' to the planetary center. For minor bodies in the Solar System, the id_type in the Horizons\n",
    "    must be changed to \"minorbody\"\n",
    "    \n",
    "    cor: str\n",
    "    \n",
    "    Refers to the type of correction that the object has. Available arguments are \"geometric\",\"astrometric\" and \n",
    "    \"apparent\"\n",
    "    \n",
    "    loc: str\n",
    "    \n",
    "    Designates the location of observation. Names that start with \"g@#\" refer to barycenters where the number designates the \n",
    "    body that the observer is based at. Hence \"g@0\" refers to the Solar System barycenter. Also takes Earth location designators.\n",
    "    Observatories are named after their code. Hence, Pan-Starrs observatory is referred as \"f51\"\n",
    "\n",
    "    Returns:\n",
    "    \n",
    "    get_target_xyz function\n",
    "    \"\"\"    \n",
    "    def get_target_xyz(t):\n",
    "        \"\"\"\n",
    "        Returns the vectors of the Horizons body at a certain time t.\n",
    "        \n",
    "        Arguments:\n",
    "        \n",
    "        t: days\n",
    "        \n",
    "        Julian date of observation\n",
    "        \n",
    "        Returns:\n",
    "    \n",
    "        xyz: numpy array\n",
    "        \n",
    "        A position vector of the observed object\n",
    "    \n",
    "        uvw: numpy array\n",
    "        \n",
    "        An instantaneous velocity vector of the observed object\n",
    "        \"\"\"\n",
    "        \n",
    "        obj = Horizons(id = name, location = loc, epochs = t, id_type = 'majorbody')\n",
    "        obj1 = obj.vectors(aberrations = cor, refplane = 'earth')\n",
    "        xyz = np.array([float(obj1['x']),float(obj1['y']),float(obj1['z'])])\n",
    "        uvw = np.array([float(obj1['vx']),float(obj1['vy']),float(obj1['vz'])])\n",
    "        obj2 = obj.ephemerides(refsystem = 'J2000', extra_precision = True)\n",
    "        radec = np.array([float(obj2['RA']),float(obj2['DEC']),float(obj1['range'])])\n",
    "        return xyz,uvw,radec\n",
    "    return get_target_xyz  "
   ]
  },
  {
   "cell_type": "code",
   "execution_count": 127,
   "metadata": {},
   "outputs": [],
   "source": [
    "def monthToNum(shortMonth):\n",
    "    \n",
    "    '''\n",
    "    \n",
    "    Returns the name of a month that a number corresponds to and vice versa\n",
    "    \n",
    "    Arguments:\n",
    "    \n",
    "    shortMonth: str\n",
    "    \n",
    "    Either the first three letters of a month or its number (e.g. 01 for January, 10 for October)\n",
    "    \n",
    "    Returns:\n",
    "    \n",
    "    shortMonth: str\n",
    "    \n",
    "    Either the first three letters of a month or its number (e.g. 01 for January, 10 for October),\n",
    "    the other one to the one that was given as an argument\n",
    "    \n",
    "    '''\n",
    "    \n",
    "    return{\n",
    "        'Jan' : '01', 'Feb' : '02','Mar' : '03','Apr' : '04','May' : '05','Jun' : '06','Jul' : '07','Aug' : '08',\n",
    "        'Sep' : '09', 'Oct' : '10','Nov' : '11','Dec' : '12','01' : 'Jan','02' : 'Feb','03' : 'Mar','04' : 'Apr',\n",
    "        '05' : 'May','06' : 'Jun','07' : 'Jul','08' : 'Aug','09' : 'Sep', '10' : 'Oct','11' : 'Nov','12' : 'Dec'}[shortMonth]"
   ]
  },
  {
   "cell_type": "code",
   "execution_count": 128,
   "metadata": {},
   "outputs": [],
   "source": [
    "def JD_to_SpiceJD(jd):\n",
    "    '''\n",
    "    \n",
    "    Converts jd date to spice units of time.\n",
    "    \n",
    "    Arguments:\n",
    "    \n",
    "    jd: float\n",
    "    \n",
    "    A jd time in days\n",
    "    \n",
    "    Returns:\n",
    "    \n",
    "    newjd: float\n",
    "    \n",
    "    A spice usable time in seconds\n",
    "    \n",
    "    \n",
    "    '''\n",
    "    t = Time(jd, format='jd', scale='utc')\n",
    "    k = t.fits\n",
    "    year = k[0:4]\n",
    "    month = k[5:7]\n",
    "    day = k[8:10]\n",
    "    hours = k[11:13]\n",
    "    minutes = k[14:16]\n",
    "    seconds = k[17:23]\n",
    "    newmnth = monthToNum(month)\n",
    "    utc = newmnth + ' ' + day + \", \" + year\n",
    "    newjd = spice.str2et(utc) + int(hours)*3600 + int(minutes)*60 + float(seconds)\n",
    "    return newjd"
   ]
  },
  {
   "cell_type": "code",
   "execution_count": 133,
   "metadata": {},
   "outputs": [],
   "source": [
    "def Finderf51(name,t):\n",
    "    '''\n",
    "    \n",
    "    Finds the radec of objects in the jovian system from the pansstars observatory\n",
    "    \n",
    "    Arguments:\n",
    "    \n",
    "    name: str\n",
    "    \n",
    "    The name of the object in spice documentation. See Summary_Names.txt\n",
    "    \n",
    "    t: float\n",
    "    \n",
    "    A julian date\n",
    "    \n",
    "    '''\n",
    "    get_pans = get_astroquery_function('5','astrometric','f51')\n",
    "    vecs2 = get_pans(t)\n",
    "    ts = JD_to_SpiceJD(t)\n",
    "    get_obj = get_spice_function(name,\"LT\",\"JUPITER BARYCENTER\")\n",
    "    vecs = get_obj(ts)\n",
    "    vectors = vecs2[0]+vecs[0]\n",
    "    xyz = vectors/6.68459e-9\n",
    "    xyz = np.array([xyz[0],xyz[1],(xyz[2]-np.sin(20.707222)*4.25875e-5)])\n",
    "    range, ra, dec = spice.recrad(xyz)\n",
    "    return np.array([ra,dec])*180/np.pi"
   ]
  },
  {
   "cell_type": "markdown",
   "metadata": {},
   "source": [
    "Returning radecs of Jovian satellites. The time selected is one of the images of Jupiter that we asked from\n",
    "Matt. ID 2213. \n",
    "\n",
    "Image centre: \n",
    "\n",
    "RA: 329.686524\n",
    "DEC: -13.076262"
   ]
  },
  {
   "cell_type": "code",
   "execution_count": 139,
   "metadata": {},
   "outputs": [
    {
     "data": {
      "text/plain": [
       "array([329.39792614, -13.36958126])"
      ]
     },
     "execution_count": 139,
     "metadata": {},
     "output_type": "execute_result"
    }
   ],
   "source": [
    "Finderf51(\"Jupiter\",2454999.077545891)"
   ]
  },
  {
   "cell_type": "code",
   "execution_count": 135,
   "metadata": {
    "scrolled": true
   },
   "outputs": [
    {
     "data": {
      "text/plain": [
       "array([329.54763458, -13.31100659])"
      ]
     },
     "execution_count": 135,
     "metadata": {},
     "output_type": "execute_result"
    }
   ],
   "source": [
    "Finderf51(\"Callisto\",2454999.077545891)"
   ]
  },
  {
   "cell_type": "code",
   "execution_count": 136,
   "metadata": {},
   "outputs": [
    {
     "data": {
      "text/plain": [
       "array([330.15784549, -13.34295717])"
      ]
     },
     "execution_count": 136,
     "metadata": {},
     "output_type": "execute_result"
    }
   ],
   "source": [
    "Finderf51(\"Himalia\",2454999.077545891)"
   ]
  },
  {
   "cell_type": "code",
   "execution_count": 137,
   "metadata": {},
   "outputs": [
    {
     "data": {
      "text/plain": [
       "array([329.73502224, -12.98763379])"
      ]
     },
     "execution_count": 137,
     "metadata": {},
     "output_type": "execute_result"
    }
   ],
   "source": [
    "Finderf51(\"Pasiphae\",2454999.077545891)"
   ]
  },
  {
   "cell_type": "code",
   "execution_count": 138,
   "metadata": {},
   "outputs": [
    {
     "data": {
      "text/plain": [
       "array([328.4954593 , -14.44866852])"
      ]
     },
     "execution_count": 138,
     "metadata": {},
     "output_type": "execute_result"
    }
   ],
   "source": [
    "Finderf51(\"Ananke\",2454999.077545891)"
   ]
  },
  {
   "cell_type": "markdown",
   "metadata": {},
   "source": [
    "As expected the irregulars are further away from Jupiter than Callisto in the image "
   ]
  }
 ],
 "metadata": {
  "kernelspec": {
   "display_name": "Python 3",
   "language": "python",
   "name": "python3"
  },
  "language_info": {
   "codemirror_mode": {
    "name": "ipython",
    "version": 3
   },
   "file_extension": ".py",
   "mimetype": "text/x-python",
   "name": "python",
   "nbconvert_exporter": "python",
   "pygments_lexer": "ipython3",
   "version": "3.6.7"
  }
 },
 "nbformat": 4,
 "nbformat_minor": 2
}

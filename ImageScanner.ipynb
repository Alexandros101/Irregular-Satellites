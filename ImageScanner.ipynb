{
 "cells": [
  {
   "cell_type": "code",
   "execution_count": 1,
   "metadata": {},
   "outputs": [],
   "source": [
    "import numpy as np\n",
    "import pandas as pd\n",
    "import spiceypy as spice\n",
    "import numpy as np\n",
    "import matplotlib.pyplot as plt\n",
    "import astropy.units as u\n",
    "from astropy.constants import c\n",
    "from astropy.time import Time\n",
    "from astroquery.jplhorizons import Horizons\n",
    "import rebound"
   ]
  },
  {
   "cell_type": "code",
   "execution_count": 2,
   "metadata": {},
   "outputs": [],
   "source": [
    "def Furnisher(k):\n",
    "    '''\n",
    "    This function is used to load all kernels needed in an operation.\n",
    "    Comment out kernels not in use and add the ones in use.\n",
    "    \n",
    "    Arguments: NA\n",
    "    Returns: NA\n",
    "    \n",
    "    '''\n",
    "    spice.kclear()\n",
    "    spice.furnsh('/Users/user/Downloads/naif0009.tls.txt')\n",
    "    if k == '310+341+435':\n",
    "            spice.furnsh('/Users/user/Downloads/jup310.bsp')\n",
    "            spice.furnsh('/Users/user/Downloads/jup341.bsp')\n",
    "            spice.furnsh('/Users/user/Downloads/de435.bsp')\n",
    "    elif k == '310+341':\n",
    "            spice.furnsh('/Users/user/Downloads/jup310.bsp')\n",
    "            spice.furnsh('/Users/user/Downloads/jup341.bsp')\n",
    "    elif k == '310+435':\n",
    "            spice.furnsh('/Users/user/Downloads/de435.bsp')\n",
    "            spice.furnsh('/Users/user/Downloads/jup310.bsp')\n",
    "    elif k == '341+435':\n",
    "            spice.furnsh('/Users/user/Downloads/jup341.bsp')\n",
    "            spice.furnsh('/Users/user/Downloads/de435.bsp')\n",
    "    elif k == '310':\n",
    "            spice.furnsh('/Users/user/Downloads/jup310.bsp')\n",
    "    elif k == '341':\n",
    "            spice.furnsh('/Users/user/Downloads/jup341.bsp')\n",
    "    elif k == '435':\n",
    "            spice.furnsh('/Users/user/Downloads/de435.bsp')\n",
    "    pass"
   ]
  },
  {
   "cell_type": "code",
   "execution_count": 3,
   "metadata": {},
   "outputs": [],
   "source": [
    "def get_spice_function(name,cor,loc):\n",
    "    \"\"\"\n",
    "    This wrapper function automates the creation of objects through the JPL Horizons database. \n",
    "    \n",
    "    Arguments:\n",
    "    \n",
    "    name: str\n",
    "    \n",
    "    Stipulates the target object in Horizons. The major bodies in the Solar System have an id based on their position.\n",
    "    Hence '5' refers to Jupiter and '3' to Earth. A single number designator refers to a barycenter and a designator\n",
    "    such as '599' to the planetary center. For minor bodies in the Solar System, the id_type in the Horizons\n",
    "    must be changed to \"minorbody\"\n",
    "    \n",
    "    cor: str\n",
    "    \n",
    "    Refers to the type of correction that the object has. Available arguments are 'NONE', 'LT','LT+S'\n",
    "    \n",
    "    loc: str\n",
    "    \n",
    "    Designates the location of observation. Names that start with \"g@#\" refer to barycenters where the number designates the \n",
    "    body that the observer is based at. Hence \"g@0\" refers to the Solar System barycenter. Also takes Earth location designators.\n",
    "    Observatories are named after their code. Hence, Pan-Starrs observatory is referred as \"f51\"\n",
    "\n",
    "    Returns:\n",
    "    \n",
    "    get_target_xyz function\n",
    "    \"\"\"    \n",
    "    def get_target_xyz(t):\n",
    "        \"\"\"\n",
    "        Returns the vectors of the Horizons body at a certain time t.\n",
    "        \n",
    "        Arguments:\n",
    "        \n",
    "        t: days\n",
    "        \n",
    "        Julian date of observation\n",
    "        \n",
    "        Returns:\n",
    "    \n",
    "        xyz: numpy array\n",
    "        \n",
    "        A position vector of the observed object\n",
    "    \n",
    "        uvw: numpy array\n",
    "        \n",
    "        An instantaneous velocity vector of the observed object\n",
    "        \n",
    "        radec: numpy array\n",
    "        \n",
    "        The right ascension and declination of the observed object\n",
    "        \"\"\"\n",
    "        \n",
    "        state,lighttime = spice.spkezr(name,t,'J2000',cor,loc)\n",
    "        pos,lighttime = spice.spkpos(name,t,'J2000',cor,loc)\n",
    "        range,ra,dec = spice.recrad(pos) \n",
    "        xyz = np.array([state[0],state[1],state[2]])/149597870.7#6.68459e-9\n",
    "        uvw = np.array([state[3],state[4],state[5]])/149597870.7*24.*3600.#*6.68459e-9\n",
    "        radec = np.array([ra,dec])\n",
    "        return xyz,uvw,radec*180/np.pi\n",
    "    return get_target_xyz"
   ]
  },
  {
   "cell_type": "markdown",
   "metadata": {},
   "source": [
    "Relevant kernels for jupiter."
   ]
  },
  {
   "cell_type": "code",
   "execution_count": 4,
   "metadata": {},
   "outputs": [],
   "source": [
    "Furnisher(\"310+341+435\")"
   ]
  },
  {
   "cell_type": "code",
   "execution_count": 5,
   "metadata": {},
   "outputs": [],
   "source": [
    "def get_astroquery_function(name,cor,loc):\n",
    "    \"\"\"\n",
    "    This wrapper function automates the creation of objects through the JPL Horizons database. \n",
    "    \n",
    "    Arguments:\n",
    "    \n",
    "    name: str\n",
    "    \n",
    "    Stipulates the target object in Horizons. The major bodies in the Solar System have an id based on their position.\n",
    "    Hence '5' refers to Jupiter and '3' to Earth. A single number designator refers to a barycenter and a designator\n",
    "    such as '599' to the planetary center. For minor bodies in the Solar System, the id_type in the Horizons\n",
    "    must be changed to \"minorbody\"\n",
    "    \n",
    "    cor: str\n",
    "    \n",
    "    Refers to the type of correction that the object has. Available arguments are \"geometric\",\"astrometric\" and \n",
    "    \"apparent\"\n",
    "    \n",
    "    loc: str\n",
    "    \n",
    "    Designates the location of observation. Names that start with \"g@#\" refer to barycenters where the number designates the \n",
    "    body that the observer is based at. Hence \"g@0\" refers to the Solar System barycenter. Also takes Earth location designators.\n",
    "    Observatories are named after their code. Hence, Pan-Starrs observatory is referred as \"f51\"\n",
    "\n",
    "    Returns:\n",
    "    \n",
    "    get_target_xyz function\n",
    "    \"\"\"    \n",
    "    def get_target_xyz(t):\n",
    "        \"\"\"\n",
    "        Returns the vectors of the Horizons body at a certain time t.\n",
    "        \n",
    "        Arguments:\n",
    "        \n",
    "        t: days\n",
    "        \n",
    "        Julian date of observation\n",
    "        \n",
    "        Returns:\n",
    "    \n",
    "        xyz: numpy array\n",
    "        \n",
    "        A position vector of the observed object\n",
    "    \n",
    "        uvw: numpy array\n",
    "        \n",
    "        An instantaneous velocity vector of the observed object\n",
    "        \"\"\"\n",
    "        \n",
    "        obj = Horizons(id = name, location = loc, epochs = t, id_type = 'majorbody')\n",
    "        obj1 = obj.vectors(aberrations = cor, refplane = 'earth')\n",
    "        xyz = np.array([float(obj1['x']),float(obj1['y']),float(obj1['z'])])\n",
    "        uvw = np.array([float(obj1['vx']),float(obj1['vy']),float(obj1['vz'])])\n",
    "        obj2 = obj.ephemerides(refsystem = 'J2000', extra_precision = True)\n",
    "        radec = np.array([float(obj2['RA']),float(obj2['DEC']),float(obj1['range'])])\n",
    "        return xyz,uvw,radec\n",
    "    return get_target_xyz  "
   ]
  },
  {
   "cell_type": "code",
   "execution_count": 6,
   "metadata": {},
   "outputs": [],
   "source": [
    "def monthToNum(shortMonth):\n",
    "    \n",
    "    '''\n",
    "    \n",
    "    Returns the name of a month that a number corresponds to and vice versa\n",
    "    \n",
    "    Arguments:\n",
    "    \n",
    "    shortMonth: str\n",
    "    \n",
    "    Either the first three letters of a month or its number (e.g. 01 for January, 10 for October)\n",
    "    \n",
    "    Returns:\n",
    "    \n",
    "    shortMonth: str\n",
    "    \n",
    "    Either the first three letters of a month or its number (e.g. 01 for January, 10 for October),\n",
    "    the other one to the one that was given as an argument\n",
    "    \n",
    "    '''\n",
    "    \n",
    "    return{\n",
    "        'Jan' : '01', 'Feb' : '02','Mar' : '03','Apr' : '04','May' : '05','Jun' : '06','Jul' : '07','Aug' : '08',\n",
    "        'Sep' : '09', 'Oct' : '10','Nov' : '11','Dec' : '12','01' : 'Jan','02' : 'Feb','03' : 'Mar','04' : 'Apr',\n",
    "        '05' : 'May','06' : 'Jun','07' : 'Jul','08' : 'Aug','09' : 'Sep', '10' : 'Oct','11' : 'Nov','12' : 'Dec'}[shortMonth]"
   ]
  },
  {
   "cell_type": "code",
   "execution_count": 7,
   "metadata": {},
   "outputs": [],
   "source": [
    "def JD_to_SpiceJD(jd):\n",
    "    '''\n",
    "    \n",
    "    Converts jd date to spice units of time.\n",
    "    \n",
    "    Arguments:\n",
    "    \n",
    "    jd: float\n",
    "    \n",
    "    A jd time in days\n",
    "    \n",
    "    Returns:\n",
    "    \n",
    "    newjd: float\n",
    "    \n",
    "    A spice usable time in seconds\n",
    "    \n",
    "    \n",
    "    '''\n",
    "    t = Time(jd, format='jd', scale='utc')\n",
    "    k = t.fits\n",
    "    year = k[0:4]\n",
    "    month = k[5:7]\n",
    "    day = k[8:10]\n",
    "    hours = k[11:13]\n",
    "    minutes = k[14:16]\n",
    "    seconds = k[17:23]\n",
    "    newmnth = monthToNum(month)\n",
    "    utc = newmnth + ' ' + day + \", \" + year\n",
    "    newjd = spice.str2et(utc) + int(hours)*3600 + int(minutes)*60 + float(seconds)\n",
    "    return newjd"
   ]
  },
  {
   "cell_type": "code",
   "execution_count": 8,
   "metadata": {},
   "outputs": [],
   "source": [
    "def SimStart2(t,bsolar,msolar,iJovian,Ms):\n",
    "    '''\n",
    "    Starts the simulation. Adds all particles\n",
    "    \n",
    "    Arguments:\n",
    "    \n",
    "    bsolar: list of strs\n",
    "    \n",
    "    The names of the bodies added. Typically: '1','2','3','4', 'Jupiter','Io','Ananke'. 'Jupiter' must be added\n",
    "    last followed by the satellites in the system\n",
    "    \n",
    "    msolar: list of floats\n",
    "    \n",
    "    The masses of the bodies in bsolar. Must be at the order of bsolar\n",
    "    \n",
    "    iJovian: list, int\n",
    "    \n",
    "    The indexes (+1) that the satellites in the solar system have in bsolar\n",
    "    \n",
    "    '''\n",
    "    \n",
    "    sim = rebound.Simulation()\n",
    "    k = np.sqrt(Ms*10**9)*(1.49597870700*10**11)**(-1.5) *86400.00000\n",
    "    sim.G = k**2\n",
    "    sim.add(m=1.)\n",
    "    for i in range(0,len(bsolar)):\n",
    "        get_planet = get_spice_function(bsolar[i],'NONE','SUN')\n",
    "        xyz,uvw,radec = get_planet(t)\n",
    "        xyz = xyz\n",
    "        #uvw = (uvw*24*3600)\n",
    "        sim.add(m=msolar[i],x=xyz[0],y=xyz[1],z=xyz[2],vx=uvw[0],vy=uvw[1],vz=uvw[2])\n",
    "    ps = sim.particles\n",
    "    for j in range(1,len(ps)):\n",
    "        if j not in iJovian:\n",
    "            ps[j].calculate_orbit(primary=ps[0])\n",
    "        elif bsolar[j-1] == 'Moon':\n",
    "            ps[j].calculate_orbit(primary=ps[bsolar.index('Earth')+1])\n",
    "        else:\n",
    "            if 'Jupiter' in bsolar:\n",
    "                ps[j].calculate_orbit(primary=ps[bsolar.index('Jupiter')+1])\n",
    "            else:\n",
    "                ps[j].calculate_orbit(primary=ps[bsolar.index('5')+1])\n",
    "    sim.move_to_com()\n",
    "    jupcom = sim.calculate_com(first=8)\n",
    "    print(jupcom-sim.particles[3])\n",
    "    return ps,sim"
   ]
  },
  {
   "cell_type": "code",
   "execution_count": 9,
   "metadata": {},
   "outputs": [],
   "source": [
    "def Integrator(t,bsolar,msolar,iJovian,body1,body2,Ms):\n",
    "    '''\n",
    "    Integrates the system. If body1 or body2 refer to the Jupiter Barycenter, while there are bodies in the Jovian system\n",
    "    teh function will compute the barycenter in the simulation\n",
    "    \n",
    "    Arguments:\n",
    "    \n",
    "    bsolar\n",
    "    msolar\n",
    "    iJovian\n",
    "    \n",
    "    body1 and body2: name in str\n",
    "    \n",
    "    The spice names of the bodies that we want to look into to check the error of our integrator\n",
    "    \n",
    "     '''\n",
    "    ps,sim = SimStart2(t,bsolar,msolar,iJovian,Ms)\n",
    "    xm = []\n",
    "    ym = []\n",
    "    zm = []\n",
    "    xan = []\n",
    "    yan = []\n",
    "    zan = []\n",
    "    distance = []\n",
    "    Nout = 1000\n",
    "    year = 365.25 # days\n",
    "    day = 86400 # s\n",
    "    tmax = 40*year\n",
    "    t0 = t\n",
    "    times = np.linspace(0, tmax, Nout) # days\n",
    "    x = np.zeros((len(bsolar)+1,Nout))\n",
    "    y = np.zeros((len(bsolar)+1,Nout))\n",
    "    z = np.zeros((len(bsolar)+1,Nout))\n",
    "    get_ear_an = get_spice_function(body1,'NONE',body2)\n",
    "    for i, time in enumerate(times):\n",
    "        tspice = t0 + time*day\n",
    "        sim.integrate(time)\n",
    "        if body2 == '5' and len(iJovian)>1 :\n",
    "                jupcom = sim.calculate_com(first=bsolar.index('Jupiter')+1)\n",
    "                xan.append(ps[bsolar.index(body1)+1].x - jupcom.x)\n",
    "                yan.append(ps[bsolar.index(body1)+1].y - jupcom.y)\n",
    "                zan.append(ps[bsolar.index(body1)+1].z - jupcom.z)\n",
    "        elif body1 == '5' and len(iJovian)>1:\n",
    "                jupcom = sim.calculate_com(first=bsolar.index('Jupiter')+1)\n",
    "                xan.append(jupcom.x - ps[0].x)\n",
    "                yan.append(jupcom.y - ps[0].y)\n",
    "                zan.append(jupcom.z - ps[0].z)\n",
    "        else:    \n",
    "                xan.append(0)\n",
    "                yan.append(0)\n",
    "                zan.append(0)\n",
    "        for j in range(0,len(bsolar)+1):\n",
    "            x[j][i] = ps[j].x   # This stores the data which allows us to plot it later\n",
    "            y[j][i] = ps[j].y\n",
    "            z[j][i] = ps[j].z\n",
    "        xyz,uvw,radec = get_ear_an(tspice)\n",
    "        xm.append(xyz[0])\n",
    "        ym.append(xyz[1])\n",
    "        zm.append(xyz[2])\n",
    "        distance.append(np.sqrt(xm[i]**2 + ym[i]**2 + zm[i]**2))\n",
    "    return x,y,z,xm,ym,zm,times,distance,xan,yan,zan"
   ]
  },
  {
   "cell_type": "code",
   "execution_count": 10,
   "metadata": {},
   "outputs": [],
   "source": [
    "def ErrorSource(t,bsolar,mass,iJovian,body1,body2,Ms):\n",
    "    '''\n",
    "    Returns the error of the chosen bodies as well as the entire system\n",
    "    \n",
    "    '''\n",
    "    x,y,z,xm,ym,zm,times,distance,xan,yan,zan = Integrator(t,bsolar,mass,iJovian,body1,body2,Ms)\n",
    "    if (body2 == '5' or body1 == '5') and len(iJovian)>1:\n",
    "        dist1 = np.array(xan)\n",
    "        dist2 = np.array(yan)\n",
    "        dist3 = np.array(zan)\n",
    "    elif body2 == 'Sun':\n",
    "        temp = 0\n",
    "        dist1 = x[bsolar.index(body1)+1] - x[temp]\n",
    "        dist2 = y[bsolar.index(body1)+1] - y[temp]\n",
    "        dist3 = z[bsolar.index(body1)+1] - z[temp]\n",
    "    else:\n",
    "        temp = bsolar.index(body2)+1\n",
    "        dist1 = x[bsolar.index(body1)+1] - x[temp]\n",
    "        dist2 = y[bsolar.index(body1)+1] - y[temp]\n",
    "        dist3 = z[bsolar.index(body1)+1] - z[temp]\n",
    "    return np.array(dist1-xm),np.array(dist2-ym),np.array(dist3-zm),times,distance,x,y,z,xm,ym,zm,xan,yan,zan"
   ]
  },
  {
   "cell_type": "code",
   "execution_count": 11,
   "metadata": {},
   "outputs": [],
   "source": [
    "# From 432 (km^3/s^2)\n",
    "GMEarth = 398600.435420\n",
    "GMMoon = 27068703.151194\n",
    "\n",
    "GMMercuryB = 22031.780000\n",
    "GMVenusB = 324858.592000\n",
    "GMEarthB = 403503.235502\n",
    "GMMarsB = 42828.375214\n",
    "GMJupiterB = 126712764.133446\n",
    "GMSaturnB = 37940585.200000\n",
    "GMUranusB = 5794556.465752\n",
    "GMNeptuneB = 6836527.100580\n",
    "GMSun = 132712440041.939400 # Just Sun\n",
    "GMSunterr = GMSun + GMMercuryB + GMVenusB + GMEarthB + GMMarsB\n",
    "\n",
    "# From 310\n",
    "\n",
    "GMJupiter = 1.266865341960128E+08\n",
    "GMIo = 5.959924010272514E+03\n",
    "GMEuropa = 3.202739815114734E+03\n",
    "GMGanymede = 9.887819980080976E+03\n",
    "GMCallisto = 7.179304867611079E+03\n",
    "GMAmalthea = 1.487604677404272E-01\n",
    "GM10310 = 1.327132332639000E+11\n",
    "\n",
    "GMSaturnB310 = 3.794058500000000E+07\n",
    "GMUranusB310 = 5.794548600000000E+06\n",
    "GMNeptuneB310 = 6.836527100580000E+06\n",
    "GMJupiterB310 = 1.267127641334463E+08"
   ]
  },
  {
   "cell_type": "code",
   "execution_count": 12,
   "metadata": {},
   "outputs": [],
   "source": [
    "MMercuryB = GMMercuryB/GMSun\n",
    "MVenusB = GMVenusB/GMSun\n",
    "MEarthB = GMEarthB/GMSun\n",
    "MEarth = GMEarth/GMSun\n",
    "MMoon = GMMoon/GMSun\n",
    "MMarsB = GMMarsB/GMSun\n",
    "MJupiter = (GMJupiterB-GMIo-GMEuropa-GMGanymede-GMCallisto)/GMSun\n",
    "MSaturnB = GMSaturnB/GMSun\n",
    "MUranusB = GMUranusB/GMSun\n",
    "MNeptuneB = GMNeptuneB/GMSun\n",
    "MIo = GMIo/GMSun\n",
    "MEuropa = GMEuropa/GMSun\n",
    "MGanymede = GMGanymede/GMSun\n",
    "MCallisto = GMCallisto/GMSun\n",
    "MAmalthea = GMAmalthea/GMSun"
   ]
  },
  {
   "cell_type": "code",
   "execution_count": 13,
   "metadata": {},
   "outputs": [],
   "source": [
    "ts = 2452993.114031909\n",
    "t = JD_to_SpiceJD(ts)"
   ]
  },
  {
   "cell_type": "code",
   "execution_count": 14,
   "metadata": {},
   "outputs": [
    {
     "name": "stdout",
     "output_type": "stream",
     "text": [
      "<rebound.Particle object, m=0.0009517514775406745 x=-5.0585044688148395 y=0.904977350909343 z=0.5054666210109595 vx=0.014554109267378948 vy=-0.006845047112469275 vz=-0.002866602627952965>\n",
      "CPU times: user 23.6 s, sys: 39 ms, total: 23.7 s\n",
      "Wall time: 24.6 s\n"
     ]
    },
    {
     "data": {
      "image/png": "[encoded data removed]",
      "text/plain": [
       "<Figure size 432x288 with 1 Axes>"
      ]
     },
     "metadata": {},
     "output_type": "display_data"
    }
   ],
   "source": [
    "%%time\n",
    "Furnisher('310+341+435')\n",
    "ts = 2452993.114031909\n",
    "t = JD_to_SpiceJD(ts)\n",
    "MJupiter = (GMJupiterB-GMIo-GMEuropa-GMGanymede-GMCallisto)/GMSun\n",
    "xerr,yerr,zerr,times,distance,x,y,z,xm,zm,ym,xan,yan,zan = ErrorSource(t,['1','2','3','4','6','7','8','Jupiter','Io','Europa','Ganymede','Callisto','Ananke'],[MMercuryB,MVenusB,MEarthB,MMarsB,MSaturnB,MUranusB,MNeptuneB,MJupiter,MIo,MEuropa,MGanymede,MCallisto,0],[9,10,11,12,13,14,15],'Ananke','5',GMSun)\n",
    "plt.plot(times/365.24,(xerr)*1e6/4.5,\"d\")\n",
    "plt.ylabel(\"Number of pixels\")\n",
    "plt.xlabel(\"t in Years\")"
   ]
  },
  {
   "cell_type": "code",
   "execution_count": 15,
   "metadata": {},
   "outputs": [
    {
     "data": {
      "text/plain": [
       "(280.0424245285823,\n",
       " 280.04226563924476,\n",
       " -23.559638596838756,\n",
       " -23.559685734686322)"
      ]
     },
     "execution_count": 15,
     "metadata": {},
     "output_type": "execute_result"
    }
   ],
   "source": [
    "ts = 2452993.114031909+40*365.25\n",
    "get_pans = get_astroquery_function('5','astrometric','f51')\n",
    "vecs2 = get_pans(ts)\n",
    "vectors = vecs2[0]+np.array([xan[-1],yan[-1],zan[-1]])\n",
    "xyz = vectors/6.68459e-9\n",
    "xyz1 = np.array([xyz[0],xyz[1],(xyz[2]-np.sin(20.707222)*4.25875e-5)])\n",
    "vectors = vecs2[0]+np.array([xan[-1]+xerr[-1],yan[-1]+yerr[-1],zan[-1]]+zerr[-1])\n",
    "xyz = vectors/6.68459e-9\n",
    "xyz2 = np.array([xyz[0],xyz[1],(xyz[2]-np.sin(20.707222)*4.25875e-5)])\n",
    "dist, ra1,dec1 = spice.recrad(xyz1)\n",
    "dist, ra2,dec2 = spice.recrad(xyz2)\n",
    "ra1*180/np.pi,ra2*180/np.pi,dec1*180/np.pi,dec2*180/np.pi"
   ]
  },
  {
   "cell_type": "code",
   "execution_count": 16,
   "metadata": {},
   "outputs": [],
   "source": [
    "def FinderSpicef51(name,t):\n",
    "    '''\n",
    "    \n",
    "    Finds the radec of objects in the jovian system from the pansstars observatory\n",
    "    \n",
    "    Arguments:\n",
    "    \n",
    "    name: str\n",
    "    \n",
    "    The name of the object in spice documentation. See Summary_Names.txt\n",
    "    \n",
    "    t: float\n",
    "    \n",
    "    A julian date\n",
    "    \n",
    "    '''\n",
    "    get_pans = get_astroquery_function('0','astrometric','f51')\n",
    "    vecs2 = get_pans(t)\n",
    "    ts = JD_to_SpiceJD(t)\n",
    "    get_obj = get_spice_function(name,\"LT\",\"SOLAR SYSTEM BARYCENTER\")\n",
    "    vecs = get_obj(ts)\n",
    "    vectors = vecs2[0]+vecs[0]\n",
    "    xyz = vectors/6.68459e-9\n",
    "    xyz = np.array([xyz[0],xyz[1],(xyz[2]-np.sin(20.707222)*4.25875e-5)])\n",
    "    range, ra, dec = spice.recrad(xyz)\n",
    "    return np.array([ra,dec])*180/np.pi"
   ]
  },
  {
   "cell_type": "markdown",
   "metadata": {},
   "source": [
    "Returns the position of a satellite after 40 years of integration (By taking its position 40 years prior and predicting it at the time given)"
   ]
  },
  {
   "cell_type": "code",
   "execution_count": 17,
   "metadata": {},
   "outputs": [],
   "source": [
    "def FinderReboundf51(name,ts):\n",
    "    '''\n",
    "    \n",
    "    Finds the radec of objects in the jovian system from the pansstars observatory\n",
    "    \n",
    "    Arguments:\n",
    "    \n",
    "    name: str\n",
    "    \n",
    "    The name of the object in spice documentation. See Summary_Names.txt\n",
    "    \n",
    "    t: float\n",
    "    \n",
    "    A julian date\n",
    "    \n",
    "    '''\n",
    "    Furnisher('310+341+435')\n",
    "    t = JD_to_SpiceJD(ts-40*365.25)\n",
    "    MJupiter = (GMJupiterB-GMIo-GMEuropa-GMGanymede-GMCallisto)/GMSun\n",
    "    xerr,yerr,zerr,times,distance,x,y,z,xm,zm,ym,xan,yan,zan = ErrorSource(t,['1','2','3','4','6','7','8','Jupiter','Io','Europa','Ganymede','Callisto',name],[MMercuryB,MVenusB,MEarthB,MMarsB,MSaturnB,MUranusB,MNeptuneB,MJupiter,MIo,MEuropa,MGanymede,MCallisto,0],[9,10,11,12,13,14,15],name,'5',GMSun)\n",
    "    get_pans = get_astroquery_function('5','astrometric','f51')\n",
    "    vecs2 = get_pans(ts)\n",
    "    vectors = vecs2[0]+np.array([xan[-1],yan[-1],zan[-1]])\n",
    "    xyz = vectors/6.68459e-9\n",
    "    xyz1 = np.array([xyz[0],xyz[1],(xyz[2]-np.sin(20.707222)*4.25875e-5)])\n",
    "    range, ra, dec = spice.recrad(xyz1)\n",
    "    return np.array([ra,dec])*180/np.pi"
   ]
  },
  {
   "cell_type": "code",
   "execution_count": 18,
   "metadata": {},
   "outputs": [
    {
     "name": "stdout",
     "output_type": "stream",
     "text": [
      "<rebound.Particle object, m=0.0009517514775406745 x=4.562479371689504 y=0.8119566516881653 z=0.2313273789383568 vx=0.014605305494403257 vy=0.00612411527536472 vz=0.002692062838762231>\n"
     ]
    },
    {
     "data": {
      "text/plain": [
       "array([168.8365571 ,   5.75386356])"
      ]
     },
     "execution_count": 18,
     "metadata": {},
     "output_type": "execute_result"
    }
   ],
   "source": [
    "FinderReboundf51('Elara',2452993.114031909)"
   ]
  },
  {
   "cell_type": "code",
   "execution_count": 19,
   "metadata": {},
   "outputs": [
    {
     "data": {
      "text/plain": [
       "array([168.83652072,   5.75392252])"
      ]
     },
     "execution_count": 19,
     "metadata": {},
     "output_type": "execute_result"
    }
   ],
   "source": [
    "FinderSpicef51('Elara',2452993.114031909)"
   ]
  },
  {
   "cell_type": "code",
   "execution_count": 20,
   "metadata": {},
   "outputs": [],
   "source": [
    "obj = Horizons(id = 'Elara', location = 'f51', epochs = 2452993.114031909,id_type = 'majorbody')\n",
    "ephs = obj.ephemerides()\n",
    "Hors = np.array([float(ephs['RA']),float(ephs['DEC'])])"
   ]
  },
  {
   "cell_type": "markdown",
   "metadata": {},
   "source": [
    "Good error with respect to Horizons, under a pixel"
   ]
  },
  {
   "cell_type": "code",
   "execution_count": 21,
   "metadata": {},
   "outputs": [
    {
     "name": "stdout",
     "output_type": "stream",
     "text": [
      "<rebound.Particle object, m=0.0009517514775406745 x=4.562479371689504 y=0.8119566516881653 z=0.2313273789383568 vx=0.014605305494403257 vy=0.00612411527536472 vz=0.002692062838762231>\n"
     ]
    }
   ],
   "source": [
    "Error = FinderReboundf51('Elara',2452993.114031909) - Hors"
   ]
  },
  {
   "cell_type": "code",
   "execution_count": 22,
   "metadata": {},
   "outputs": [
    {
     "data": {
      "text/plain": [
       "array([-0.14975694, -0.12718612])"
      ]
     },
     "execution_count": 22,
     "metadata": {},
     "output_type": "execute_result"
    }
   ],
   "source": [
    "Error*(np.pi*1e6)/(5*180) "
   ]
  },
  {
   "cell_type": "markdown",
   "metadata": {},
   "source": [
    "Good error with respect to Spice, also under a pixel"
   ]
  },
  {
   "cell_type": "code",
   "execution_count": 23,
   "metadata": {},
   "outputs": [
    {
     "name": "stdout",
     "output_type": "stream",
     "text": [
      "<rebound.Particle object, m=0.0009517514775406745 x=4.562479371689504 y=0.8119566516881653 z=0.2313273789383568 vx=0.014605305494403257 vy=0.00612411527536472 vz=0.002692062838762231>\n"
     ]
    }
   ],
   "source": [
    "Error = FinderReboundf51('Elara',2452993.114031909) - FinderSpicef51('Elara',2452993.114031909)"
   ]
  },
  {
   "cell_type": "code",
   "execution_count": 24,
   "metadata": {},
   "outputs": [
    {
     "data": {
      "text/plain": [
       "array([ 0.12697077, -0.20580747])"
      ]
     },
     "execution_count": 24,
     "metadata": {},
     "output_type": "execute_result"
    }
   ],
   "source": [
    "Error*(np.pi*1e6)/(5*180) "
   ]
  },
  {
   "cell_type": "code",
   "execution_count": null,
   "metadata": {},
   "outputs": [],
   "source": []
  }
 ],
 "metadata": {
  "kernelspec": {
   "display_name": "Python 3",
   "language": "python",
   "name": "python3"
  },
  "language_info": {
   "codemirror_mode": {
    "name": "ipython",
    "version": 3
   },
   "file_extension": ".py",
   "mimetype": "text/x-python",
   "name": "python",
   "nbconvert_exporter": "python",
   "pygments_lexer": "ipython3",
   "version": "3.6.7"
  }
 },
 "nbformat": 4,
 "nbformat_minor": 2
}

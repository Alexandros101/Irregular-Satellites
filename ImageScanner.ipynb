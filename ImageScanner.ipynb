{
 "cells": [
  {
   "cell_type": "code",
   "execution_count": 157,
   "metadata": {},
   "outputs": [],
   "source": [
    "import numpy as np\n",
    "import pandas as pd\n",
    "import spiceypy as spice\n",
    "import numpy as np\n",
    "import matplotlib.pyplot as plt\n",
    "import astropy.units as u\n",
    "from astropy.constants import c\n",
    "from astropy.time import Time\n",
    "from astroquery.jplhorizons import Horizons"
   ]
  },
  {
   "cell_type": "code",
   "execution_count": 83,
   "metadata": {},
   "outputs": [],
   "source": [
    "def Furnisher():\n",
    "    '''\n",
    "    This function is used to load all kernels needed in an operation.\n",
    "    Comment out kernels not in use and add the ones in use.\n",
    "    \n",
    "    Arguments: NA\n",
    "    Returns: NA\n",
    "    \n",
    "    '''\n",
    "    spice.kclear()\n",
    "    spice.furnsh('/Users/user/Downloads/naif0009.tls.txt')\n",
    "    #spice.furnsh('/Users/user/Downloads/cas00084.tsc.txt')\n",
    "    #spice.furnsh('/Users/user/Downloads/cpck05Mar2004.tpc.txt')\n",
    "    #spice.furnsh('/Users/user/Downloads/020514_SE_SAT105.bsp')\n",
    "    #spice.furnsh('/Users/user/Downloads/981005_PLTEPH-DE405S.bsp')\n",
    "    #spice.furnsh('/Users/user/Downloads/030201AP_SK_SM546_T45.bsp')\n",
    "    #spice.furnsh('/Users/user/Downloads/04135_04171pc_psiv2.bc')\n",
    "    #spice.furnsh('/Users/user/Downloads/cas_v37.tf.txt')\n",
    "    #spice.furnsh('/Users/user/Downloads/cas_iss_v09.ti.txt')\n",
    "    spice.furnsh('/Users/user/Downloads/jup310.bsp')\n",
    "    spice.furnsh('/Users/user/Downloads/jup341.bsp')\n",
    "    pass"
   ]
  },
  {
   "cell_type": "markdown",
   "metadata": {},
   "source": [
    "Relevant kernels for jupiter."
   ]
  },
  {
   "cell_type": "code",
   "execution_count": 84,
   "metadata": {},
   "outputs": [],
   "source": [
    "Furnisher()"
   ]
  },
  {
   "cell_type": "code",
   "execution_count": 54,
   "metadata": {},
   "outputs": [],
   "source": [
    "def get_spice_function(name,cor,loc):\n",
    "    \"\"\"\n",
    "    This wrapper function automates the creation of objects through the JPL Horizons database. \n",
    "    \n",
    "    Arguments:\n",
    "    \n",
    "    name: str\n",
    "    \n",
    "    Stipulates the target object in Horizons. The major bodies in the Solar System have an id based on their position.\n",
    "    Hence '5' refers to Jupiter and '3' to Earth. A single number designator refers to a barycenter and a designator\n",
    "    such as '599' to the planetary center. For minor bodies in the Solar System, the id_type in the Horizons\n",
    "    must be changed to \"minorbody\"\n",
    "    \n",
    "    cor: str\n",
    "    \n",
    "    Refers to the type of correction that the object has. Available arguments are 'NONE', 'LT','LT+S'\n",
    "    \n",
    "    loc: str\n",
    "    \n",
    "    Designates the location of observation. Names that start with \"g@#\" refer to barycenters where the number designates the \n",
    "    body that the observer is based at. Hence \"g@0\" refers to the Solar System barycenter. Also takes Earth location designators.\n",
    "    Observatories are named after their code. Hence, Pan-Starrs observatory is referred as \"f51\"\n",
    "\n",
    "    Returns:\n",
    "    \n",
    "    get_target_xyz function\n",
    "    \"\"\"    \n",
    "    def get_target_xyz(t):\n",
    "        \"\"\"\n",
    "        Returns the vectors of the Horizons body at a certain time t.\n",
    "        \n",
    "        Arguments:\n",
    "        \n",
    "        t: days\n",
    "        \n",
    "        Julian date of observation\n",
    "        \n",
    "        Returns:\n",
    "    \n",
    "        xyz: numpy array\n",
    "        \n",
    "        A position vector of the observed object\n",
    "    \n",
    "        uvw: numpy array\n",
    "        \n",
    "        An instantaneous velocity vector of the observed object\n",
    "        \n",
    "        radec: numpy array\n",
    "        \n",
    "        The right ascension and declination of the observed object\n",
    "        \"\"\"\n",
    "        \n",
    "        state,lighttime = spice.spkezr(name,t,'J2000',cor,loc)\n",
    "        pos,lighttime = spice.spkpos(name,t,'J2000',cor,loc)\n",
    "        range,ra,dec = spice.recrad(pos) \n",
    "        xyz = np.array([state[0],state[1],state[2]])*6.68459e-9\n",
    "        uvw = np.array([state[3],state[4],state[5]])*6.68459e-9\n",
    "        radec = np.array([ra,dec])\n",
    "        return xyz,uvw,radec*180/np.pi\n",
    "    return get_target_xyz"
   ]
  },
  {
   "cell_type": "code",
   "execution_count": 96,
   "metadata": {},
   "outputs": [],
   "source": [
    "def get_astroquery_function(name,cor,loc):\n",
    "    \"\"\"\n",
    "    This wrapper function automates the creation of objects through the JPL Horizons database. \n",
    "    \n",
    "    Arguments:\n",
    "    \n",
    "    name: str\n",
    "    \n",
    "    Stipulates the target object in Horizons. The major bodies in the Solar System have an id based on their position.\n",
    "    Hence '5' refers to Jupiter and '3' to Earth. A single number designator refers to a barycenter and a designator\n",
    "    such as '599' to the planetary center. For minor bodies in the Solar System, the id_type in the Horizons\n",
    "    must be changed to \"minorbody\"\n",
    "    \n",
    "    cor: str\n",
    "    \n",
    "    Refers to the type of correction that the object has. Available arguments are \"geometric\",\"astrometric\" and \n",
    "    \"apparent\"\n",
    "    \n",
    "    loc: str\n",
    "    \n",
    "    Designates the location of observation. Names that start with \"g@#\" refer to barycenters where the number designates the \n",
    "    body that the observer is based at. Hence \"g@0\" refers to the Solar System barycenter. Also takes Earth location designators.\n",
    "    Observatories are named after their code. Hence, Pan-Starrs observatory is referred as \"f51\"\n",
    "\n",
    "    Returns:\n",
    "    \n",
    "    get_target_xyz function\n",
    "    \"\"\"    \n",
    "    def get_target_xyz(t):\n",
    "        \"\"\"\n",
    "        Returns the vectors of the Horizons body at a certain time t.\n",
    "        \n",
    "        Arguments:\n",
    "        \n",
    "        t: days\n",
    "        \n",
    "        Julian date of observation\n",
    "        \n",
    "        Returns:\n",
    "    \n",
    "        xyz: numpy array\n",
    "        \n",
    "        A position vector of the observed object\n",
    "    \n",
    "        uvw: numpy array\n",
    "        \n",
    "        An instantaneous velocity vector of the observed object\n",
    "        \"\"\"\n",
    "        \n",
    "        obj = Horizons(id = name, location = loc, epochs = t, id_type = 'majorbody')\n",
    "        obj1 = obj.vectors(aberrations = cor, refplane = 'earth')\n",
    "        xyz = np.array([float(obj1['x']),float(obj1['y']),float(obj1['z'])])\n",
    "        uvw = np.array([float(obj1['vx']),float(obj1['vy']),float(obj1['vz'])])\n",
    "        obj2 = obj.ephemerides(refsystem = 'J2000', extra_precision = True)\n",
    "        radec = np.array([float(obj2['RA']),float(obj2['DEC']),float(obj1['range'])])\n",
    "        return xyz,uvw,radec\n",
    "    return get_target_xyz  "
   ]
  },
  {
   "cell_type": "code",
   "execution_count": 127,
   "metadata": {},
   "outputs": [],
   "source": [
    "def monthToNum(shortMonth):\n",
    "    \n",
    "    '''\n",
    "    \n",
    "    Returns the name of a month that a number corresponds to and vice versa\n",
    "    \n",
    "    Arguments:\n",
    "    \n",
    "    shortMonth: str\n",
    "    \n",
    "    Either the first three letters of a month or its number (e.g. 01 for January, 10 for October)\n",
    "    \n",
    "    Returns:\n",
    "    \n",
    "    shortMonth: str\n",
    "    \n",
    "    Either the first three letters of a month or its number (e.g. 01 for January, 10 for October),\n",
    "    the other one to the one that was given as an argument\n",
    "    \n",
    "    '''\n",
    "    \n",
    "    return{\n",
    "        'Jan' : '01', 'Feb' : '02','Mar' : '03','Apr' : '04','May' : '05','Jun' : '06','Jul' : '07','Aug' : '08',\n",
    "        'Sep' : '09', 'Oct' : '10','Nov' : '11','Dec' : '12','01' : 'Jan','02' : 'Feb','03' : 'Mar','04' : 'Apr',\n",
    "        '05' : 'May','06' : 'Jun','07' : 'Jul','08' : 'Aug','09' : 'Sep', '10' : 'Oct','11' : 'Nov','12' : 'Dec'}[shortMonth]"
   ]
  },
  {
   "cell_type": "code",
   "execution_count": 128,
   "metadata": {},
   "outputs": [],
   "source": [
    "def JD_to_SpiceJD(jd):\n",
    "    '''\n",
    "    \n",
    "    Converts jd date to spice units of time.\n",
    "    \n",
    "    Arguments:\n",
    "    \n",
    "    jd: float\n",
    "    \n",
    "    A jd time in days\n",
    "    \n",
    "    Returns:\n",
    "    \n",
    "    newjd: float\n",
    "    \n",
    "    A spice usable time in seconds\n",
    "    \n",
    "    \n",
    "    '''\n",
    "    t = Time(jd, format='jd', scale='utc')\n",
    "    k = t.fits\n",
    "    year = k[0:4]\n",
    "    month = k[5:7]\n",
    "    day = k[8:10]\n",
    "    hours = k[11:13]\n",
    "    minutes = k[14:16]\n",
    "    seconds = k[17:23]\n",
    "    newmnth = monthToNum(month)\n",
    "    utc = newmnth + ' ' + day + \", \" + year\n",
    "    newjd = spice.str2et(utc) + int(hours)*3600 + int(minutes)*60 + float(seconds)\n",
    "    return newjd"
   ]
  },
  {
   "cell_type": "code",
   "execution_count": 146,
   "metadata": {},
   "outputs": [],
   "source": [
    "def Finderf51(name,t):\n",
    "    '''\n",
    "    \n",
    "    Finds the radec of objects in the jovian system from the pansstars observatory\n",
    "    \n",
    "    Arguments:\n",
    "    \n",
    "    name: str\n",
    "    \n",
    "    The name of the object in spice documentation. See Summary_Names.txt\n",
    "    \n",
    "    t: float\n",
    "    \n",
    "    A julian date\n",
    "    \n",
    "    '''\n",
    "    get_pans = get_astroquery_function('0','astrometric','f51')\n",
    "    vecs2 = get_pans(t)\n",
    "    ts = JD_to_SpiceJD(t)\n",
    "    get_obj = get_spice_function(name,\"LT\",\"SOLAR SYSTEM BARYCENTER\")\n",
    "    vecs = get_obj(ts)\n",
    "    vectors = vecs2[0]+vecs[0]\n",
    "    xyz = vectors/6.68459e-9\n",
    "    xyz = np.array([xyz[0],xyz[1],(xyz[2]-np.sin(20.707222)*4.25875e-5)])\n",
    "    range, ra, dec = spice.recrad(xyz)\n",
    "    return np.array([ra,dec])*180/np.pi"
   ]
  },
  {
   "cell_type": "markdown",
   "metadata": {},
   "source": [
    "Returning radecs of Jovian satellites. The time selected is one of the images of Jupiter that we asked from\n",
    "Matt. ID 2213. \n",
    "\n",
    "Image centre: \n",
    "\n",
    "RA: 329.686524\n",
    "DEC: -13.076262"
   ]
  },
  {
   "cell_type": "code",
   "execution_count": 147,
   "metadata": {},
   "outputs": [
    {
     "data": {
      "text/plain": [
       "array([329.39768642, -13.36966214])"
      ]
     },
     "execution_count": 147,
     "metadata": {},
     "output_type": "execute_result"
    }
   ],
   "source": [
    "Finderf51(\"Jupiter\",2454999.077545891)"
   ]
  },
  {
   "cell_type": "code",
   "execution_count": 148,
   "metadata": {
    "scrolled": true
   },
   "outputs": [
    {
     "data": {
      "text/plain": [
       "array([329.54770394, -13.31095003])"
      ]
     },
     "execution_count": 148,
     "metadata": {},
     "output_type": "execute_result"
    }
   ],
   "source": [
    "Finderf51(\"Callisto\",2454999.077545891)"
   ]
  },
  {
   "cell_type": "code",
   "execution_count": 149,
   "metadata": {},
   "outputs": [
    {
     "data": {
      "text/plain": [
       "array([330.15732399, -13.3434753 ])"
      ]
     },
     "execution_count": 149,
     "metadata": {},
     "output_type": "execute_result"
    }
   ],
   "source": [
    "Finderf51(\"Himalia\",2454999.077545891)"
   ]
  },
  {
   "cell_type": "code",
   "execution_count": 150,
   "metadata": {},
   "outputs": [
    {
     "data": {
      "text/plain": [
       "array([329.73517058, -12.98779907])"
      ]
     },
     "execution_count": 150,
     "metadata": {},
     "output_type": "execute_result"
    }
   ],
   "source": [
    "Finderf51(\"Pasiphae\",2454999.077545891)"
   ]
  },
  {
   "cell_type": "code",
   "execution_count": 151,
   "metadata": {},
   "outputs": [
    {
     "data": {
      "text/plain": [
       "array([328.49496908, -14.44858893])"
      ]
     },
     "execution_count": 151,
     "metadata": {},
     "output_type": "execute_result"
    }
   ],
   "source": [
    "Finderf51(\"Ananke\",2454999.077545891)"
   ]
  },
  {
   "cell_type": "markdown",
   "metadata": {},
   "source": [
    "As expected the irregulars are further away from Jupiter than Callisto in the image "
   ]
  },
  {
   "cell_type": "code",
   "execution_count": 145,
   "metadata": {},
   "outputs": [
    {
     "data": {
      "text/html": [
       "<i>Table masked=True length=1</i>\n",
       "<table id=\"table34847924120\" class=\"table-striped table-bordered table-condensed\">\n",
       "<thead><tr><th>targetname</th><th>datetime_str</th><th>datetime_jd</th><th>solar_presence</th><th>flags</th><th>RA</th><th>DEC</th><th>RA_app</th><th>DEC_app</th><th>RA_rate</th><th>DEC_rate</th><th>AZ</th><th>EL</th><th>AZ_rate</th><th>EL_rate</th><th>sat_X</th><th>sat_Y</th><th>sat_PANG</th><th>siderealtime</th><th>airmass</th><th>magextinct</th><th>V</th><th>surfbright</th><th>illumination</th><th>illum_defect</th><th>sat_sep</th><th>sat_vis</th><th>ang_width</th><th>PDObsLon</th><th>PDObsLat</th><th>PDSunLon</th><th>PDSunLat</th><th>SubSol_ang</th><th>SubSol_dist</th><th>NPole_ang</th><th>NPole_dist</th><th>EclLon</th><th>EclLat</th><th>r</th><th>r_rate</th><th>delta</th><th>delta_rate</th><th>lighttime</th><th>vel_sun</th><th>vel_obs</th><th>elong</th><th>elongFlag</th><th>alpha</th><th>lunar_elong</th><th>lunar_illum</th><th>sat_alpha</th><th>sunTargetPA</th><th>velocityPA</th><th>OrbPlaneAng</th><th>constellation</th><th>TDB-UT</th><th>ObsEclLon</th><th>ObsEclLat</th><th>NPole_RA</th><th>NPole_DEC</th><th>GlxLon</th><th>GlxLat</th><th>solartime</th><th>earth_lighttime</th><th>RA_3sigma</th><th>DEC_3sigma</th><th>SMAA_3sigma</th><th>SMIA_3sigma</th><th>Theta_3sigma</th><th>Area_3sigma</th><th>RSS_3sigma</th><th>r_3sigma</th><th>r_rate_3sigma</th><th>SBand_3sigma</th><th>XBand_3sigma</th><th>DoppDelay_3sigma</th><th>true_anom</th><th>hour_angle</th><th>alpha_true</th><th>PABLon</th><th>PABLat</th></tr></thead>\n",
       "<thead><tr><th>---</th><th>---</th><th>d</th><th>---</th><th>---</th><th>deg</th><th>deg</th><th>deg</th><th>deg</th><th>arcsec / h</th><th>arcsec / h</th><th>deg</th><th>deg</th><th>arcsec / min</th><th>arcsec / min</th><th>arcsec</th><th>arcsec</th><th>deg</th><th>---</th><th>---</th><th>mag</th><th>mag</th><th>mag / arcsec2</th><th>%</th><th>arcsec</th><th>arcsec</th><th>---</th><th>arcsec</th><th>deg</th><th>deg</th><th>deg</th><th>deg</th><th>deg</th><th>arcsec</th><th>deg</th><th>arcsec</th><th>deg</th><th>deg</th><th>AU</th><th>km / s</th><th>AU</th><th>km / s</th><th>min</th><th>km / s</th><th>km / s</th><th>deg</th><th>---</th><th>deg</th><th>deg</th><th>%</th><th>deg</th><th>deg</th><th>deg</th><th>deg</th><th>---</th><th>s</th><th>deg</th><th>deg</th><th>deg</th><th>deg</th><th>deg</th><th>deg</th><th>---</th><th>min</th><th>arcsec</th><th>arcsec</th><th>arcsec</th><th>arcsec</th><th>deg</th><th>arcsec2</th><th>arcsec</th><th>km</th><th>km / s</th><th>Hz</th><th>Hz</th><th>s</th><th>deg</th><th>---</th><th>deg</th><th>deg</th><th>deg</th></tr></thead>\n",
       "<thead><tr><th>str14</th><th>str24</th><th>float64</th><th>str1</th><th>str1</th><th>float64</th><th>float64</th><th>float64</th><th>float64</th><th>float64</th><th>float64</th><th>float64</th><th>float64</th><th>float64</th><th>float64</th><th>float64</th><th>float64</th><th>float64</th><th>float64</th><th>float64</th><th>float64</th><th>float64</th><th>float64</th><th>float64</th><th>float64</th><th>float64</th><th>str1</th><th>float64</th><th>float64</th><th>float64</th><th>float64</th><th>float64</th><th>float64</th><th>float64</th><th>float64</th><th>float64</th><th>float64</th><th>float64</th><th>float64</th><th>float64</th><th>float64</th><th>float64</th><th>float64</th><th>float64</th><th>float64</th><th>float64</th><th>str2</th><th>float64</th><th>float64</th><th>float64</th><th>float64</th><th>float64</th><th>float64</th><th>float64</th><th>str3</th><th>float64</th><th>float64</th><th>float64</th><th>float64</th><th>float64</th><th>float64</th><th>float64</th><th>float64</th><th>float64</th><th>int64</th><th>int64</th><th>int64</th><th>int64</th><th>int64</th><th>int64</th><th>int64</th><th>int64</th><th>int64</th><th>int64</th><th>int64</th><th>int64</th><th>int64</th><th>float64</th><th>float64</th><th>float64</th><th>float64</th></tr></thead>\n",
       "<tr><td>Callisto (504)</td><td>2009-Jun-16 13:51:39.965</td><td>2454999.077545891</td><td></td><td>m</td><td>329.54791</td><td>-13.31089</td><td>329.68196</td><td>-13.26379</td><td>-2.2212</td><td>-1.51446</td><td>158.2086</td><td>53.687</td><td>820.63</td><td>313.37</td><td>525.155</td><td>211.567</td><td>68.077</td><td>21.108546019</td><td>1.24</td><td>0.161</td><td>6.12</td><td>6.7</td><td>99.212</td><td>0.0117</td><td>566.2286</td><td>*</td><td>1.479832</td><td>98.94</td><td>0.51</td><td>109.12</td><td>0.07</td><td>70.38</td><td>0.13</td><td>337.9471</td><td>0.74</td><td>316.8467</td><td>-0.7659</td><td>5.054053163057</td><td>-8.2199146</td><td>4.4914691660322</td><td>-32.1848699</td><td>37.35441</td><td>13.38191</td><td>32.27678</td><td>118.3741</td><td>/L</td><td>10.191</td><td>36.8</td><td>43.1</td><td>79.2334</td><td>250.413</td><td>251.551</td><td>-0.22678</td><td>Cap</td><td>66.184517</td><td>327.1722704</td><td>-0.8629527</td><td>268.18601</td><td>64.70811</td><td>42.956899</td><td>-47.323582</td><td>3.4317755574</td><td>0.000355</td><td>--</td><td>--</td><td>--</td><td>--</td><td>--</td><td>--</td><td>--</td><td>--</td><td>--</td><td>--</td><td>--</td><td>--</td><td>--</td><td>-0.87025138</td><td>10.1882</td><td>321.9391</td><td>-0.8174</td></tr>\n",
       "</table>"
      ],
      "text/plain": [
       "<Table masked=True length=1>\n",
       "  targetname         datetime_str          datetime_jd    ...  PABLon   PABLat\n",
       "     ---                 ---                    d         ...   deg      deg  \n",
       "    str14               str24                float64      ... float64  float64\n",
       "-------------- ------------------------ ----------------- ... -------- -------\n",
       "Callisto (504) 2009-Jun-16 13:51:39.965 2454999.077545891 ... 321.9391 -0.8174"
      ]
     },
     "execution_count": 145,
     "metadata": {},
     "output_type": "execute_result"
    }
   ],
   "source": [
    "obj = Horizons(id = '504', location = 'f51', epochs = 2454999.077545891, id_type = 'majorbody')\n",
    "obj.ephemerides()"
   ]
  },
  {
   "cell_type": "markdown",
   "metadata": {},
   "source": [
    "For reference Callisto has about the same radecs in Horizons (within a few pixels)"
   ]
  }
 ],
 "metadata": {
  "kernelspec": {
   "display_name": "Python 3",
   "language": "python",
   "name": "python3"
  },
  "language_info": {
   "codemirror_mode": {
    "name": "ipython",
    "version": 3
   },
   "file_extension": ".py",
   "mimetype": "text/x-python",
   "name": "python",
   "nbconvert_exporter": "python",
   "pygments_lexer": "ipython3",
   "version": "3.6.7"
  }
 },
 "nbformat": 4,
 "nbformat_minor": 2
}

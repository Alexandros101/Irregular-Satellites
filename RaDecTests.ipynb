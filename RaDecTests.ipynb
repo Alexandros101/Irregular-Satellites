{
 "cells": [
  {
   "cell_type": "code",
   "execution_count": 1,
   "metadata": {},
   "outputs": [],
   "source": [
    "import numpy as np\n",
    "import pandas as pd\n",
    "import spiceypy as spice\n",
    "import numpy as np\n",
    "import matplotlib.pyplot as plt\n",
    "import astropy.units as u\n",
    "from astropy.constants import c\n",
    "from astropy.time import Time\n",
    "from astroquery.jplhorizons import Horizons\n",
    "import rebound"
   ]
  },
  {
   "cell_type": "code",
   "execution_count": 91,
   "metadata": {},
   "outputs": [],
   "source": [
    "def LT(t, obsxyz, func):\n",
    "    \"\"\"\n",
    "    Calculates the light time correction to the position vector of an object\n",
    "    \n",
    "    Arguments:\n",
    "    \n",
    "    t: days\n",
    "    \n",
    "    Julian date of observation\n",
    "    \n",
    "    obsxyz: np.array\n",
    "    \n",
    "    Position vector of observer with respect to the Solar System barycenter.\n",
    "    \n",
    "    func: function\n",
    "    \n",
    "    A get_target_xyz like function that returns the position and velocity vector of a body at a certain time\n",
    "    \n",
    "    Returns:\n",
    "    \n",
    "    txyz: np.array\n",
    "    \n",
    "    A corrected position vector of the observed object\n",
    "    \n",
    "    \"\"\"\n",
    "    \n",
    "    txyz = func(t)\n",
    "    dist = np.linalg.norm(txyz[0]-obsxyz)\n",
    "    ltime = float(((dist*u.AU).to(u.m)/c)/u.s)\n",
    "    d = 10\n",
    "    while(abs(d)>1e-16):\n",
    "        txyz = func(t-ltime)\n",
    "        dist = np.linalg.norm(txyz[0]-obsxyz)\n",
    "        ltime2 = float(((dist*u.AU).to(u.m)/c)/u.s)\n",
    "        d = (ltime2-ltime)/ltime\n",
    "        ltime = ltime2\n",
    "    return txyz"
   ]
  },
  {
   "cell_type": "code",
   "execution_count": 2,
   "metadata": {},
   "outputs": [],
   "source": [
    "def Furnisher(k):\n",
    "    '''\n",
    "    This function is used to load all kernels needed in an operation.\n",
    "    Comment out kernels not in use and add the ones in use.\n",
    "    \n",
    "    Arguments: NA\n",
    "    Returns: NA\n",
    "    \n",
    "    '''\n",
    "    spice.kclear()\n",
    "    spice.furnsh('/Users/user/Downloads/naif0008.tls.txt')\n",
    "    if k == '310+341+435':\n",
    "            spice.furnsh('/Users/user/Downloads/jup310.bsp')\n",
    "            spice.furnsh('/Users/user/Downloads/jup341.bsp')\n",
    "            spice.furnsh('/Users/user/Downloads/de435.bsp')\n",
    "    elif k == '310+341':\n",
    "            spice.furnsh('/Users/user/Downloads/jup310.bsp')\n",
    "            spice.furnsh('/Users/user/Downloads/jup341.bsp')\n",
    "    elif k == '310+435':\n",
    "            spice.furnsh('/Users/user/Downloads/de435.bsp')\n",
    "            spice.furnsh('/Users/user/Downloads/jup310.bsp')\n",
    "    elif k == '341+435':\n",
    "            spice.furnsh('/Users/user/Downloads/jup341.bsp')\n",
    "            spice.furnsh('/Users/user/Downloads/de435.bsp')\n",
    "    elif k == '310':\n",
    "            spice.furnsh('/Users/user/Downloads/jup310.bsp')\n",
    "    elif k == '341':\n",
    "            spice.furnsh('/Users/user/Downloads/jup341.bsp')\n",
    "    elif k == '435':\n",
    "            spice.furnsh('/Users/user/Downloads/de435.bsp')\n",
    "    pass"
   ]
  },
  {
   "cell_type": "code",
   "execution_count": 3,
   "metadata": {},
   "outputs": [],
   "source": [
    "def get_spice_function(name,cor,loc):\n",
    "    \"\"\"\n",
    "    This wrapper function automates the creation of objects through the JPL Horizons database. \n",
    "    \n",
    "    Arguments:\n",
    "    \n",
    "    name: str\n",
    "    \n",
    "    Stipulates the target object in Horizons. The major bodies in the Solar System have an id based on their position.\n",
    "    Hence '5' refers to Jupiter and '3' to Earth. A single number designator refers to a barycenter and a designator\n",
    "    such as '599' to the planetary center. For minor bodies in the Solar System, the id_type in the Horizons\n",
    "    must be changed to \"minorbody\"\n",
    "    \n",
    "    cor: str\n",
    "    \n",
    "    Refers to the type of correction that the object has. Available arguments are 'NONE', 'LT','LT+S'\n",
    "    \n",
    "    loc: str\n",
    "    \n",
    "    Designates the location of observation. Names that start with \"g@#\" refer to barycenters where the number designates the \n",
    "    body that the observer is based at. Hence \"g@0\" refers to the Solar System barycenter. Also takes Earth location designators.\n",
    "    Observatories are named after their code. Hence, Pan-Starrs observatory is referred as \"f51\"\n",
    "\n",
    "    Returns:\n",
    "    \n",
    "    get_target_xyz function\n",
    "    \"\"\"    \n",
    "    def get_target_xyz(t):\n",
    "        \"\"\"\n",
    "        Returns the vectors of the Horizons body at a certain time t.\n",
    "        \n",
    "        Arguments:\n",
    "        \n",
    "        t: days\n",
    "        \n",
    "        Julian date of observation\n",
    "        \n",
    "        Returns:\n",
    "    \n",
    "        xyz: numpy array\n",
    "        \n",
    "        A position vector of the observed object\n",
    "    \n",
    "        uvw: numpy array\n",
    "        \n",
    "        An instantaneous velocity vector of the observed object\n",
    "        \n",
    "        radec: numpy array\n",
    "        \n",
    "        The right ascension and declination of the observed object\n",
    "        \"\"\"\n",
    "        \n",
    "        state,lighttime = spice.spkezr(name,t,'J2000',cor,loc)\n",
    "        pos,lighttime = spice.spkpos(name,t,'J2000',cor,loc)\n",
    "        range,ra,dec = spice.recrad(pos) \n",
    "        xyz = np.array([state[0],state[1],state[2]])/149597870.7#6.68459e-9\n",
    "        uvw = np.array([state[3],state[4],state[5]])/149597870.7*24.*3600.#*6.68459e-9\n",
    "        radec = np.array([ra,dec])\n",
    "        return xyz,uvw,radec*180/np.pi\n",
    "    return get_target_xyz"
   ]
  },
  {
   "cell_type": "code",
   "execution_count": 4,
   "metadata": {},
   "outputs": [],
   "source": [
    "Furnisher(\"310+341+435\")"
   ]
  },
  {
   "cell_type": "code",
   "execution_count": 5,
   "metadata": {},
   "outputs": [],
   "source": [
    "def get_astroquery_function(name,cor,loc):\n",
    "    \"\"\"\n",
    "    This wrapper function automates the creation of objects through the JPL Horizons database. \n",
    "    \n",
    "    Arguments:\n",
    "    \n",
    "    name: str\n",
    "    \n",
    "    Stipulates the target object in Horizons. The major bodies in the Solar System have an id based on their position.\n",
    "    Hence '5' refers to Jupiter and '3' to Earth. A single number designator refers to a barycenter and a designator\n",
    "    such as '599' to the planetary center. For minor bodies in the Solar System, the id_type in the Horizons\n",
    "    must be changed to \"minorbody\"\n",
    "    \n",
    "    cor: str\n",
    "    \n",
    "    Refers to the type of correction that the object has. Available arguments are \"geometric\",\"astrometric\" and \n",
    "    \"apparent\"\n",
    "    \n",
    "    loc: str\n",
    "    \n",
    "    Designates the location of observation. Names that start with \"g@#\" refer to barycenters where the number designates the \n",
    "    body that the observer is based at. Hence \"g@0\" refers to the Solar System barycenter. Also takes Earth location designators.\n",
    "    Observatories are named after their code. Hence, Pan-Starrs observatory is referred as \"f51\"\n",
    "\n",
    "    Returns:\n",
    "    \n",
    "    get_target_xyz function\n",
    "    \"\"\"    \n",
    "    def get_target_xyz(t):\n",
    "        \"\"\"\n",
    "        Returns the vectors of the Horizons body at a certain time t.\n",
    "        \n",
    "        Arguments:\n",
    "        \n",
    "        t: days\n",
    "        \n",
    "        Julian date of observation\n",
    "        \n",
    "        Returns:\n",
    "    \n",
    "        xyz: numpy array\n",
    "        \n",
    "        A position vector of the observed object\n",
    "    \n",
    "        uvw: numpy array\n",
    "        \n",
    "        An instantaneous velocity vector of the observed object\n",
    "        \"\"\"\n",
    "        \n",
    "        obj = Horizons(id = name, location = loc, epochs = t, id_type = 'majorbody')\n",
    "        obj1 = obj.vectors(aberrations = cor, refplane = 'earth')\n",
    "        xyz = np.array([float(obj1['x']),float(obj1['y']),float(obj1['z'])])\n",
    "        uvw = np.array([float(obj1['vx']),float(obj1['vy']),float(obj1['vz'])])\n",
    "        obj2 = obj.ephemerides(refsystem = 'J2000', extra_precision = True)\n",
    "        radec = np.array([float(obj2['RA']),float(obj2['DEC']),float(obj1['range'])])\n",
    "        return xyz,uvw,radec\n",
    "    return get_target_xyz "
   ]
  },
  {
   "cell_type": "code",
   "execution_count": 6,
   "metadata": {},
   "outputs": [],
   "source": [
    "def monthToNum(shortMonth):\n",
    "    \n",
    "    '''\n",
    "    \n",
    "    Returns the name of a month that a number corresponds to and vice versa\n",
    "    \n",
    "    Arguments:\n",
    "    \n",
    "    shortMonth: str\n",
    "    \n",
    "    Either the first three letters of a month or its number (e.g. 01 for January, 10 for October)\n",
    "    \n",
    "    Returns:\n",
    "    \n",
    "    shortMonth: str\n",
    "    \n",
    "    Either the first three letters of a month or its number (e.g. 01 for January, 10 for October),\n",
    "    the other one to the one that was given as an argument\n",
    "    \n",
    "    '''\n",
    "    \n",
    "    return{\n",
    "        'Jan' : '01', 'Feb' : '02','Mar' : '03','Apr' : '04','May' : '05','Jun' : '06','Jul' : '07','Aug' : '08',\n",
    "        'Sep' : '09', 'Oct' : '10','Nov' : '11','Dec' : '12','01' : 'Jan','02' : 'Feb','03' : 'Mar','04' : 'Apr',\n",
    "        '05' : 'May','06' : 'Jun','07' : 'Jul','08' : 'Aug','09' : 'Sep', '10' : 'Oct','11' : 'Nov','12' : 'Dec'}[shortMonth]"
   ]
  },
  {
   "cell_type": "code",
   "execution_count": 7,
   "metadata": {},
   "outputs": [],
   "source": [
    "def JD_to_SpiceJD(jd):\n",
    "    '''\n",
    "    \n",
    "    Converts jd date to spice units of time.\n",
    "    \n",
    "    Arguments:\n",
    "    \n",
    "    jd: float\n",
    "    \n",
    "    A jd time in days\n",
    "    \n",
    "    Returns:\n",
    "    \n",
    "    newjd: float\n",
    "    \n",
    "    A spice usable time in seconds\n",
    "    \n",
    "    \n",
    "    '''\n",
    "    t = Time(jd, format='jd', scale='utc')\n",
    "    k = t.fits\n",
    "    print(k)\n",
    "    year = k[0:4]\n",
    "    month = k[5:7]\n",
    "    day = k[8:10]\n",
    "    hours = k[11:13]\n",
    "    minutes = k[14:16]\n",
    "    seconds = k[17:23]\n",
    "    newmnth = monthToNum(month)\n",
    "    utc = newmnth + ' ' + day + \", \" + year\n",
    "    newjd = spice.str2et(utc) + int(hours)*3600 + int(minutes)*60 + float(seconds)\n",
    "    return newjd"
   ]
  },
  {
   "cell_type": "code",
   "execution_count": 127,
   "metadata": {},
   "outputs": [],
   "source": [
    "def FinderSpicef51(name,t):\n",
    "    '''\n",
    "    \n",
    "    Finds the radec of objects in the jovian system from the pansstars observatory\n",
    "    \n",
    "    Arguments:\n",
    "    \n",
    "    name: str\n",
    "    \n",
    "    The name of the object in spice documentation. See Summary_Names.txt\n",
    "    \n",
    "    t: float\n",
    "    \n",
    "    A julian date\n",
    "    \n",
    "    '''\n",
    "    ts = JD_to_SpiceJD(t+1.6925e-05)\n",
    "    get_earth = get_spice_function('Moon',\"NONE\",\"SOLAR SYSTEM BARYCENTER\")\n",
    "    get_jup = get_spice_function('Ananke',\"NONE\",\"SOLAR SYSTEM BARYCENTER\")\n",
    "    exyz = get_earth(ts)\n",
    "    jxyz = get_jup(ts)\n",
    "    fxyz = LT(ts, exyz[0], get_jup)\n",
    "    vectors = fxyz[0] - exyz[0]\n",
    "    get_pans = get_astroquery_function('301','geometric','f51')\n",
    "    vecs2 = get_pans(t)\n",
    "    xyz = (vectors+vecs2[0])/6.68459e-9\n",
    "    dist, ra, dec = spice.recrad(xyz)\n",
    "    return np.array([ra,dec])*180/np.pi"
   ]
  },
  {
   "cell_type": "code",
   "execution_count": 128,
   "metadata": {},
   "outputs": [],
   "source": [
    "def FinderHorizonsf51(name,t):\n",
    "    '''\n",
    "    \n",
    "    Finds the radec of objects in the jovian system from the pansstars observatory\n",
    "    \n",
    "    Arguments:\n",
    "    \n",
    "    name: str\n",
    "    \n",
    "    The name of the object in spice documentation. See Summary_Names.txt\n",
    "    \n",
    "    t: float\n",
    "    \n",
    "    A julian date\n",
    "    \n",
    "    '''\n",
    "    get_pans = get_astroquery_function(name,'geometric','f51')\n",
    "    vecs2 = get_pans(t)\n",
    "    print(vecs2[0])\n",
    "    return vecs2[2][:2]"
   ]
  },
  {
   "cell_type": "code",
   "execution_count": 129,
   "metadata": {},
   "outputs": [
    {
     "name": "stdout",
     "output_type": "stream",
     "text": [
      "2003-12-19T14:44:13.819(UTC)\n",
      "[-5.0575778   0.80900787  0.50965657]\n"
     ]
    },
    {
     "data": {
      "text/plain": [
       "array([0.02093063, 0.03620127])"
      ]
     },
     "execution_count": 129,
     "metadata": {},
     "output_type": "execute_result"
    }
   ],
   "source": [
    "1e6 * np.pi/180 * (FinderSpicef51('Ananke',2452993.114031909)-FinderHorizonsf51('Ananke',2452993.114031909))\n",
    "\n"
   ]
  },
  {
   "cell_type": "markdown",
   "metadata": {},
   "source": [
    "First file: 1302"
   ]
  },
  {
   "cell_type": "code",
   "execution_count": 133,
   "metadata": {},
   "outputs": [
    {
     "name": "stdout",
     "output_type": "stream",
     "text": [
      "2009-06-10T14:44:13.819(UTC)\n"
     ]
    },
    {
     "data": {
      "text/plain": [
       "array([328.39467958, -14.38731372])"
      ]
     },
     "execution_count": 133,
     "metadata": {},
     "output_type": "execute_result"
    }
   ],
   "source": [
    "FinderSpicef51(\"Ananke\",2454993.114031911)"
   ]
  },
  {
   "cell_type": "markdown",
   "metadata": {},
   "source": [
    "Second file: 1319"
   ]
  },
  {
   "cell_type": "code",
   "execution_count": 134,
   "metadata": {},
   "outputs": [
    {
     "name": "stdout",
     "output_type": "stream",
     "text": [
      "2009-06-10T15:01:32.206(UTC)\n"
     ]
    },
    {
     "data": {
      "text/plain": [
       "array([328.39494876, -14.38740055])"
      ]
     },
     "execution_count": 134,
     "metadata": {},
     "output_type": "execute_result"
    }
   ],
   "source": [
    "FinderSpicef51(\"Ananke\",2454993.1260502716)"
   ]
  },
  {
   "cell_type": "markdown",
   "metadata": {},
   "source": [
    "Third file: 2213"
   ]
  },
  {
   "cell_type": "code",
   "execution_count": 135,
   "metadata": {},
   "outputs": [
    {
     "name": "stdout",
     "output_type": "stream",
     "text": [
      "2009-06-16T13:51:41.427(UTC)\n"
     ]
    },
    {
     "data": {
      "text/plain": [
       "array([328.49526355, -14.44852778])"
      ]
     },
     "execution_count": 135,
     "metadata": {},
     "output_type": "execute_result"
    }
   ],
   "source": [
    "FinderSpicef51(\"Ananke\",2454999.077545891)"
   ]
  },
  {
   "cell_type": "markdown",
   "metadata": {},
   "source": [
    "Fourth file: 2232"
   ]
  },
  {
   "cell_type": "code",
   "execution_count": 136,
   "metadata": {},
   "outputs": [
    {
     "name": "stdout",
     "output_type": "stream",
     "text": [
      "2009-06-16T14:10:28.454(UTC)\n"
     ]
    },
    {
     "data": {
      "text/plain": [
       "array([328.49532316, -14.44870389])"
      ]
     },
     "execution_count": 136,
     "metadata": {},
     "output_type": "execute_result"
    }
   ],
   "source": [
    "FinderSpicef51(\"Ananke\",2454999.090590185)"
   ]
  }
 ],
 "metadata": {
  "kernelspec": {
   "display_name": "Python 3",
   "language": "python",
   "name": "python3"
  },
  "language_info": {
   "codemirror_mode": {
    "name": "ipython",
    "version": 3
   },
   "file_extension": ".py",
   "mimetype": "text/x-python",
   "name": "python",
   "nbconvert_exporter": "python",
   "pygments_lexer": "ipython3",
   "version": "3.6.7"
  }
 },
 "nbformat": 4,
 "nbformat_minor": 2
}

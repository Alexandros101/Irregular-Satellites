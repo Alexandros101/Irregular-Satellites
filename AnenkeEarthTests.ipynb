{
 "cells": [
  {
   "cell_type": "markdown",
   "metadata": {},
   "source": [
    "# Simulating Anenke"
   ]
  },
  {
   "cell_type": "code",
   "execution_count": 1,
   "metadata": {},
   "outputs": [],
   "source": [
    "import numpy as np\n",
    "import pandas as pd\n",
    "import spiceypy as spice\n",
    "import numpy as np\n",
    "import matplotlib.pyplot as plt\n",
    "import astropy.units as u\n",
    "from astropy.constants import c\n",
    "from astropy.time import Time\n",
    "from astroquery.jplhorizons import Horizons\n",
    "import rebound"
   ]
  },
  {
   "cell_type": "code",
   "execution_count": 2,
   "metadata": {},
   "outputs": [],
   "source": [
    "def Furnisher(k):\n",
    "    '''\n",
    "    This function is used to load all kernels needed in an operation.\n",
    "    Comment out kernels not in use and add the ones in use.\n",
    "    \n",
    "    Arguments: NA\n",
    "    Returns: NA\n",
    "    \n",
    "    '''\n",
    "    spice.kclear()\n",
    "    spice.furnsh('/Users/user/Downloads/naif0009.tls.txt')\n",
    "    if k == '310+341+435':\n",
    "            spice.furnsh('/Users/user/Downloads/jup310.bsp')\n",
    "            spice.furnsh('/Users/user/Downloads/jup341.bsp')\n",
    "            spice.furnsh('/Users/user/Downloads/de435.bsp')\n",
    "    elif k == '310+341':\n",
    "            spice.furnsh('/Users/user/Downloads/jup310.bsp')\n",
    "            spice.furnsh('/Users/user/Downloads/jup341.bsp')\n",
    "    elif k == '310+435':\n",
    "            spice.furnsh('/Users/user/Downloads/de435.bsp')\n",
    "            spice.furnsh('/Users/user/Downloads/jup310.bsp')\n",
    "    elif k == '341+435':\n",
    "            spice.furnsh('/Users/user/Downloads/jup341.bsp')\n",
    "            spice.furnsh('/Users/user/Downloads/de435.bsp')\n",
    "    elif k == '310':\n",
    "            spice.furnsh('/Users/user/Downloads/jup310.bsp')\n",
    "    elif k == '341':\n",
    "            spice.furnsh('/Users/user/Downloads/jup341.bsp')\n",
    "    elif k == '435':\n",
    "            spice.furnsh('/Users/user/Downloads/de435.bsp')\n",
    "    pass"
   ]
  },
  {
   "cell_type": "code",
   "execution_count": 3,
   "metadata": {},
   "outputs": [],
   "source": [
    "def get_spice_function(name,cor,loc):\n",
    "    \"\"\"\n",
    "    This wrapper function automates the creation of objects through the JPL Horizons database. \n",
    "    \n",
    "    Arguments:\n",
    "    \n",
    "    name: str\n",
    "    \n",
    "    Stipulates the target object in Horizons. The major bodies in the Solar System have an id based on their position.\n",
    "    Hence '5' refers to Jupiter and '3' to Earth. A single number designator refers to a barycenter and a designator\n",
    "    such as '599' to the planetary center. For minor bodies in the Solar System, the id_type in the Horizons\n",
    "    must be changed to \"minorbody\"\n",
    "    \n",
    "    cor: str\n",
    "    \n",
    "    Refers to the type of correction that the object has. Available arguments are 'NONE', 'LT','LT+S'\n",
    "    \n",
    "    loc: str\n",
    "    \n",
    "    Designates the location of observation. Names that start with \"g@#\" refer to barycenters where the number designates the \n",
    "    body that the observer is based at. Hence \"g@0\" refers to the Solar System barycenter. Also takes Earth location designators.\n",
    "    Observatories are named after their code. Hence, Pan-Starrs observatory is referred as \"f51\"\n",
    "\n",
    "    Returns:\n",
    "    \n",
    "    get_target_xyz function\n",
    "    \"\"\"    \n",
    "    def get_target_xyz(t):\n",
    "        \"\"\"\n",
    "        Returns the vectors of the Horizons body at a certain time t.\n",
    "        \n",
    "        Arguments:\n",
    "        \n",
    "        t: days\n",
    "        \n",
    "        Julian date of observation\n",
    "        \n",
    "        Returns:\n",
    "    \n",
    "        xyz: numpy array\n",
    "        \n",
    "        A position vector of the observed object\n",
    "    \n",
    "        uvw: numpy array\n",
    "        \n",
    "        An instantaneous velocity vector of the observed object\n",
    "        \n",
    "        radec: numpy array\n",
    "        \n",
    "        The right ascension and declination of the observed object\n",
    "        \"\"\"\n",
    "        \n",
    "        state,lighttime = spice.spkezr(name,t,'J2000',cor,loc)\n",
    "        pos,lighttime = spice.spkpos(name,t,'J2000',cor,loc)\n",
    "        range,ra,dec = spice.recrad(pos) \n",
    "        xyz = np.array([state[0],state[1],state[2]])/149597870.7#6.68459e-9\n",
    "        uvw = np.array([state[3],state[4],state[5]])/149597870.7*24.*3600.#*6.68459e-9\n",
    "        radec = np.array([ra,dec])\n",
    "        return xyz,uvw,radec*180/np.pi\n",
    "    return get_target_xyz"
   ]
  },
  {
   "cell_type": "code",
   "execution_count": 4,
   "metadata": {},
   "outputs": [],
   "source": [
    "def SimStart2(bsolar,msolar,iJovian,Ms):\n",
    "    '''\n",
    "    Starts the simulation. Adds all particles\n",
    "    \n",
    "    Arguments:\n",
    "    \n",
    "    bsolar: list of strs\n",
    "    \n",
    "    The names of the bodies added. Typically: '1','2','3','4', 'Jupiter','Io','Ananke'. 'Jupiter' must be added\n",
    "    last followed by the satellites in the system\n",
    "    \n",
    "    msolar: list of floats\n",
    "    \n",
    "    The masses of the bodies in bsolar. Must be at the order of bsolar\n",
    "    \n",
    "    iJovian: list, int\n",
    "    \n",
    "    The indexes (+1) that the satellites in the solar system have in bsolar\n",
    "    \n",
    "    '''\n",
    "    t = 140961664.18440723\n",
    "    sim = rebound.Simulation()\n",
    "    k = np.sqrt(Ms*10**9)*(1.49597870700*10**11)**(-1.5) *86400.00000\n",
    "    sim.G = k**2\n",
    "    sim.add(m=1.)\n",
    "    for i in range(0,len(bsolar)):\n",
    "        get_planet = get_spice_function(bsolar[i],'NONE','SUN')\n",
    "        xyz,uvw,radec = get_planet(t)\n",
    "        xyz = xyz\n",
    "        #uvw = (uvw*24*3600)\n",
    "        sim.add(m=msolar[i],x=xyz[0],y=xyz[1],z=xyz[2],vx=uvw[0],vy=uvw[1],vz=uvw[2])\n",
    "    ps = sim.particles\n",
    "    for j in range(1,len(ps)):\n",
    "        if j not in iJovian:\n",
    "            ps[j].calculate_orbit(primary=ps[0])\n",
    "        elif bsolar[j-1] == 'Moon':\n",
    "            ps[j].calculate_orbit(primary=ps[bsolar.index('Earth')+1])\n",
    "        else:\n",
    "            if 'Jupiter' in bsolar:\n",
    "                ps[j].calculate_orbit(primary=ps[bsolar.index('Jupiter')+1])\n",
    "            else:\n",
    "                ps[j].calculate_orbit(primary=ps[bsolar.index('5')+1])\n",
    "    sim.move_to_com()\n",
    "    jupcom = sim.calculate_com(first=8)\n",
    "    print(jupcom-sim.particles[3])\n",
    "    return ps,sim"
   ]
  },
  {
   "cell_type": "code",
   "execution_count": 5,
   "metadata": {},
   "outputs": [],
   "source": [
    "def Integrator(bsolar,msolar,iJovian,body1,body2,Ms):\n",
    "    '''\n",
    "    Integrates the system. If body1 or body2 refer to the Jupiter Barycenter, while there are bodies in the Jovian system\n",
    "    teh function will compute the barycenter in the simulation\n",
    "    \n",
    "    Arguments:\n",
    "    \n",
    "    bsolar\n",
    "    msolar\n",
    "    iJovian\n",
    "    \n",
    "    body1 and body2: name in str\n",
    "    \n",
    "    The spice names of the bodies that we want to look into to check the error of our integrator\n",
    "    \n",
    "     '''\n",
    "    ps,sim = SimStart2(bsolar,msolar,iJovian,Ms)\n",
    "    xm = []\n",
    "    ym = []\n",
    "    zm = []\n",
    "    xan = []\n",
    "    yan = []\n",
    "    distance = []\n",
    "    Nout = 1000\n",
    "    year = 365.25 # days\n",
    "    day = 86400 # s\n",
    "    tmax = 40*year\n",
    "    t0 = 140961664.18440723\n",
    "    times = np.linspace(0, tmax, Nout) # days\n",
    "    x = np.zeros((len(bsolar)+1,Nout))\n",
    "    y = np.zeros((len(bsolar)+1,Nout))\n",
    "    get_ear_an = get_spice_function(body1,'NONE',body2)\n",
    "    for i, time in enumerate(times):\n",
    "        tspice = t0 + time*day\n",
    "        sim.integrate(time)\n",
    "        if body2 == '5' and len(iJovian)>1 :\n",
    "                jupcom = sim.calculate_com(first=bsolar.index('Jupiter')+1)\n",
    "                xan.append(ps[bsolar.index(body1)+1].x - jupcom.x)\n",
    "                yan.append(ps[bsolar.index(body1)+1].y - jupcom.y)\n",
    "        elif body1 == '5' and len(iJovian)>1:\n",
    "                jupcom = sim.calculate_com(first=bsolar.index('Jupiter')+1)\n",
    "                xan.append(jupcom.x - ps[0].x)\n",
    "                yan.append(jupcom.y - ps[0].y)\n",
    "        else:    \n",
    "                xan.append(0)\n",
    "                yan.append(0)\n",
    "        for j in range(0,len(bsolar)+1):\n",
    "            x[j][i] = ps[j].x   # This stores the data which allows us to plot it later\n",
    "            y[j][i] = ps[j].y\n",
    "        xyz,uvw,radec = get_ear_an(tspice)\n",
    "        xm.append(xyz[0])\n",
    "        ym.append(xyz[1])\n",
    "        zm.append(xyz[2])\n",
    "        distance.append(np.sqrt(xm[i]**2 + ym[i]**2 + zm[i]**2))\n",
    "    return x,y,xm,ym,times,distance,xan,yan"
   ]
  },
  {
   "cell_type": "code",
   "execution_count": 6,
   "metadata": {},
   "outputs": [],
   "source": [
    "def ErrorSource(bsolar,mass,iJovian,body1,body2,Ms):\n",
    "    '''\n",
    "    Returns the error of the chosen bodies as well as the entire system\n",
    "    \n",
    "    '''\n",
    "    x,y,xm,ym,times,distance,xan,yan = Integrator(bsolar,mass,iJovian,body1,body2,Ms)\n",
    "    if (body2 == '5' or body1 == '5') and len(iJovian)>1:\n",
    "        dist1 = np.array(xan)\n",
    "        dist2 = np.array(yan)\n",
    "    elif body2 == 'Sun':\n",
    "        temp = 0\n",
    "        dist1 = x[bsolar.index(body1)+1] - x[temp]\n",
    "        dist2 = y[bsolar.index(body1)+1] - y[temp]\n",
    "    else:\n",
    "        temp = bsolar.index(body2)+1\n",
    "        dist1 = x[bsolar.index(body1)+1] - x[temp]\n",
    "        dist2 = y[bsolar.index(body1)+1] - y[temp]\n",
    "    print(len(dist1),len(xm),len(x[0]))\n",
    "    return np.array(dist1-xm),np.array(dist2-ym),times,distance,x,y"
   ]
  },
  {
   "cell_type": "markdown",
   "metadata": {},
   "source": [
    "Gravitational parameters of all bodies that may be needed. The 432 spice kernel file (same with 435 just has documentation) has the masses of the barycenters of the solar system, as well as the Earth and Moon separately. The 310 file has all the barycenters in the solar system as if the terrestrial planets were one with the Sun as well as the Jovian satellites.\n",
    "We also use the 341 file for Ananke (and other irregulars in the Jovian system)"
   ]
  },
  {
   "cell_type": "code",
   "execution_count": 7,
   "metadata": {},
   "outputs": [],
   "source": [
    "# From 432 (km^3/s^2)\n",
    "GMEarth = 398600.435420\n",
    "GMMoon = 27068703.151194\n",
    "\n",
    "GMMercuryB = 22031.780000\n",
    "GMVenusB = 324858.592000\n",
    "GMEarthB = 403503.235502\n",
    "GMMarsB = 42828.375214\n",
    "GMJupiterB = 126712764.133446\n",
    "GMSaturnB = 37940585.200000\n",
    "GMUranusB = 5794556.465752\n",
    "GMNeptuneB = 6836527.100580\n",
    "GMSun = 132712440041.939400 # Just Sun\n",
    "GMSunterr = GMSun + GMMercuryB + GMVenusB + GMEarthB + GMMarsB\n",
    "\n",
    "# From 310\n",
    "\n",
    "GMJupiter = 1.266865341960128E+08\n",
    "GMIo = 5.959924010272514E+03\n",
    "GMEuropa = 3.202739815114734E+03\n",
    "GMGanymede = 9.887819980080976E+03\n",
    "GMCallisto = 7.179304867611079E+03\n",
    "GMAmalthea = 1.487604677404272E-01\n",
    "GM10310 = 1.327132332639000E+11\n",
    "\n",
    "GMSaturnB310 = 3.794058500000000E+07\n",
    "GMUranusB310 = 5.794548600000000E+06\n",
    "GMNeptuneB310 = 6.836527100580000E+06\n",
    "GMJupiterB310 = 1.267127641334463E+08"
   ]
  },
  {
   "cell_type": "markdown",
   "metadata": {},
   "source": [
    "The masses of all the bodies used at some point in the integration"
   ]
  },
  {
   "cell_type": "code",
   "execution_count": 8,
   "metadata": {},
   "outputs": [],
   "source": [
    "MMercuryB = GMMercuryB/GMSun\n",
    "MVenusB = GMVenusB/GMSun\n",
    "MEarthB = GMEarthB/GMSun\n",
    "MEarth = GMEarth/GMSun\n",
    "MMoon = GMMoon/GMSun\n",
    "MMarsB = GMMarsB/GMSun\n",
    "MJupiter = (GMJupiterB-GMIo-GMEuropa-GMGanymede-GMCallisto)/GMSun\n",
    "MSaturnB = GMSaturnB/GMSun\n",
    "MUranusB = GMUranusB/GMSun\n",
    "MNeptuneB = GMNeptuneB/GMSun\n",
    "MIo = GMIo/GMSun\n",
    "MEuropa = GMEuropa/GMSun\n",
    "MGanymede = GMGanymede/GMSun\n",
    "MCallisto = GMCallisto/GMSun\n",
    "MAmalthea = GMAmalthea/GMSun"
   ]
  },
  {
   "cell_type": "markdown",
   "metadata": {},
   "source": [
    "The masses of all planets but the terrestrials are in the Sun (except the Earth)"
   ]
  },
  {
   "cell_type": "code",
   "execution_count": 9,
   "metadata": {},
   "outputs": [],
   "source": [
    "MJupiterB310 = GMJupiterB310/(GM10310-GMEarthB)\n",
    "MSaturnB310 = GMSaturnB310/(GM10310-GMEarthB)\n",
    "MUranusB310 = GMUranusB310/(GM10310-GMEarthB)\n",
    "MNeptuneB310 = GMNeptuneB310/(GM10310-GMEarthB)\n",
    "MEarthB310 = GMEarthB/(GM10310-GMEarthB)"
   ]
  },
  {
   "cell_type": "markdown",
   "metadata": {},
   "source": [
    "# Tests to determine how many bodies to use in integration"
   ]
  },
  {
   "cell_type": "markdown",
   "metadata": {},
   "source": [
    "We first simulate Ananke Having all the satellites in the system. The error is within one pixel"
   ]
  },
  {
   "cell_type": "code",
   "execution_count": 11,
   "metadata": {},
   "outputs": [
    {
     "name": "stdout",
     "output_type": "stream",
     "text": [
      "<rebound.Particle object, m=0.0009517514775406745 x=-5.363981605793089 y=1.5680852518427257 z=0.8077495116114108 vx=-0.01804861030728304 vy=-0.0062127043645981 vz=-0.0026338012756317655>\n",
      "1000 1000 1000\n",
      "<rebound.Particle object, m=0.0009517065689849401 x=-5.363981604217797 y=1.568085131651465 z=0.8077494542769814 vx=-0.018048141330809682 vy=-0.006212702562291252 vz=-0.0026337931399284067>\n",
      "1000 1000 1000\n",
      "<rebound.Particle object, m=0.0009515538337578852 x=-5.3639820834710035 y=1.5680856128342164 z=0.8077496772541921 vx=-0.018048551644164954 vy=-0.006212857757203946 vz=-0.002633870038145698>\n",
      "1000 1000 1000\n",
      "CPU times: user 37.8 s, sys: 109 ms, total: 37.9 s\n",
      "Wall time: 38.2 s\n"
     ]
    },
    {
     "data": {
      "image/png": "[encoded data removed]",
      "text/plain": [
       "<Figure size 432x288 with 1 Axes>"
      ]
     },
     "metadata": {},
     "output_type": "display_data"
    }
   ],
   "source": [
    "%%time\n",
    "Furnisher('310+341+435')\n",
    "MJupiter = (GMJupiterB-GMIo-GMEuropa-GMGanymede-GMCallisto)/GMSun\n",
    "xerr1,yerr,times,distance,x,y = ErrorSource(['1','2','3','4','6','7','8','Jupiter','Io','Europa','Ganymede','Callisto','Ananke'],[MMercuryB,MVenusB,MEarthB,MMarsB,MSaturnB,MUranusB,MNeptuneB,MJupiter,MIo,MEuropa,MGanymede,MCallisto,0],[9,10,11,12,13,14,15],'Ananke','5',GMSun)\n",
    "xerr2,yerr,times,distance,x,y = ErrorSource(['1','2','3','4','6','7','8','Jupiter','Europa','Ganymede','Callisto','Ananke'],[MMercuryB,MVenusB,MEarthB,MMarsB,MSaturnB,MUranusB,MNeptuneB,MJupiter,MEuropa,MGanymede,MCallisto,0],[9,10,11,12,13,14,15],'Ananke','5',GMSun)\n",
    "xerr3,yerr,times,distance,x,y = ErrorSource(['1','2','3','4','6','7','8','Jupiter','Ananke'],[MMercuryB,MVenusB,MEarthB,MMarsB,MSaturnB,MUranusB,MNeptuneB,MJupiter,0],[9,10,11,12,13,14,15],'Ananke','5',GMSun)\n",
    "plt.plot(times/365.24,(xerr)*1e6/4.5,\"d\")\n",
    "plt.ylabel(\"Number of pixels\")\n",
    "plt.xlabel(\"t in Years\")\n",
    "plt.ylim(-2000,2000)"
   ]
  },
  {
   "cell_type": "code",
   "execution_count": 16,
   "metadata": {},
   "outputs": [
    {
     "data": {
      "text/plain": [
       "Text(0.5,0,'t in Years')"
      ]
     },
     "execution_count": 16,
     "metadata": {},
     "output_type": "execute_result"
    },
    {
     "data": {
      "image/png": "[encoded data removed]",
      "text/plain": [
       "<Figure size 432x288 with 1 Axes>"
      ]
     },
     "metadata": {},
     "output_type": "display_data"
    }
   ],
   "source": [
    "plt.plot(times/365.24,(xerr3)*1e6/4.5,\"d\")\n",
    "plt.plot(times/365.24,(xerr2)*1e6/4.5,\"d\")\n",
    "plt.plot(times/365.24,(xerr1)*1e6/4.5,\"d\")\n",
    "plt.ylabel(\"Number of pixels\")\n",
    "plt.xlabel(\"t in Years\")\n",
    "#plt.ylim(-3000,3000)"
   ]
  },
  {
   "cell_type": "markdown",
   "metadata": {},
   "source": [
    "We then try to determine whether the error is coming from the position of the barycenter or from other factors. We look into the error of the Jupiter-Barycenter to Sun vector. The barycenter has been computed by including the satellites in the integration."
   ]
  },
  {
   "cell_type": "code",
   "execution_count": null,
   "metadata": {},
   "outputs": [],
   "source": [
    "%%time\n",
    "Furnisher('310+341+435')\n",
    "MJupiter = (GMJupiterB-GMIo-GMEuropa-GMGanymede-GMCallisto)/GMSun\n",
    "xerr,yerr,times,distance,x,y = ErrorSource(['1','2','3','4','6','7','8','Jupiter','Io','Europa','Ganymede','Callisto','Ananke'],[MMercuryB,MVenusB,MEarthB,MMarsB,MSaturnB,MUranusB,MNeptuneB,MJupiter,MIo,MEuropa,MGanymede,MCallisto,0],[9,10,11,12,13,14,15],'5','Sun',GMSun)\n",
    "plt.plot(times/365.24,(xerr)*1e6/4.5,\"d\")\n",
    "plt.ylabel(\"Number of pixels\")\n",
    "plt.xlabel(\"t in Years\")"
   ]
  },
  {
   "cell_type": "markdown",
   "metadata": {},
   "source": [
    "The Jupiter-Barycenter is not a problem as its error is at 0.1 of a pixel and does not have the periodicity of Ananke's error. We now look whether we can reduce error by removing one of the satellites from the system and adding it in Jupiter. If we can do that then our integration time will be faster. We remove Europa, which presumably pertrubes Ananke and Jupiter the least."
   ]
  },
  {
   "cell_type": "code",
   "execution_count": null,
   "metadata": {},
   "outputs": [],
   "source": [
    "%%time\n",
    "Furnisher('310+341+435')\n",
    "MJupiter = (GMJupiterB-GMIo-GMGanymede-GMCallisto)/GMSun\n",
    "xerr,yerr,times,distance,x,y = ErrorSource(['1','2','3','4','6','7','8','Jupiter','Io','Ganymede','Callisto','Ananke'],[MMercuryB,MVenusB,MEarthB,MMarsB,MSaturnB,MUranusB,MNeptuneB,MJupiter,MIo,MGanymede,MCallisto,0],[9,10,11,12,13,14,15],'5','Sun',GMSun)\n",
    "plt.plot(times/365.24,(xerr)*1e6/4.5,\"d\")\n",
    "plt.ylabel(\"Number of pixels\")\n",
    "plt.xlabel(\"t in Years\")"
   ]
  },
  {
   "cell_type": "code",
   "execution_count": null,
   "metadata": {},
   "outputs": [],
   "source": [
    "%%time\n",
    "Furnisher('310+341+435')\n",
    "MJupiter = (GMJupiterB-GMIo-GMGanymede-GMCallisto)/GMSun\n",
    "xerr,yerr,times,distance,x,y = ErrorSource(['1','2','3','4','6','7','8','Jupiter','Europa','Ganymede','Callisto','Ananke'],[MMercuryB,MVenusB,MEarthB,MMarsB,MSaturnB,MUranusB,MNeptuneB,MJupiter,MEuropa,MGanymede,MCallisto,0],[9,10,11,12,13,14,15],'Ananke','Jupiter',GMSun)\n",
    "plt.plot(times/365.24,(xerr)*1e6/4.5,\"d\")\n",
    "plt.ylabel(\"Number of pixels\")\n",
    "plt.xlabel(\"t in Years\")"
   ]
  },
  {
   "cell_type": "markdown",
   "metadata": {},
   "source": [
    "The error is large in both Ananke and the Barycenter. The effect is that the satellites perturb each other and consequently the barycenter of the system is severely affected when one of the satellites (even the smallest terrestrial one) is added to Jupiter. The wrongness in the barycenter affects Ananke. Now we try to look how the satellites perturb each other. First we look into Callisto's orbit with Io in the system"
   ]
  },
  {
   "cell_type": "code",
   "execution_count": null,
   "metadata": {},
   "outputs": [],
   "source": [
    "%%time\n",
    "Furnisher('310+341+435')\n",
    "MJupiter = (GMJupiterB-GMIo-GMEuropa-GMGanymede-GMCallisto)/GMSun\n",
    "xerr,yerr,times,distance,x,y = ErrorSource(['1','2','3','4','6','7','8','Jupiter','Io','Europa','Ganymede','Callisto','Ananke'],[MMercuryB,MVenusB,MEarthB,MMarsB,MSaturnB,MUranusB,MNeptuneB,MJupiter,MIo,MEuropa,MGanymede,MCallisto,0],[9,10,11,12,13,14,15],'Callisto','Sun',GMSun)\n",
    "plt.plot(times/365.24,(xerr)*1e6/4.5,\"d\")\n",
    "plt.ylabel(\"Number of pixels\")\n",
    "plt.xlabel(\"t in Years\")"
   ]
  },
  {
   "cell_type": "code",
   "execution_count": null,
   "metadata": {},
   "outputs": [],
   "source": [
    "%%time\n",
    "Furnisher('310+341+435')\n",
    "MJupiter = (GMJupiterB-GMIo-GMEuropa-GMGanymede-GMCallisto)/GMSun\n",
    "xerr,yerr,times,distance,x,y = ErrorSource(['1','2','3','4','6','7','8','Jupiter','Europa','Ganymede','Callisto','Ananke'],[MMercuryB,MVenusB,MEarthB,MMarsB,MSaturnB,MUranusB,MNeptuneB,MJupiter,MEuropa,MGanymede,MCallisto,0],[9,10,11,12,13,14,15],'Callisto','Sun')\n",
    "plt.plot(times/365.24,(xerr)*1e6/4.5,\"d\")\n",
    "plt.ylabel(\"Number of pixels\")\n",
    "plt.xlabel(\"t in Years\")"
   ]
  },
  {
   "cell_type": "markdown",
   "metadata": {},
   "source": [
    "We see that removing Io from the Jovian system significantly affects the position of Callisto. This means that we cannot just remove some satellites and expect the integrator to work, as the satellites perturb each other. Removing one will change the orbit of others and the total perturbatios on Ananke will be different. Now we try to integrate with the barycenter of Jupiter, without the satellites and just Ananke which is massless and compute the result"
   ]
  },
  {
   "cell_type": "code",
   "execution_count": null,
   "metadata": {},
   "outputs": [],
   "source": [
    "%%time\n",
    "Furnisher('310+341+435')\n",
    "MJupiter = (GMJupiterB)/GMSun\n",
    "xerr,yerr,times,distance,x,y = ErrorSource(['1','2','3','4','6','7','8','5','Ananke'],[MMercuryB,MVenusB,MEarthB,MMarsB,MSaturnB,MUranusB,MNeptuneB,MJupiter,0],[9],'Ananke','5',GMSun)\n",
    "plt.plot(times/365.24,(xerr)*1e6/4.5,\"d\")\n",
    "plt.ylabel(\"Number of pixels\")\n",
    "plt.xlabel(\"t in Years\")"
   ]
  },
  {
   "cell_type": "markdown",
   "metadata": {},
   "source": [
    "Simulating Ananke presents a trade-off between accuracy and run time. A less accurate estimate with accuracy close to 3 pixels can be provided by using only the Jupiter barycenter and thus not accounting for pertrubations from Callisto and the other satellites. This estimate will take 1.1s. A more acccurate estimate with accuracy close to 1 pixel will need 25s of integration and include the Jovian system moons."
   ]
  },
  {
   "cell_type": "markdown",
   "metadata": {},
   "source": [
    "Test to see if removing the satellites from the system improves runtime. Error increases by 1 pixel and runtime is improved by a factor of 3 for the short integration."
   ]
  },
  {
   "cell_type": "code",
   "execution_count": null,
   "metadata": {},
   "outputs": [],
   "source": [
    "%%time\n",
    "Furnisher('310+341+435')\n",
    "MJupiter = (GMJupiterB)/GMSun\n",
    "xerr,yerr,times,distance,x,y = ErrorSource(['6','7','8','5','Ananke'],[MSaturnB,MUranusB,MNeptuneB,MJupiter,0],[5],'Ananke','5',GMSun)\n",
    "plt.plot(times/365.24,(xerr)*1e6/4.5,\"d\")\n",
    "plt.ylabel(\"Number of pixels\")\n",
    "plt.xlabel(\"t in Years\")"
   ]
  },
  {
   "cell_type": "markdown",
   "metadata": {},
   "source": [
    "Same test for long integration. The effect is similar. Runtime is reduced by a factor of two while two pixels are added to the error."
   ]
  },
  {
   "cell_type": "code",
   "execution_count": null,
   "metadata": {},
   "outputs": [],
   "source": [
    "%%time\n",
    "Furnisher('310+341+435')\n",
    "MJupiter = (GMJupiterB-GMIo-GMEuropa-GMGanymede-GMCallisto)/GMSun\n",
    "xerr,yerr,times,distance,x,y = ErrorSource(['6','7','8','Jupiter','Io','Europa','Ganymede','Callisto','Ananke'],[MSaturnB,MUranusB,MNeptuneB,MJupiter,MIo,MEuropa,MGanymede,MCallisto,0],[9,10,11,12,13,14,15],'Ananke','5',GMSun)\n",
    "plt.plot(times/365.24,(xerr)*1e6/4.5,\"d\")\n",
    "plt.ylabel(\"Number of pixels\")\n",
    "plt.xlabel(\"t in Years\")"
   ]
  },
  {
   "cell_type": "markdown",
   "metadata": {},
   "source": [
    "If we instead add the masses of the satellites to the Sun and also change G to reflect the higher mass of the sun we get almost the same results as if we just remove the inner satellites. We lose a pixel and runtime is reduced by a factor of 3."
   ]
  },
  {
   "cell_type": "code",
   "execution_count": null,
   "metadata": {},
   "outputs": [],
   "source": [
    "%%time\n",
    "Furnisher('310+341+435')\n",
    "MJupiter = (GMJupiterB)/(GMSun+GMMercuryB+GMVenusB+GMEarthB)\n",
    "MSaturn = (GMSaturnB)/(GMSun+GMMercuryB+GMVenusB+GMEarthB)\n",
    "MUranus = (GMUranusB)/(GMSun+GMMercuryB+GMVenusB+GMEarthB)\n",
    "MNeptune = (GMNeptuneB)/(GMSun+GMMercuryB+GMVenusB+GMEarthB)\n",
    "gmSun = (GMSun+GMMercuryB+GMVenusB+GMEarthB)\n",
    "\n",
    "xerr,yerr,times,distance,x,y = ErrorSource(['6','7','8','5','Ananke'],[MSaturn,MUranus,MNeptune,MJupiter,0],[5],'Ananke','5',gmSun)\n",
    "plt.plot(times/365.24,(xerr)*1e6/4.5,\"d\")\n",
    "plt.ylabel(\"Number of pixels\")\n",
    "plt.xlabel(\"t in Years\")"
   ]
  },
  {
   "cell_type": "markdown",
   "metadata": {},
   "source": [
    "The effect is similar with the plot above. We lose two pixels and runtime is cut to a half. Interestingly there doesn't seem to be much difference between just removing the inner planets, and adding them to the Sun while increasing G respectively."
   ]
  },
  {
   "cell_type": "code",
   "execution_count": null,
   "metadata": {},
   "outputs": [],
   "source": [
    "%%time\n",
    "Furnisher('310+341+435')\n",
    "MSaturn = (GMSaturnB)/(GMSun+GMMercuryB+GMVenusB+GMEarthB)\n",
    "MUranus = (GMUranusB)/(GMSun+GMMercuryB+GMVenusB+GMEarthB)\n",
    "MNeptune = (GMNeptuneB)/(GMSun+GMMercuryB+GMVenusB+GMEarthB)\n",
    "gmSun = (GMSun+GMMercuryB+GMVenusB+GMEarthB)\n",
    "MJupiter = (GMJupiterB-GMIo-GMEuropa-GMGanymede-GMCallisto)/(GMSun+GMMercuryB+GMVenusB+GMEarthB)\n",
    "MIo2 = GMIo/(GMSun+GMMercuryB+GMVenusB+GMEarthB)\n",
    "MEuropa2 = GMEuropa/(GMSun+GMMercuryB+GMVenusB+GMEarthB)\n",
    "MGanymede2 = GMGanymede/(GMSun+GMMercuryB+GMVenusB+GMEarthB)\n",
    "MCallisto2 = GMCallisto/(GMSun+GMMercuryB+GMVenusB+GMEarthB)\n",
    "xerr,yerr,times,distance,x,y = ErrorSource(['6','7','8','Jupiter','Io','Europa','Ganymede','Callisto','Ananke'],[MSaturn,MUranus,MNeptune,MJupiter,MIo2,MEuropa2,MGanymede2,MCallisto2,0],[9,10,11,12,13,14,15],'Ananke','5',gmSun)\n",
    "plt.plot(times/365.24,(xerr)*1e6/4.5,\"d\")\n",
    "plt.ylabel(\"Number of pixels\")\n",
    "plt.xlabel(\"t in Years\")"
   ]
  },
  {
   "cell_type": "code",
   "execution_count": null,
   "metadata": {},
   "outputs": [],
   "source": []
  }
 ],
 "metadata": {
  "kernelspec": {
   "display_name": "Python 3",
   "language": "python",
   "name": "python3"
  },
  "language_info": {
   "codemirror_mode": {
    "name": "ipython",
    "version": 3
   },
   "file_extension": ".py",
   "mimetype": "text/x-python",
   "name": "python",
   "nbconvert_exporter": "python",
   "pygments_lexer": "ipython3",
   "version": "3.6.7"
  }
 },
 "nbformat": 4,
 "nbformat_minor": 2
}

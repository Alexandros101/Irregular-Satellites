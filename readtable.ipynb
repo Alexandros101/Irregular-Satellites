{
 "cells": [
  {
   "cell_type": "code",
   "execution_count": 1,
   "metadata": {},
   "outputs": [],
   "source": [
    "import numpy as np\n",
    "import pandas as pd"
   ]
  },
  {
   "cell_type": "markdown",
   "metadata": {},
   "source": [
    "# Names\n",
    "\n",
    "UV = UV-of-pointing-center(same as RA,Dec)\n",
    "obseq = heliocentric_position_of_observatory_in_equatorial\n",
    "obsecl = heliocentric_position_of_observatory_in_ecliptic_coords"
   ]
  },
  {
   "cell_type": "code",
   "execution_count": 15,
   "metadata": {},
   "outputs": [
    {
     "data": {
      "text/html": [
       "<div>\n",
       "<style scoped>\n",
       "    .dataframe tbody tr th:only-of-type {\n",
       "        vertical-align: middle;\n",
       "    }\n",
       "\n",
       "    .dataframe tbody tr th {\n",
       "        vertical-align: top;\n",
       "    }\n",
       "\n",
       "    .dataframe thead th {\n",
       "        text-align: right;\n",
       "    }\n",
       "</style>\n",
       "<table border=\"1\" class=\"dataframe\">\n",
       "  <thead>\n",
       "    <tr style=\"text-align: right;\">\n",
       "      <th></th>\n",
       "      <th>ID</th>\n",
       "      <th>smf-name</th>\n",
       "      <th>smf-filepath</th>\n",
       "      <th>reduction</th>\n",
       "      <th>JDUTC</th>\n",
       "      <th>RA</th>\n",
       "      <th>Dec</th>\n",
       "      <th>filter</th>\n",
       "      <th>exp-time</th>\n",
       "      <th>UVx</th>\n",
       "      <th>UVy</th>\n",
       "      <th>UVz</th>\n",
       "      <th>obseqx</th>\n",
       "      <th>obseqy</th>\n",
       "      <th>obseqz</th>\n",
       "      <th>obseclx</th>\n",
       "      <th>obseclsy</th>\n",
       "      <th>obseclz</th>\n",
       "    </tr>\n",
       "  </thead>\n",
       "  <tbody>\n",
       "    <tr>\n",
       "      <th>0</th>\n",
       "      <td>0</td>\n",
       "      <td>c5799g0009o.382218.cm</td>\n",
       "      <td>./ps1-md-cat/gpc1/MD08.nt/2011/08/26/c5799g00...</td>\n",
       "      <td>PS1_V3</td>\n",
       "      <td>2.455800e+06</td>\n",
       "      <td>242.807571</td>\n",
       "      <td>54.947668</td>\n",
       "      <td>z.00000</td>\n",
       "      <td>20.0</td>\n",
       "      <td>-0.2624549840303027</td>\n",
       "      <td>-0.510848</td>\n",
       "      <td>0.8186278176327476</td>\n",
       "      <td>0.8967645536185523</td>\n",
       "      <td>-0.427808</td>\n",
       "      <td>-0.1854318281609032</td>\n",
       "      <td>0.8967645536185523</td>\n",
       "      <td>-0.466267</td>\n",
       "      <td>0.0000420317794415</td>\n",
       "    </tr>\n",
       "    <tr>\n",
       "      <th>1</th>\n",
       "      <td>1</td>\n",
       "      <td>c5799g0010o.382219.cm</td>\n",
       "      <td>./ps1-md-cat/gpc1/MD08.nt/2011/08/26/c5799g00...</td>\n",
       "      <td>PS1_V3</td>\n",
       "      <td>2.455800e+06</td>\n",
       "      <td>242.807522</td>\n",
       "      <td>54.947666</td>\n",
       "      <td>z.00000</td>\n",
       "      <td>20.0</td>\n",
       "      <td>-0.2624554339718373</td>\n",
       "      <td>-0.510848</td>\n",
       "      <td>0.8186277975850442</td>\n",
       "      <td>0.8967714112353528</td>\n",
       "      <td>-0.427796</td>\n",
       "      <td>-0.1854265874283047</td>\n",
       "      <td>0.8967714112353528</td>\n",
       "      <td>-0.466254</td>\n",
       "      <td>0.0000420273190900</td>\n",
       "    </tr>\n",
       "  </tbody>\n",
       "</table>\n",
       "</div>"
      ],
      "text/plain": [
       "   ID                smf-name  \\\n",
       "0   0   c5799g0009o.382218.cm   \n",
       "1   1   c5799g0010o.382219.cm   \n",
       "\n",
       "                                        smf-filepath reduction         JDUTC  \\\n",
       "0   ./ps1-md-cat/gpc1/MD08.nt/2011/08/26/c5799g00...    PS1_V3  2.455800e+06   \n",
       "1   ./ps1-md-cat/gpc1/MD08.nt/2011/08/26/c5799g00...    PS1_V3  2.455800e+06   \n",
       "\n",
       "           RA        Dec    filter  exp-time                  UVx       UVy  \\\n",
       "0  242.807571  54.947668   z.00000      20.0  -0.2624549840303027 -0.510848   \n",
       "1  242.807522  54.947666   z.00000      20.0  -0.2624554339718373 -0.510848   \n",
       "\n",
       "                  UVz              obseqx    obseqy               obseqz  \\\n",
       "0  0.8186278176327476  0.8967645536185523 -0.427808  -0.1854318281609032   \n",
       "1  0.8186277975850442  0.8967714112353528 -0.427796  -0.1854265874283047   \n",
       "\n",
       "              obseclx  obseclsy             obseclz  \n",
       "0  0.8967645536185523 -0.466267  0.0000420317794415  \n",
       "1  0.8967714112353528 -0.466254  0.0000420273190900  "
      ]
     },
     "execution_count": 15,
     "metadata": {},
     "output_type": "execute_result"
    }
   ],
   "source": [
    "def strip(x):\n",
    "    temp = x.strip(\" [\")\n",
    "    return temp.strip(\"]\")\n",
    "names = ['ID', 'smf-name', 'smf-filepath', 'reduction', 'JDUTC', 'RA', 'Dec', 'filter', 'exp-time', 'UVx', 'UVy', 'UVz', 'obseqx', 'obseqy', 'obseqz', 'obseclx', 'obseclsy', 'obseclz']\n",
    "df = pd.read_csv(\"/Users/dtamayo/Downloads/amalgamated_unique_exposure_reads.txt\", names = names, converters={col : strip for col in ['UVx', 'UVz', 'obseqx', 'obseqz', 'obseclx', 'obseclz']})\n",
    "df.head()"
   ]
  },
  {
   "cell_type": "code",
   "execution_count": null,
   "metadata": {},
   "outputs": [],
   "source": []
  }
 ],
 "metadata": {
  "kernelspec": {
   "display_name": "Python 3",
   "language": "python",
   "name": "python3"
  },
  "language_info": {
   "codemirror_mode": {
    "name": "ipython",
    "version": 3
   },
   "file_extension": ".py",
   "mimetype": "text/x-python",
   "name": "python",
   "nbconvert_exporter": "python",
   "pygments_lexer": "ipython3",
   "version": "3.7.1"
  }
 },
 "nbformat": 4,
 "nbformat_minor": 2
}
